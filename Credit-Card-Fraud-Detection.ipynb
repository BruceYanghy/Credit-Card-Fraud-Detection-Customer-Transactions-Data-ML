{
 "cells": [
  {
   "cell_type": "markdown",
   "metadata": {},
   "source": [
    "# Import libraries"
   ]
  },
  {
   "cell_type": "code",
   "execution_count": 3,
   "metadata": {},
   "outputs": [],
   "source": [
    "import warnings\n",
    "warnings.filterwarnings('ignore')\n",
    "import json\n",
    "import time\n",
    "import datetime\n",
    "import numpy as np\n",
    "import pandas as pd\n",
    "import seaborn as sns\n",
    "import matplotlib.pyplot as plt\n",
    "from sklearn.utils import shuffle\n",
    "from keras import Sequential\n",
    "from keras.layers import Dense\n",
    "from keras.models import load_model\n",
    "from keras.wrappers.scikit_learn import KerasClassifier\n",
    "from joblib import dump, load \n",
    "from imblearn.over_sampling import SMOTE\n",
    "from sklearn.metrics import accuracy_score\n",
    "from sklearn.model_selection import cross_val_score\n",
    "from sklearn.preprocessing import StandardScaler\n",
    "from sklearn.linear_model import LogisticRegression\n",
    "from sklearn.model_selection import KFold, StratifiedKFold, GridSearchCV, RandomizedSearchCV\n",
    "from sklearn.metrics import classification_report, confusion_matrix\n",
    "from imblearn.pipeline import make_pipeline as imbalanced_make_pipeline"
   ]
  },
  {
   "cell_type": "markdown",
   "metadata": {},
   "source": [
    "# 1. Load Data"
   ]
  },
  {
   "cell_type": "code",
   "execution_count": 4,
   "metadata": {},
   "outputs": [],
   "source": [
    "#read in samples in JSON/dictionary format one by one,  append each one to a list \n",
    "dict_list=[]\n",
    "with open('transactions.txt', encoding='utf-8') as file:\n",
    "    for sample in file:\n",
    "        dict_list.append(json.loads(sample))\n",
    "        \n",
    "#Creating dataframe from list of dictionary object.        \n",
    "transactions_data = pd.DataFrame.from_dict(dict_list, orient='columns')"
   ]
  },
  {
   "cell_type": "code",
   "execution_count": 10,
   "metadata": {},
   "outputs": [
    {
     "name": "stdout",
     "output_type": "stream",
     "text": [
      "The number of records:  641914\n",
      "The number of columns:  29\n"
     ]
    }
   ],
   "source": [
    "print('The number of records: ', transactions_data.shape[0])\n",
    "print('The number of columns: ', transactions_data.shape[1])"
   ]
  },
  {
   "cell_type": "code",
   "execution_count": 11,
   "metadata": {},
   "outputs": [
    {
     "data": {
      "text/plain": [
       "Index(['accountNumber', 'customerId', 'creditLimit', 'availableMoney',\n",
       "       'transactionDateTime', 'transactionAmount', 'merchantName',\n",
       "       'acqCountry', 'merchantCountryCode', 'posEntryMode', 'posConditionCode',\n",
       "       'merchantCategoryCode', 'currentExpDate', 'accountOpenDate',\n",
       "       'dateOfLastAddressChange', 'cardCVV', 'enteredCVV', 'cardLast4Digits',\n",
       "       'transactionType', 'isFraud', 'echoBuffer', 'currentBalance',\n",
       "       'merchantCity', 'merchantState', 'merchantZip', 'cardPresent',\n",
       "       'posOnPremises', 'recurringAuthInd', 'expirationDateKeyInMatch'],\n",
       "      dtype='object')"
      ]
     },
     "execution_count": 11,
     "metadata": {},
     "output_type": "execute_result"
    }
   ],
   "source": [
    "transactions_data.columns"
   ]
  },
  {
   "cell_type": "code",
   "execution_count": 12,
   "metadata": {},
   "outputs": [
    {
     "data": {
      "text/html": [
       "<div>\n",
       "<style scoped>\n",
       "    .dataframe tbody tr th:only-of-type {\n",
       "        vertical-align: middle;\n",
       "    }\n",
       "\n",
       "    .dataframe tbody tr th {\n",
       "        vertical-align: top;\n",
       "    }\n",
       "\n",
       "    .dataframe thead th {\n",
       "        text-align: right;\n",
       "    }\n",
       "</style>\n",
       "<table border=\"1\" class=\"dataframe\">\n",
       "  <thead>\n",
       "    <tr style=\"text-align: right;\">\n",
       "      <th></th>\n",
       "      <th>accountNumber</th>\n",
       "      <th>customerId</th>\n",
       "      <th>creditLimit</th>\n",
       "      <th>availableMoney</th>\n",
       "      <th>transactionDateTime</th>\n",
       "      <th>transactionAmount</th>\n",
       "      <th>merchantName</th>\n",
       "      <th>acqCountry</th>\n",
       "      <th>merchantCountryCode</th>\n",
       "      <th>posEntryMode</th>\n",
       "      <th>...</th>\n",
       "      <th>isFraud</th>\n",
       "      <th>echoBuffer</th>\n",
       "      <th>currentBalance</th>\n",
       "      <th>merchantCity</th>\n",
       "      <th>merchantState</th>\n",
       "      <th>merchantZip</th>\n",
       "      <th>cardPresent</th>\n",
       "      <th>posOnPremises</th>\n",
       "      <th>recurringAuthInd</th>\n",
       "      <th>expirationDateKeyInMatch</th>\n",
       "    </tr>\n",
       "  </thead>\n",
       "  <tbody>\n",
       "    <tr>\n",
       "      <th>0</th>\n",
       "      <td>733493772</td>\n",
       "      <td>733493772</td>\n",
       "      <td>5000.0</td>\n",
       "      <td>5000.00</td>\n",
       "      <td>2016-01-08T19:04:50</td>\n",
       "      <td>111.33</td>\n",
       "      <td>Lyft</td>\n",
       "      <td>US</td>\n",
       "      <td>US</td>\n",
       "      <td>05</td>\n",
       "      <td>...</td>\n",
       "      <td>True</td>\n",
       "      <td></td>\n",
       "      <td>0.00</td>\n",
       "      <td></td>\n",
       "      <td></td>\n",
       "      <td></td>\n",
       "      <td>False</td>\n",
       "      <td></td>\n",
       "      <td></td>\n",
       "      <td>False</td>\n",
       "    </tr>\n",
       "    <tr>\n",
       "      <th>1</th>\n",
       "      <td>733493772</td>\n",
       "      <td>733493772</td>\n",
       "      <td>5000.0</td>\n",
       "      <td>4888.67</td>\n",
       "      <td>2016-01-09T22:32:39</td>\n",
       "      <td>24.75</td>\n",
       "      <td>Uber</td>\n",
       "      <td>US</td>\n",
       "      <td>US</td>\n",
       "      <td>09</td>\n",
       "      <td>...</td>\n",
       "      <td>False</td>\n",
       "      <td></td>\n",
       "      <td>111.33</td>\n",
       "      <td></td>\n",
       "      <td></td>\n",
       "      <td></td>\n",
       "      <td>False</td>\n",
       "      <td></td>\n",
       "      <td></td>\n",
       "      <td>False</td>\n",
       "    </tr>\n",
       "    <tr>\n",
       "      <th>2</th>\n",
       "      <td>733493772</td>\n",
       "      <td>733493772</td>\n",
       "      <td>5000.0</td>\n",
       "      <td>4863.92</td>\n",
       "      <td>2016-01-11T13:36:55</td>\n",
       "      <td>187.40</td>\n",
       "      <td>Lyft</td>\n",
       "      <td>US</td>\n",
       "      <td>US</td>\n",
       "      <td>05</td>\n",
       "      <td>...</td>\n",
       "      <td>False</td>\n",
       "      <td></td>\n",
       "      <td>136.08</td>\n",
       "      <td></td>\n",
       "      <td></td>\n",
       "      <td></td>\n",
       "      <td>False</td>\n",
       "      <td></td>\n",
       "      <td></td>\n",
       "      <td>False</td>\n",
       "    </tr>\n",
       "    <tr>\n",
       "      <th>3</th>\n",
       "      <td>733493772</td>\n",
       "      <td>733493772</td>\n",
       "      <td>5000.0</td>\n",
       "      <td>4676.52</td>\n",
       "      <td>2016-01-11T22:47:46</td>\n",
       "      <td>227.34</td>\n",
       "      <td>Lyft</td>\n",
       "      <td>US</td>\n",
       "      <td>US</td>\n",
       "      <td>02</td>\n",
       "      <td>...</td>\n",
       "      <td>True</td>\n",
       "      <td></td>\n",
       "      <td>323.48</td>\n",
       "      <td></td>\n",
       "      <td></td>\n",
       "      <td></td>\n",
       "      <td>False</td>\n",
       "      <td></td>\n",
       "      <td></td>\n",
       "      <td>False</td>\n",
       "    </tr>\n",
       "    <tr>\n",
       "      <th>4</th>\n",
       "      <td>733493772</td>\n",
       "      <td>733493772</td>\n",
       "      <td>5000.0</td>\n",
       "      <td>4449.18</td>\n",
       "      <td>2016-01-16T01:41:11</td>\n",
       "      <td>0.00</td>\n",
       "      <td>Lyft</td>\n",
       "      <td>US</td>\n",
       "      <td>US</td>\n",
       "      <td>02</td>\n",
       "      <td>...</td>\n",
       "      <td>False</td>\n",
       "      <td></td>\n",
       "      <td>550.82</td>\n",
       "      <td></td>\n",
       "      <td></td>\n",
       "      <td></td>\n",
       "      <td>False</td>\n",
       "      <td></td>\n",
       "      <td></td>\n",
       "      <td>False</td>\n",
       "    </tr>\n",
       "  </tbody>\n",
       "</table>\n",
       "<p>5 rows × 29 columns</p>\n",
       "</div>"
      ],
      "text/plain": [
       "  accountNumber customerId  creditLimit  availableMoney  transactionDateTime  \\\n",
       "0     733493772  733493772       5000.0         5000.00  2016-01-08T19:04:50   \n",
       "1     733493772  733493772       5000.0         4888.67  2016-01-09T22:32:39   \n",
       "2     733493772  733493772       5000.0         4863.92  2016-01-11T13:36:55   \n",
       "3     733493772  733493772       5000.0         4676.52  2016-01-11T22:47:46   \n",
       "4     733493772  733493772       5000.0         4449.18  2016-01-16T01:41:11   \n",
       "\n",
       "   transactionAmount merchantName acqCountry merchantCountryCode posEntryMode  \\\n",
       "0             111.33         Lyft         US                  US           05   \n",
       "1              24.75         Uber         US                  US           09   \n",
       "2             187.40         Lyft         US                  US           05   \n",
       "3             227.34         Lyft         US                  US           02   \n",
       "4               0.00         Lyft         US                  US           02   \n",
       "\n",
       "   ... isFraud echoBuffer currentBalance merchantCity merchantState  \\\n",
       "0  ...    True                      0.00                              \n",
       "1  ...   False                    111.33                              \n",
       "2  ...   False                    136.08                              \n",
       "3  ...    True                    323.48                              \n",
       "4  ...   False                    550.82                              \n",
       "\n",
       "  merchantZip cardPresent posOnPremises recurringAuthInd  \\\n",
       "0                   False                                  \n",
       "1                   False                                  \n",
       "2                   False                                  \n",
       "3                   False                                  \n",
       "4                   False                                  \n",
       "\n",
       "   expirationDateKeyInMatch  \n",
       "0                     False  \n",
       "1                     False  \n",
       "2                     False  \n",
       "3                     False  \n",
       "4                     False  \n",
       "\n",
       "[5 rows x 29 columns]"
      ]
     },
     "execution_count": 12,
     "metadata": {},
     "output_type": "execute_result"
    }
   ],
   "source": [
    "transactions_data.head()"
   ]
  },
  {
   "cell_type": "code",
   "execution_count": 13,
   "metadata": {},
   "outputs": [
    {
     "name": "stdout",
     "output_type": "stream",
     "text": [
      "accountNumber                object\n",
      "customerId                   object\n",
      "creditLimit                 float64\n",
      "availableMoney              float64\n",
      "transactionDateTime          object\n",
      "transactionAmount           float64\n",
      "merchantName                 object\n",
      "acqCountry                   object\n",
      "merchantCountryCode          object\n",
      "posEntryMode                 object\n",
      "posConditionCode             object\n",
      "merchantCategoryCode         object\n",
      "currentExpDate               object\n",
      "accountOpenDate              object\n",
      "dateOfLastAddressChange      object\n",
      "cardCVV                      object\n",
      "enteredCVV                   object\n",
      "cardLast4Digits              object\n",
      "transactionType              object\n",
      "isFraud                        bool\n",
      "echoBuffer                   object\n",
      "currentBalance              float64\n",
      "merchantCity                 object\n",
      "merchantState                object\n",
      "merchantZip                  object\n",
      "cardPresent                    bool\n",
      "posOnPremises                object\n",
      "recurringAuthInd             object\n",
      "expirationDateKeyInMatch       bool\n",
      "dtype: object\n"
     ]
    }
   ],
   "source": [
    "# check variables types\n",
    "print(transactions_data.dtypes)"
   ]
  },
  {
   "cell_type": "code",
   "execution_count": 14,
   "metadata": {},
   "outputs": [
    {
     "data": {
      "text/html": [
       "<div>\n",
       "<style scoped>\n",
       "    .dataframe tbody tr th:only-of-type {\n",
       "        vertical-align: middle;\n",
       "    }\n",
       "\n",
       "    .dataframe tbody tr th {\n",
       "        vertical-align: top;\n",
       "    }\n",
       "\n",
       "    .dataframe thead th {\n",
       "        text-align: right;\n",
       "    }\n",
       "</style>\n",
       "<table border=\"1\" class=\"dataframe\">\n",
       "  <thead>\n",
       "    <tr style=\"text-align: right;\">\n",
       "      <th></th>\n",
       "      <th>creditLimit</th>\n",
       "      <th>availableMoney</th>\n",
       "      <th>transactionAmount</th>\n",
       "      <th>currentBalance</th>\n",
       "    </tr>\n",
       "  </thead>\n",
       "  <tbody>\n",
       "    <tr>\n",
       "      <th>count</th>\n",
       "      <td>641914.000000</td>\n",
       "      <td>641914.000000</td>\n",
       "      <td>641914.000000</td>\n",
       "      <td>641914.000000</td>\n",
       "    </tr>\n",
       "    <tr>\n",
       "      <th>mean</th>\n",
       "      <td>10697.210608</td>\n",
       "      <td>6652.828573</td>\n",
       "      <td>135.162497</td>\n",
       "      <td>4044.382035</td>\n",
       "    </tr>\n",
       "    <tr>\n",
       "      <th>std</th>\n",
       "      <td>11460.359133</td>\n",
       "      <td>9227.132275</td>\n",
       "      <td>147.053302</td>\n",
       "      <td>5945.510224</td>\n",
       "    </tr>\n",
       "    <tr>\n",
       "      <th>min</th>\n",
       "      <td>250.000000</td>\n",
       "      <td>-1244.930000</td>\n",
       "      <td>0.000000</td>\n",
       "      <td>0.000000</td>\n",
       "    </tr>\n",
       "    <tr>\n",
       "      <th>25%</th>\n",
       "      <td>5000.000000</td>\n",
       "      <td>1114.970000</td>\n",
       "      <td>32.320000</td>\n",
       "      <td>502.442500</td>\n",
       "    </tr>\n",
       "    <tr>\n",
       "      <th>50%</th>\n",
       "      <td>7500.000000</td>\n",
       "      <td>3578.165000</td>\n",
       "      <td>85.800000</td>\n",
       "      <td>2151.860000</td>\n",
       "    </tr>\n",
       "    <tr>\n",
       "      <th>75%</th>\n",
       "      <td>15000.000000</td>\n",
       "      <td>8169.185000</td>\n",
       "      <td>189.030000</td>\n",
       "      <td>5005.890000</td>\n",
       "    </tr>\n",
       "    <tr>\n",
       "      <th>max</th>\n",
       "      <td>50000.000000</td>\n",
       "      <td>50000.000000</td>\n",
       "      <td>1825.250000</td>\n",
       "      <td>47496.500000</td>\n",
       "    </tr>\n",
       "  </tbody>\n",
       "</table>\n",
       "</div>"
      ],
      "text/plain": [
       "         creditLimit  availableMoney  transactionAmount  currentBalance\n",
       "count  641914.000000   641914.000000      641914.000000   641914.000000\n",
       "mean    10697.210608     6652.828573         135.162497     4044.382035\n",
       "std     11460.359133     9227.132275         147.053302     5945.510224\n",
       "min       250.000000    -1244.930000           0.000000        0.000000\n",
       "25%      5000.000000     1114.970000          32.320000      502.442500\n",
       "50%      7500.000000     3578.165000          85.800000     2151.860000\n",
       "75%     15000.000000     8169.185000         189.030000     5005.890000\n",
       "max     50000.000000    50000.000000        1825.250000    47496.500000"
      ]
     },
     "execution_count": 14,
     "metadata": {},
     "output_type": "execute_result"
    }
   ],
   "source": [
    "transactions_data.describe(include=[np.number])"
   ]
  },
  {
   "cell_type": "code",
   "execution_count": 15,
   "metadata": {},
   "outputs": [
    {
     "data": {
      "text/html": [
       "<div>\n",
       "<style scoped>\n",
       "    .dataframe tbody tr th:only-of-type {\n",
       "        vertical-align: middle;\n",
       "    }\n",
       "\n",
       "    .dataframe tbody tr th {\n",
       "        vertical-align: top;\n",
       "    }\n",
       "\n",
       "    .dataframe thead th {\n",
       "        text-align: right;\n",
       "    }\n",
       "</style>\n",
       "<table border=\"1\" class=\"dataframe\">\n",
       "  <thead>\n",
       "    <tr style=\"text-align: right;\">\n",
       "      <th></th>\n",
       "      <th>accountNumber</th>\n",
       "      <th>customerId</th>\n",
       "      <th>transactionDateTime</th>\n",
       "      <th>merchantName</th>\n",
       "      <th>acqCountry</th>\n",
       "      <th>merchantCountryCode</th>\n",
       "      <th>posEntryMode</th>\n",
       "      <th>posConditionCode</th>\n",
       "      <th>merchantCategoryCode</th>\n",
       "      <th>currentExpDate</th>\n",
       "      <th>...</th>\n",
       "      <th>cardCVV</th>\n",
       "      <th>enteredCVV</th>\n",
       "      <th>cardLast4Digits</th>\n",
       "      <th>transactionType</th>\n",
       "      <th>echoBuffer</th>\n",
       "      <th>merchantCity</th>\n",
       "      <th>merchantState</th>\n",
       "      <th>merchantZip</th>\n",
       "      <th>posOnPremises</th>\n",
       "      <th>recurringAuthInd</th>\n",
       "    </tr>\n",
       "  </thead>\n",
       "  <tbody>\n",
       "    <tr>\n",
       "      <th>count</th>\n",
       "      <td>641914</td>\n",
       "      <td>641914</td>\n",
       "      <td>641914</td>\n",
       "      <td>641914</td>\n",
       "      <td>641914</td>\n",
       "      <td>641914</td>\n",
       "      <td>641914</td>\n",
       "      <td>641914</td>\n",
       "      <td>641914</td>\n",
       "      <td>641914</td>\n",
       "      <td>...</td>\n",
       "      <td>641914</td>\n",
       "      <td>641914</td>\n",
       "      <td>641914</td>\n",
       "      <td>641914</td>\n",
       "      <td>641914</td>\n",
       "      <td>641914</td>\n",
       "      <td>641914</td>\n",
       "      <td>641914</td>\n",
       "      <td>641914</td>\n",
       "      <td>641914</td>\n",
       "    </tr>\n",
       "    <tr>\n",
       "      <th>unique</th>\n",
       "      <td>5000</td>\n",
       "      <td>5000</td>\n",
       "      <td>635472</td>\n",
       "      <td>2493</td>\n",
       "      <td>5</td>\n",
       "      <td>5</td>\n",
       "      <td>6</td>\n",
       "      <td>4</td>\n",
       "      <td>19</td>\n",
       "      <td>165</td>\n",
       "      <td>...</td>\n",
       "      <td>899</td>\n",
       "      <td>980</td>\n",
       "      <td>5134</td>\n",
       "      <td>4</td>\n",
       "      <td>1</td>\n",
       "      <td>1</td>\n",
       "      <td>1</td>\n",
       "      <td>1</td>\n",
       "      <td>1</td>\n",
       "      <td>1</td>\n",
       "    </tr>\n",
       "    <tr>\n",
       "      <th>top</th>\n",
       "      <td>318001076</td>\n",
       "      <td>318001076</td>\n",
       "      <td>2016-12-25T20:18:11</td>\n",
       "      <td>Lyft</td>\n",
       "      <td>US</td>\n",
       "      <td>US</td>\n",
       "      <td>05</td>\n",
       "      <td>01</td>\n",
       "      <td>online_retail</td>\n",
       "      <td>05/2026</td>\n",
       "      <td>...</td>\n",
       "      <td>633</td>\n",
       "      <td>633</td>\n",
       "      <td>1789</td>\n",
       "      <td>PURCHASE</td>\n",
       "      <td></td>\n",
       "      <td></td>\n",
       "      <td></td>\n",
       "      <td></td>\n",
       "      <td></td>\n",
       "      <td></td>\n",
       "    </tr>\n",
       "    <tr>\n",
       "      <th>freq</th>\n",
       "      <td>10034</td>\n",
       "      <td>10034</td>\n",
       "      <td>3</td>\n",
       "      <td>25311</td>\n",
       "      <td>632303</td>\n",
       "      <td>635577</td>\n",
       "      <td>255615</td>\n",
       "      <td>514144</td>\n",
       "      <td>161469</td>\n",
       "      <td>4209</td>\n",
       "      <td>...</td>\n",
       "      <td>11354</td>\n",
       "      <td>11254</td>\n",
       "      <td>10034</td>\n",
       "      <td>608685</td>\n",
       "      <td>641914</td>\n",
       "      <td>641914</td>\n",
       "      <td>641914</td>\n",
       "      <td>641914</td>\n",
       "      <td>641914</td>\n",
       "      <td>641914</td>\n",
       "    </tr>\n",
       "  </tbody>\n",
       "</table>\n",
       "<p>4 rows × 22 columns</p>\n",
       "</div>"
      ],
      "text/plain": [
       "       accountNumber customerId  transactionDateTime merchantName acqCountry  \\\n",
       "count         641914     641914               641914       641914     641914   \n",
       "unique          5000       5000               635472         2493          5   \n",
       "top        318001076  318001076  2016-12-25T20:18:11         Lyft         US   \n",
       "freq           10034      10034                    3        25311     632303   \n",
       "\n",
       "       merchantCountryCode posEntryMode posConditionCode merchantCategoryCode  \\\n",
       "count               641914       641914           641914               641914   \n",
       "unique                   5            6                4                   19   \n",
       "top                     US           05               01        online_retail   \n",
       "freq                635577       255615           514144               161469   \n",
       "\n",
       "       currentExpDate  ... cardCVV enteredCVV cardLast4Digits transactionType  \\\n",
       "count          641914  ...  641914     641914          641914          641914   \n",
       "unique            165  ...     899        980            5134               4   \n",
       "top           05/2026  ...     633        633            1789        PURCHASE   \n",
       "freq             4209  ...   11354      11254           10034          608685   \n",
       "\n",
       "       echoBuffer merchantCity merchantState merchantZip posOnPremises  \\\n",
       "count      641914       641914        641914      641914        641914   \n",
       "unique          1            1             1           1             1   \n",
       "top                                                                      \n",
       "freq       641914       641914        641914      641914        641914   \n",
       "\n",
       "       recurringAuthInd  \n",
       "count            641914  \n",
       "unique                1  \n",
       "top                      \n",
       "freq             641914  \n",
       "\n",
       "[4 rows x 22 columns]"
      ]
     },
     "execution_count": 15,
     "metadata": {},
     "output_type": "execute_result"
    }
   ],
   "source": [
    "transactions_data.describe(include=[np.object])"
   ]
  },
  {
   "cell_type": "code",
   "execution_count": 16,
   "metadata": {},
   "outputs": [
    {
     "data": {
      "text/html": [
       "<div>\n",
       "<style scoped>\n",
       "    .dataframe tbody tr th:only-of-type {\n",
       "        vertical-align: middle;\n",
       "    }\n",
       "\n",
       "    .dataframe tbody tr th {\n",
       "        vertical-align: top;\n",
       "    }\n",
       "\n",
       "    .dataframe thead th {\n",
       "        text-align: right;\n",
       "    }\n",
       "</style>\n",
       "<table border=\"1\" class=\"dataframe\">\n",
       "  <thead>\n",
       "    <tr style=\"text-align: right;\">\n",
       "      <th></th>\n",
       "      <th>isFraud</th>\n",
       "      <th>cardPresent</th>\n",
       "      <th>expirationDateKeyInMatch</th>\n",
       "    </tr>\n",
       "  </thead>\n",
       "  <tbody>\n",
       "    <tr>\n",
       "      <th>count</th>\n",
       "      <td>641914</td>\n",
       "      <td>641914</td>\n",
       "      <td>641914</td>\n",
       "    </tr>\n",
       "    <tr>\n",
       "      <th>unique</th>\n",
       "      <td>2</td>\n",
       "      <td>2</td>\n",
       "      <td>2</td>\n",
       "    </tr>\n",
       "    <tr>\n",
       "      <th>top</th>\n",
       "      <td>False</td>\n",
       "      <td>False</td>\n",
       "      <td>False</td>\n",
       "    </tr>\n",
       "    <tr>\n",
       "      <th>freq</th>\n",
       "      <td>630612</td>\n",
       "      <td>340453</td>\n",
       "      <td>640945</td>\n",
       "    </tr>\n",
       "  </tbody>\n",
       "</table>\n",
       "</div>"
      ],
      "text/plain": [
       "       isFraud cardPresent expirationDateKeyInMatch\n",
       "count   641914      641914                   641914\n",
       "unique       2           2                        2\n",
       "top      False       False                    False\n",
       "freq    630612      340453                   640945"
      ]
     },
     "execution_count": 16,
     "metadata": {},
     "output_type": "execute_result"
    }
   ],
   "source": [
    "transactions_data.describe(exclude=[np.object, np.number])"
   ]
  },
  {
   "cell_type": "code",
   "execution_count": 19,
   "metadata": {},
   "outputs": [
    {
     "data": {
      "text/plain": [
       "Index([], dtype='object')"
      ]
     },
     "execution_count": 19,
     "metadata": {},
     "output_type": "execute_result"
    }
   ],
   "source": [
    "# check missing values\n",
    "transactions_data.columns[transactions_data.isnull().any()]\n",
    "# there is no null values"
   ]
  },
  {
   "cell_type": "code",
   "execution_count": 23,
   "metadata": {},
   "outputs": [
    {
     "name": "stdout",
     "output_type": "stream",
     "text": [
      "Before dropping duplicates, the shape is (641914, 29)\n",
      "After dropping duplicates, the shape is (641914, 29)\n",
      "There are total 0 rows dropped\n"
     ]
    }
   ],
   "source": [
    "# drop duplicates if any\n",
    "rows_original = transactions_data.shape[0] \n",
    "print('Before dropping duplicates, the shape is {}'.format(transactions_data.shape))\n",
    "transactions_data = transactions_data.drop_duplicates()\n",
    "print('After dropping duplicates, the shape is {}'.format(transactions_data.shape))\n",
    "print('There are total {} rows dropped'.format(transactions_data.shape[0] - rows_original))"
   ]
  },
  {
   "cell_type": "markdown",
   "metadata": {},
   "source": [
    "## Variables Study"
   ]
  },
  {
   "cell_type": "code",
   "execution_count": 24,
   "metadata": {},
   "outputs": [],
   "source": [
    "data_df = transactions_data.copy()"
   ]
  },
  {
   "cell_type": "code",
   "execution_count": 25,
   "metadata": {},
   "outputs": [],
   "source": [
    "def target_info(target_column):\n",
    "    '''\n",
    "    Print target column information -- count for each unique values in target column\n",
    "    Input: target column in dataframe\n",
    "    '''\n",
    "    print('There are total {} transactions in our data.'.format(len(target_column)))\n",
    "    print('Is Fraud:')\n",
    "    print('Count: {}'.format(sum(target_column == True)))\n",
    "    print('Proportion: {}'.format(str(round(sum(target_column == True) / len(target_column), 4) * 100) \n",
    "                                  + '%'))\n",
    "    print('Not Fraud:')\n",
    "    print('Count: {}'.format(sum(target_column == False)))\n",
    "    print('Proportion: {}'.format(str(round(sum(target_column == False) / len(target_column), 4) * 100)  \n",
    "                                  + '%'))\n",
    "    plt.figure(figsize=(5, 5))\n",
    "    sns.barplot(x=target_column.value_counts().index, y=target_column.value_counts())\n",
    "    plt.title('Not Fraud vs Is Fraud')\n",
    "    plt.ylabel('Count')"
   ]
  },
  {
   "cell_type": "code",
   "execution_count": 26,
   "metadata": {},
   "outputs": [],
   "source": [
    "def categorical_info(df_column):\n",
    "    '''\n",
    "    Print categorical variable information -- count for each unique values in target column\n",
    "    Input: categorical variable column in dataframe\n",
    "    '''\n",
    "    print('The number of unique values: {}'.format(len(df_column.unique())))\n",
    "    print('Categories:')\n",
    "    print(df_column.value_counts())"
   ]
  },
  {
   "cell_type": "markdown",
   "metadata": {},
   "source": [
    "### **Categorical variables**\n",
    "***"
   ]
  },
  {
   "cell_type": "code",
   "execution_count": 28,
   "metadata": {},
   "outputs": [
    {
     "name": "stdout",
     "output_type": "stream",
     "text": [
      "Checking columns: ['accountNumber', 'customerId', 'transactionDateTime', 'merchantName', 'acqCountry', 'merchantCountryCode', 'posEntryMode', 'posConditionCode', 'merchantCategoryCode', 'currentExpDate', 'accountOpenDate', 'dateOfLastAddressChange', 'cardCVV', 'enteredCVV', 'cardLast4Digits', 'transactionType', 'echoBuffer', 'merchantCity', 'merchantState', 'merchantZip', 'posOnPremises', 'recurringAuthInd'] \n",
      "\n",
      "There are 3913 missing values in acqCountry and the proportion is 0.61%\n",
      "There are 624 missing values in merchantCountryCode and the proportion is 0.1%\n",
      "There are 3345 missing values in posEntryMode and the proportion is 0.52%\n",
      "There are 287 missing values in posConditionCode and the proportion is 0.04%\n",
      "There are 589 missing values in transactionType and the proportion is 0.09%\n",
      "There are 641914 missing values in echoBuffer and the proportion is 100.0%\n",
      "There are 641914 missing values in merchantCity and the proportion is 100.0%\n",
      "There are 641914 missing values in merchantState and the proportion is 100.0%\n",
      "There are 641914 missing values in merchantZip and the proportion is 100.0%\n",
      "There are 641914 missing values in posOnPremises and the proportion is 100.0%\n",
      "There are 641914 missing values in recurringAuthInd and the proportion is 100.0%\n"
     ]
    }
   ],
   "source": [
    "def check_empty_string(df):\n",
    "    '''\n",
    "    Check if object columns contain any empty strings\n",
    "    Input: dataframe\n",
    "    '''\n",
    "    empty_string_column = {}\n",
    "    print('Checking columns: {} \\n'.format(list(df.select_dtypes(include=['object']).columns)))\n",
    "    \n",
    "    for column in df.select_dtypes(include=['object']).columns:\n",
    "        if sum(df[column] == '') != 0:\n",
    "            empty_string_column[column] = sum(df[column] == '')\n",
    "            proportion = round((sum(df[column] == '')/df.shape[0]) * 100, 2)\n",
    "            print('There are {} missing values in {} and the proportion is {}'.format(sum(df[column] == ''), \n",
    "                                                                                      column, \n",
    "                                                                                      str(proportion) + '%'))\n",
    "    return empty_string_column\n",
    "\n",
    "empty_string_column = check_empty_string(data_df)"
   ]
  },
  {
   "cell_type": "code",
   "execution_count": 30,
   "metadata": {},
   "outputs": [
    {
     "name": "stdout",
     "output_type": "stream",
     "text": [
      "Because ['echoBuffer', 'merchantCity', 'merchantState', 'merchantZip', 'posOnPremises', 'recurringAuthInd'] are actually empty, there are 6 columns need to be dropped.\n"
     ]
    }
   ],
   "source": [
    "print('Because {} are actually empty, there are {} columns need to be dropped.'. \\\n",
    "      format([column for column in empty_string_column if empty_string_column[column] == data_df.shape[0]], \n",
    "             len([column for column in empty_string_column if empty_string_column[column] == data_df.shape[0]])))"
   ]
  },
  {
   "cell_type": "code",
   "execution_count": 32,
   "metadata": {},
   "outputs": [
    {
     "name": "stdout",
     "output_type": "stream",
     "text": [
      "Before dropping columns, the shape is (641914, 29)\n",
      "After dropping columns, the shape is (641914, 23)\n"
     ]
    }
   ],
   "source": [
    "print('Before dropping columns, the shape is {}'.format(data_df.shape))\n",
    "data_df = data_df.drop(columns = [column for column in empty_string_column \n",
    "                                         if empty_string_column[column] == data_df.shape[0]])\n",
    "print('After dropping columns, the shape is {}'.format(data_df.shape))"
   ]
  },
  {
   "cell_type": "code",
   "execution_count": 20,
   "metadata": {},
   "outputs": [
    {
     "name": "stdout",
     "output_type": "stream",
     "text": [
      "There are total 641914 transactions in our data.\n",
      "Is Fraud:\n",
      "Count: 11302\n",
      "Proportion: 1.76%\n",
      "Not Fraud:\n",
      "Count: 630612\n",
      "Proportion: 98.24000000000001%\n"
     ]
    },
    {
     "data": {
      "image/png": "[encoded data removed]",
      "text/plain": [
       "<Figure size 360x360 with 1 Axes>"
      ]
     },
     "metadata": {
      "needs_background": "light"
     },
     "output_type": "display_data"
    }
   ],
   "source": [
    "target_info(data_df['isFraud'])"
   ]
  },
  {
   "cell_type": "markdown",
   "metadata": {},
   "source": [
    "### The population distribution of Fraud cases is 1.76%.\n",
    "* It indicates an extermely unbalanced fraud data\n",
    "* We need to use this distribution to analyze each column to see if this column itself contains some information"
   ]
  },
  {
   "cell_type": "markdown",
   "metadata": {},
   "source": [
    "**1. acqCountry** -- used in training\n",
    "- There are 0.61% (< 2%) acqCountry data has empty values.\n",
    "- The propotion of Fraud cases (3.48%) inside the empty acqCountry data are much greather than the population porpotion (1.76%)\n",
    "- The number of empty string value ('') is even higher than 'MEX', 'CAN', and 'PR'\n",
    "- The empty data of acqCountry has some information, we can't drop these data"
   ]
  },
  {
   "cell_type": "code",
   "execution_count": 33,
   "metadata": {},
   "outputs": [
    {
     "name": "stdout",
     "output_type": "stream",
     "text": [
      "The number of unique values: 5\n",
      "Categories:\n",
      "US     632303\n",
      "         3913\n",
      "MEX      2626\n",
      "CAN      1870\n",
      "PR       1202\n",
      "Name: acqCountry, dtype: int64\n"
     ]
    }
   ],
   "source": [
    "categorical_info(data_df['acqCountry'])"
   ]
  },
  {
   "cell_type": "code",
   "execution_count": 34,
   "metadata": {},
   "outputs": [
    {
     "name": "stdout",
     "output_type": "stream",
     "text": [
      "There are total 3913 transactions in our data.\n",
      "Is Fraud:\n",
      "Count: 136\n",
      "Proportion: 3.4799999999999995%\n",
      "Not Fraud:\n",
      "Count: 3777\n",
      "Proportion: 96.52%\n"
     ]
    },
    {
     "data": {
      "image/png": "[encoded data removed]",
      "text/plain": [
       "<matplotlib.figure.Figure at 0x7ff2ef486f60>"
      ]
     },
     "metadata": {
      "needs_background": "light"
     },
     "output_type": "display_data"
    }
   ],
   "source": [
    "target_info(data_df[(data_df.acqCountry == '')]['isFraud'])"
   ]
  },
  {
   "cell_type": "markdown",
   "metadata": {},
   "source": [
    "**2. merchantCountryCode** -- used in training\n",
    "- There are 0.1% (< 2%) merchantCountryCode data has empty values.\n",
    "- The propotion of Fraud cases (12.98%) inside the empty merchantCountryCode data are extremely greather than the population porpotion (1.76%)\n",
    "- The missing data of merchantCountryCode has valuable information, we can't drop these data"
   ]
  },
  {
   "cell_type": "code",
   "execution_count": 35,
   "metadata": {},
   "outputs": [
    {
     "name": "stdout",
     "output_type": "stream",
     "text": [
      "The number of unique values: 5\n",
      "Categories:\n",
      "US     635577\n",
      "MEX      2636\n",
      "CAN      1874\n",
      "PR       1203\n",
      "          624\n",
      "Name: merchantCountryCode, dtype: int64\n"
     ]
    }
   ],
   "source": [
    "categorical_info(data_df['merchantCountryCode'])"
   ]
  },
  {
   "cell_type": "code",
   "execution_count": 36,
   "metadata": {},
   "outputs": [
    {
     "name": "stdout",
     "output_type": "stream",
     "text": [
      "There are total 624 transactions in our data.\n",
      "Is Fraud:\n",
      "Count: 81\n",
      "Proportion: 12.98%\n",
      "Not Fraud:\n",
      "Count: 543\n",
      "Proportion: 87.02%\n"
     ]
    },
    {
     "data": {
      "image/png": "[encoded data removed]",
      "text/plain": [
       "<matplotlib.figure.Figure at 0x7ff2ef486e10>"
      ]
     },
     "metadata": {
      "needs_background": "light"
     },
     "output_type": "display_data"
    }
   ],
   "source": [
    "target_info(data_df[(data_df.merchantCountryCode == '')]['isFraud'])"
   ]
  },
  {
   "cell_type": "markdown",
   "metadata": {},
   "source": [
    "**3. posConditionCode** -- used in training\n",
    "- There are 0.04% (< 2%) posConditionCode data has empty values\n",
    "- The porpotion of Fraud cases (4.53%) inside the empty posConditionCode data are  greather than the population porpotion (1.76%)\n",
    "- The empty data of posConditionCode has some information, we can't drop these data"
   ]
  },
  {
   "cell_type": "code",
   "execution_count": 37,
   "metadata": {},
   "outputs": [
    {
     "name": "stdout",
     "output_type": "stream",
     "text": [
      "The number of unique values: 4\n",
      "Categories:\n",
      "01    514144\n",
      "08    121507\n",
      "99      5976\n",
      "         287\n",
      "Name: posConditionCode, dtype: int64\n"
     ]
    }
   ],
   "source": [
    "categorical_info(data_df['posConditionCode'])"
   ]
  },
  {
   "cell_type": "code",
   "execution_count": 38,
   "metadata": {},
   "outputs": [
    {
     "name": "stdout",
     "output_type": "stream",
     "text": [
      "There are total 287 transactions in our data.\n",
      "Is Fraud:\n",
      "Count: 13\n",
      "Proportion: 4.53%\n",
      "Not Fraud:\n",
      "Count: 274\n",
      "Proportion: 95.47%\n"
     ]
    },
    {
     "data": {
      "image/png": "[encoded data removed]",
      "text/plain": [
       "<matplotlib.figure.Figure at 0x7ff2ef352e80>"
      ]
     },
     "metadata": {
      "needs_background": "light"
     },
     "output_type": "display_data"
    }
   ],
   "source": [
    "target_info(data_df[(data_df.posConditionCode == '')]['isFraud'])"
   ]
  },
  {
   "cell_type": "markdown",
   "metadata": {},
   "source": [
    "**4. posEntryMode** -- used in training\n",
    "- There are 0.52% (< 2%) posEntryMode data has empty values.\n",
    "- The porpotion of Fraud cases (7.71%) inside the empty posEntryMode data are greather than the population porpotion (1.76%)\n",
    "- The empty data of posEntryMode has some information, we can't drop these data\n"
   ]
  },
  {
   "cell_type": "code",
   "execution_count": 39,
   "metadata": {},
   "outputs": [
    {
     "name": "stdout",
     "output_type": "stream",
     "text": [
      "The number of unique values: 6\n",
      "Categories:\n",
      "05    255615\n",
      "09    193193\n",
      "02    160589\n",
      "90     16251\n",
      "80     12921\n",
      "        3345\n",
      "Name: posEntryMode, dtype: int64\n"
     ]
    }
   ],
   "source": [
    "categorical_info(data_df['posEntryMode'])"
   ]
  },
  {
   "cell_type": "code",
   "execution_count": 40,
   "metadata": {},
   "outputs": [
    {
     "name": "stdout",
     "output_type": "stream",
     "text": [
      "There are total 3345 transactions in our data.\n",
      "Is Fraud:\n",
      "Count: 258\n",
      "Proportion: 7.71%\n",
      "Not Fraud:\n",
      "Count: 3087\n",
      "Proportion: 92.29%\n"
     ]
    },
    {
     "data": {
      "image/png": "[encoded data removed]",
      "text/plain": [
       "<matplotlib.figure.Figure at 0x7ff2ef2f4da0>"
      ]
     },
     "metadata": {
      "needs_background": "light"
     },
     "output_type": "display_data"
    }
   ],
   "source": [
    "target_info(data_df[(data_df.posEntryMode == '')]['isFraud'])"
   ]
  },
  {
   "cell_type": "markdown",
   "metadata": {},
   "source": [
    "**5. transactionType** -- used in training\n",
    "- There are 0.09% (< 2%) transactionType data has empty values. \n",
    "- The porpotion of Fraud cases (2.04%) inside the empty posEntryMode data are greather than the population porpotion (1.76%)\n",
    "- The empty data of posEntryMode has some information, we can't drop these data"
   ]
  },
  {
   "cell_type": "code",
   "execution_count": 41,
   "metadata": {},
   "outputs": [
    {
     "name": "stdout",
     "output_type": "stream",
     "text": [
      "The number of unique values: 4\n",
      "Categories:\n",
      "PURCHASE                608685\n",
      "ADDRESS_VERIFICATION     16478\n",
      "REVERSAL                 16162\n",
      "                           589\n",
      "Name: transactionType, dtype: int64\n"
     ]
    }
   ],
   "source": [
    "categorical_info(data_df['transactionType'])"
   ]
  },
  {
   "cell_type": "code",
   "execution_count": 42,
   "metadata": {},
   "outputs": [
    {
     "name": "stdout",
     "output_type": "stream",
     "text": [
      "There are total 8068 transactions in our data.\n",
      "Is Fraud:\n",
      "Count: 410\n",
      "Proportion: 5.08%\n",
      "Not Fraud:\n",
      "Count: 7658\n",
      "Proportion: 94.92%\n"
     ]
    },
    {
     "data": {
      "image/png": "[encoded data removed]",
      "text/plain": [
       "<matplotlib.figure.Figure at 0x7ff2ef2814e0>"
      ]
     },
     "metadata": {
      "needs_background": "light"
     },
     "output_type": "display_data"
    }
   ],
   "source": [
    "#check if distribution of missing_data's label is the same as the total dataset.\n",
    "missing_data = data_df[(data_df.acqCountry == '') | \n",
    "                       (data_df.merchantCountryCode == '') |\n",
    "                       (data_df.posConditionCode == '') |\n",
    "                       (data_df.posEntryMode == '') |\n",
    "                       (data_df.transactionType == '')]\n",
    "target_info(missing_data.isFraud)"
   ]
  },
  {
   "cell_type": "markdown",
   "metadata": {},
   "source": [
    "Let's think more about transactionType: \n",
    "- 'PURCHASE' means that credit card holders are paying money\n",
    "- 'REVERSAL' means that merchants are returning money back to credit card holders\n",
    "\n",
    "Thus, it indicates two different directs for transaction.\n",
    "Let's combine transactionType and transactionAmount, see if we can find some patterns."
   ]
  },
  {
   "cell_type": "code",
   "execution_count": 43,
   "metadata": {},
   "outputs": [
    {
     "data": {
      "text/plain": [
       "count    608685.000000\n",
       "mean        138.715258\n",
       "std         147.307851\n",
       "min           0.000000\n",
       "25%          35.710000\n",
       "50%          89.590000\n",
       "75%         192.810000\n",
       "max        1825.250000\n",
       "Name: transactionAmount, dtype: float64"
      ]
     },
     "execution_count": 43,
     "metadata": {},
     "output_type": "execute_result"
    }
   ],
   "source": [
    "data_df[data_df['transactionType'] == 'PURCHASE']['transactionAmount'].describe()"
   ]
  },
  {
   "cell_type": "code",
   "execution_count": 44,
   "metadata": {},
   "outputs": [
    {
     "data": {
      "text/plain": [
       "count    16162.000000\n",
       "mean       138.777076\n",
       "std        147.747028\n",
       "min          0.000000\n",
       "25%         34.282500\n",
       "50%         91.280000\n",
       "75%        194.825000\n",
       "max       1389.090000\n",
       "Name: transactionAmount, dtype: float64"
      ]
     },
     "execution_count": 44,
     "metadata": {},
     "output_type": "execute_result"
    }
   ],
   "source": [
    "data_df[data_df['transactionType'] == 'REVERSAL']['transactionAmount'].describe()"
   ]
  },
  {
   "cell_type": "code",
   "execution_count": 45,
   "metadata": {},
   "outputs": [
    {
     "data": {
      "text/plain": [
       "count    16478.0\n",
       "mean         0.0\n",
       "std          0.0\n",
       "min          0.0\n",
       "25%          0.0\n",
       "50%          0.0\n",
       "75%          0.0\n",
       "max          0.0\n",
       "Name: transactionAmount, dtype: float64"
      ]
     },
     "execution_count": 45,
     "metadata": {},
     "output_type": "execute_result"
    }
   ],
   "source": [
    "data_df[data_df['transactionType'] == 'ADDRESS_VERIFICATION']['transactionAmount'].describe()"
   ]
  },
  {
   "cell_type": "markdown",
   "metadata": {},
   "source": [
    "We can find that all transactionAmount for 'PURCHASE' and 'REVERSAL' are positive and all transactionAmount for 'ADDRESS_VERIFICATION' is zero. If 'PURCHASE' and 'REVERSAL' directs for transaction, one transactionAmount should be positive and one transactionAmount should be negative, but here are all positive. \n",
    "We may use transactionAmount and availableMoney to find the direction here, then based on the directions, we can impute missing values for transactionType.\n",
    "\n",
    "Define 'PURCHASE' has a negative value, because users are paying some money, and 'REVERSAL' has positive value."
   ]
  },
  {
   "cell_type": "code",
   "execution_count": 46,
   "metadata": {},
   "outputs": [
    {
     "data": {
      "text/plain": [
       "0"
      ]
     },
     "execution_count": 46,
     "metadata": {},
     "output_type": "execute_result"
    }
   ],
   "source": [
    "# fortunately, when transactionType is missing, no transactionAmount is 0,\n",
    "# which means that every missing transactionType should be either 'PURCHASE' or 'REVERSAL'.\n",
    "sum(data_df[data_df['transactionType'] == '']['transactionAmount'] == 0)"
   ]
  },
  {
   "cell_type": "code",
   "execution_count": 47,
   "metadata": {},
   "outputs": [],
   "source": [
    "def direction_detection(df): \n",
    "    '''\n",
    "    Identity direction for each transaction \n",
    "    Input: dataframe group by accountNumber\n",
    "    '''\n",
    "    direction = np.sign(df['availableMoney'][1:].values - df['availableMoney'][:-1].values)\n",
    "    df['direction'] = [*list(direction), *[np.nan]]\n",
    "    direction = df[['direction']]\n",
    "    \n",
    "    return direction"
   ]
  },
  {
   "cell_type": "code",
   "execution_count": 48,
   "metadata": {},
   "outputs": [],
   "source": [
    "def transactionType_match(direction):\n",
    "    '''\n",
    "    Identity transactionType for each transaction \n",
    "    Input: float - direction for each transaction\n",
    "    '''\n",
    "    if direction == float(-1):\n",
    "        return 'PURCHASE'\n",
    "    elif direction == float(1):\n",
    "        return 'REVERSAL'\n",
    "    else:\n",
    "        return ''"
   ]
  },
  {
   "cell_type": "code",
   "execution_count": 49,
   "metadata": {},
   "outputs": [],
   "source": [
    "data_df['direction'] = data_df.groupby('accountNumber').apply(direction_detection)\n",
    "data_df['transactionType'] = data_df.apply(lambda x: transactionType_match(x['direction']) \n",
    "                                           if x['transactionType'] == '' else x['transactionType'],\n",
    "                                           axis = 1)"
   ]
  },
  {
   "cell_type": "code",
   "execution_count": 50,
   "metadata": {},
   "outputs": [
    {
     "data": {
      "text/html": [
       "<div>\n",
       "<style scoped>\n",
       "    .dataframe tbody tr th:only-of-type {\n",
       "        vertical-align: middle;\n",
       "    }\n",
       "\n",
       "    .dataframe tbody tr th {\n",
       "        vertical-align: top;\n",
       "    }\n",
       "\n",
       "    .dataframe thead th {\n",
       "        text-align: right;\n",
       "    }\n",
       "</style>\n",
       "<table border=\"1\" class=\"dataframe\">\n",
       "  <thead>\n",
       "    <tr style=\"text-align: right;\">\n",
       "      <th></th>\n",
       "      <th>accountNumber</th>\n",
       "      <th>customerId</th>\n",
       "      <th>creditLimit</th>\n",
       "      <th>availableMoney</th>\n",
       "      <th>transactionDateTime</th>\n",
       "      <th>transactionAmount</th>\n",
       "      <th>merchantName</th>\n",
       "      <th>acqCountry</th>\n",
       "      <th>merchantCountryCode</th>\n",
       "      <th>posEntryMode</th>\n",
       "      <th>...</th>\n",
       "      <th>dateOfLastAddressChange</th>\n",
       "      <th>cardCVV</th>\n",
       "      <th>enteredCVV</th>\n",
       "      <th>cardLast4Digits</th>\n",
       "      <th>transactionType</th>\n",
       "      <th>isFraud</th>\n",
       "      <th>currentBalance</th>\n",
       "      <th>cardPresent</th>\n",
       "      <th>expirationDateKeyInMatch</th>\n",
       "      <th>direction</th>\n",
       "    </tr>\n",
       "  </thead>\n",
       "  <tbody>\n",
       "    <tr>\n",
       "      <th>26533</th>\n",
       "      <td>850576303</td>\n",
       "      <td>850576303</td>\n",
       "      <td>20000.0</td>\n",
       "      <td>19728.62</td>\n",
       "      <td>2016-11-29T13:19:20</td>\n",
       "      <td>99.98</td>\n",
       "      <td>Dinosaur Sandwitch Bar #160554</td>\n",
       "      <td>US</td>\n",
       "      <td>US</td>\n",
       "      <td>05</td>\n",
       "      <td>...</td>\n",
       "      <td>2012-07-31</td>\n",
       "      <td>512</td>\n",
       "      <td>512</td>\n",
       "      <td>6763</td>\n",
       "      <td></td>\n",
       "      <td>False</td>\n",
       "      <td>271.38</td>\n",
       "      <td>True</td>\n",
       "      <td>False</td>\n",
       "      <td>NaN</td>\n",
       "    </tr>\n",
       "    <tr>\n",
       "      <th>53866</th>\n",
       "      <td>763201731</td>\n",
       "      <td>763201731</td>\n",
       "      <td>2500.0</td>\n",
       "      <td>1013.04</td>\n",
       "      <td>2016-12-30T13:00:02</td>\n",
       "      <td>46.91</td>\n",
       "      <td>gap.com</td>\n",
       "      <td>US</td>\n",
       "      <td>US</td>\n",
       "      <td>02</td>\n",
       "      <td>...</td>\n",
       "      <td>2016-12-02</td>\n",
       "      <td>348</td>\n",
       "      <td>348</td>\n",
       "      <td>4161</td>\n",
       "      <td></td>\n",
       "      <td>False</td>\n",
       "      <td>1486.96</td>\n",
       "      <td>False</td>\n",
       "      <td>False</td>\n",
       "      <td>NaN</td>\n",
       "    </tr>\n",
       "    <tr>\n",
       "      <th>150289</th>\n",
       "      <td>357581317</td>\n",
       "      <td>357581317</td>\n",
       "      <td>5000.0</td>\n",
       "      <td>614.77</td>\n",
       "      <td>2016-12-29T11:06:32</td>\n",
       "      <td>31.83</td>\n",
       "      <td>Renaissance Hotel #825471</td>\n",
       "      <td>US</td>\n",
       "      <td>US</td>\n",
       "      <td>05</td>\n",
       "      <td>...</td>\n",
       "      <td>2014-05-05</td>\n",
       "      <td>260</td>\n",
       "      <td>260</td>\n",
       "      <td>5203</td>\n",
       "      <td></td>\n",
       "      <td>False</td>\n",
       "      <td>4385.23</td>\n",
       "      <td>True</td>\n",
       "      <td>False</td>\n",
       "      <td>NaN</td>\n",
       "    </tr>\n",
       "    <tr>\n",
       "      <th>219589</th>\n",
       "      <td>630199357</td>\n",
       "      <td>630199357</td>\n",
       "      <td>7500.0</td>\n",
       "      <td>6360.32</td>\n",
       "      <td>2016-12-28T22:39:06</td>\n",
       "      <td>87.15</td>\n",
       "      <td>discount.com</td>\n",
       "      <td>US</td>\n",
       "      <td>US</td>\n",
       "      <td>02</td>\n",
       "      <td>...</td>\n",
       "      <td>2015-10-30</td>\n",
       "      <td>793</td>\n",
       "      <td>793</td>\n",
       "      <td>7400</td>\n",
       "      <td></td>\n",
       "      <td>False</td>\n",
       "      <td>1139.68</td>\n",
       "      <td>False</td>\n",
       "      <td>False</td>\n",
       "      <td>NaN</td>\n",
       "    </tr>\n",
       "    <tr>\n",
       "      <th>265070</th>\n",
       "      <td>881835195</td>\n",
       "      <td>881835195</td>\n",
       "      <td>10000.0</td>\n",
       "      <td>10000.00</td>\n",
       "      <td>2016-12-20T11:49:38</td>\n",
       "      <td>407.13</td>\n",
       "      <td>Lyft</td>\n",
       "      <td>US</td>\n",
       "      <td>US</td>\n",
       "      <td>09</td>\n",
       "      <td>...</td>\n",
       "      <td>2015-02-17</td>\n",
       "      <td>402</td>\n",
       "      <td>402</td>\n",
       "      <td>672</td>\n",
       "      <td></td>\n",
       "      <td>False</td>\n",
       "      <td>0.00</td>\n",
       "      <td>False</td>\n",
       "      <td>False</td>\n",
       "      <td>NaN</td>\n",
       "    </tr>\n",
       "    <tr>\n",
       "      <th>625537</th>\n",
       "      <td>456958366</td>\n",
       "      <td>456958366</td>\n",
       "      <td>7500.0</td>\n",
       "      <td>4350.81</td>\n",
       "      <td>2016-12-28T09:49:14</td>\n",
       "      <td>265.52</td>\n",
       "      <td>EZ Putt Putt #551896</td>\n",
       "      <td>US</td>\n",
       "      <td>US</td>\n",
       "      <td>09</td>\n",
       "      <td>...</td>\n",
       "      <td>2014-09-05</td>\n",
       "      <td>601</td>\n",
       "      <td>601</td>\n",
       "      <td>366</td>\n",
       "      <td></td>\n",
       "      <td>False</td>\n",
       "      <td>3149.19</td>\n",
       "      <td>True</td>\n",
       "      <td>False</td>\n",
       "      <td>NaN</td>\n",
       "    </tr>\n",
       "  </tbody>\n",
       "</table>\n",
       "<p>6 rows × 24 columns</p>\n",
       "</div>"
      ],
      "text/plain": [
       "       accountNumber customerId  creditLimit  availableMoney  \\\n",
       "26533      850576303  850576303      20000.0        19728.62   \n",
       "53866      763201731  763201731       2500.0         1013.04   \n",
       "150289     357581317  357581317       5000.0          614.77   \n",
       "219589     630199357  630199357       7500.0         6360.32   \n",
       "265070     881835195  881835195      10000.0        10000.00   \n",
       "625537     456958366  456958366       7500.0         4350.81   \n",
       "\n",
       "        transactionDateTime  transactionAmount  \\\n",
       "26533   2016-11-29T13:19:20              99.98   \n",
       "53866   2016-12-30T13:00:02              46.91   \n",
       "150289  2016-12-29T11:06:32              31.83   \n",
       "219589  2016-12-28T22:39:06              87.15   \n",
       "265070  2016-12-20T11:49:38             407.13   \n",
       "625537  2016-12-28T09:49:14             265.52   \n",
       "\n",
       "                          merchantName acqCountry merchantCountryCode  \\\n",
       "26533   Dinosaur Sandwitch Bar #160554         US                  US   \n",
       "53866                          gap.com         US                  US   \n",
       "150289       Renaissance Hotel #825471         US                  US   \n",
       "219589                    discount.com         US                  US   \n",
       "265070                            Lyft         US                  US   \n",
       "625537            EZ Putt Putt #551896         US                  US   \n",
       "\n",
       "       posEntryMode  ... dateOfLastAddressChange cardCVV enteredCVV  \\\n",
       "26533            05  ...              2012-07-31     512        512   \n",
       "53866            02  ...              2016-12-02     348        348   \n",
       "150289           05  ...              2014-05-05     260        260   \n",
       "219589           02  ...              2015-10-30     793        793   \n",
       "265070           09  ...              2015-02-17     402        402   \n",
       "625537           09  ...              2014-09-05     601        601   \n",
       "\n",
       "       cardLast4Digits transactionType isFraud currentBalance cardPresent  \\\n",
       "26533             6763                   False         271.38        True   \n",
       "53866             4161                   False        1486.96       False   \n",
       "150289            5203                   False        4385.23        True   \n",
       "219589            7400                   False        1139.68       False   \n",
       "265070             672                   False           0.00       False   \n",
       "625537             366                   False        3149.19        True   \n",
       "\n",
       "       expirationDateKeyInMatch  direction  \n",
       "26533                     False        NaN  \n",
       "53866                     False        NaN  \n",
       "150289                    False        NaN  \n",
       "219589                    False        NaN  \n",
       "265070                    False        NaN  \n",
       "625537                    False        NaN  \n",
       "\n",
       "[6 rows x 24 columns]"
      ]
     },
     "execution_count": 50,
     "metadata": {},
     "output_type": "execute_result"
    }
   ],
   "source": [
    "# there are still 6 transactionType missing\n",
    "# probably becasue the 6 transactions are the last transaction in one accoutNumber\n",
    "# so we are unable to calculate the direction\n",
    "data_df[data_df['transactionType'] == '']"
   ]
  },
  {
   "cell_type": "code",
   "execution_count": 52,
   "metadata": {},
   "outputs": [
    {
     "name": "stdout",
     "output_type": "stream",
     "text": [
      "Empty DataFrame\n",
      "Columns: [acqCountry, merchantCountryCode, posConditionCode, posEntryMode]\n",
      "Index: []\n"
     ]
    }
   ],
   "source": [
    "# all six transactions are not fraud\n",
    "# these six transactions can be dropped\n",
    "# because the number of missing sample is too small and it will affect other missing values\n",
    "missing_transactionType = data_df[(data_df.transactionType == '')]\n",
    "\n",
    "print(missing_transactionType[['acqCountry', 'merchantCountryCode', 'posConditionCode', 'posEntryMode']])\n",
    "data_df = data_df.drop(data_df[data_df.transactionType == ''].index)\n"
   ]
  },
  {
   "cell_type": "markdown",
   "metadata": {},
   "source": [
    "**6. accountNumber** -- not used for training, because it is ID."
   ]
  },
  {
   "cell_type": "code",
   "execution_count": 54,
   "metadata": {},
   "outputs": [
    {
     "name": "stdout",
     "output_type": "stream",
     "text": [
      "The number of unique accountNumber: 5000\n"
     ]
    }
   ],
   "source": [
    "print('The number of unique accountNumber: {}'.format(len(data_df['accountNumber'].unique()))) "
   ]
  },
  {
   "cell_type": "code",
   "execution_count": 55,
   "metadata": {},
   "outputs": [
    {
     "data": {
      "text/plain": [
       "318001076    10034\n",
       "456044564     8382\n",
       "812328116     5494\n",
       "838085703     5129\n",
       "239875038     4705\n",
       "877017103     4435\n",
       "278064853     4227\n",
       "353215513     3756\n",
       "314506271     3410\n",
       "917216469     3258\n",
       "Name: accountNumber, dtype: int64"
      ]
     },
     "execution_count": 55,
     "metadata": {},
     "output_type": "execute_result"
    }
   ],
   "source": [
    "data_df['accountNumber'].value_counts()[:10] "
   ]
  },
  {
   "cell_type": "markdown",
   "metadata": {},
   "source": [
    "**7. accountOpenDate** -- not used for training. I am not sure if this feature is useful for now, but if we separate year-month-day, then use one-hot encoding to encode this feature. The dimension for this feature is kind of large. Regarding on the  model complexity, I don't prefer to using this feature for now. If our model doesn't perform well, we can consider to use this feature and try to find the correlation between accountOpenDate and our target varible."
   ]
  },
  {
   "cell_type": "code",
   "execution_count": 56,
   "metadata": {},
   "outputs": [
    {
     "name": "stdout",
     "output_type": "stream",
     "text": [
      "The number of unique accountOpenDate: 1826\n"
     ]
    }
   ],
   "source": [
    "# The number of unique accountNumber is greater than The number of unique accountOpenDate\n",
    "# means some cards are opened in the same day.\n",
    "print('The number of unique accountOpenDate: {}'.format(len(data_df['accountOpenDate'].unique()))) "
   ]
  },
  {
   "cell_type": "code",
   "execution_count": 57,
   "metadata": {},
   "outputs": [
    {
     "name": "stdout",
     "output_type": "stream",
     "text": [
      "2015-12-11    10137\n",
      "2012-10-05     8382\n",
      "2011-05-20     5494\n",
      "2015-09-24     5478\n",
      "2015-03-12     5398\n",
      "2013-08-24     4836\n",
      "2014-01-31     4753\n",
      "2015-06-15     4612\n",
      "2013-07-04     3780\n",
      "2014-09-18     3311\n",
      "Name: accountOpenDate, dtype: int64\n",
      "2008-12-01    4\n",
      "2012-05-02    4\n",
      "2012-08-21    3\n",
      "2012-09-12    3\n",
      "2006-11-25    3\n",
      "2012-05-30    3\n",
      "2006-03-22    3\n",
      "2010-08-24    3\n",
      "2008-01-30    2\n",
      "2011-07-13    2\n",
      "Name: accountOpenDate, dtype: int64\n"
     ]
    }
   ],
   "source": [
    "print(data_df['accountOpenDate'].value_counts()[:10]) # range is large\n",
    "print(data_df['accountOpenDate'].value_counts()[-10:]) "
   ]
  },
  {
   "cell_type": "code",
   "execution_count": 58,
   "metadata": {},
   "outputs": [
    {
     "name": "stdout",
     "output_type": "stream",
     "text": [
      "2014-06-06    324\n",
      "2015-12-11    291\n",
      "2013-07-04    205\n",
      "2013-05-23    143\n",
      "2014-01-11    119\n",
      "2012-10-05     95\n",
      "2013-08-24     85\n",
      "2014-01-31     82\n",
      "2013-04-07     81\n",
      "2010-06-09     76\n",
      "Name: accountOpenDate, dtype: int64\n",
      "2012-03-12    1\n",
      "2011-11-29    1\n",
      "2015-04-30    1\n",
      "2014-03-22    1\n",
      "2015-02-23    1\n",
      "2013-10-15    1\n",
      "2014-10-08    1\n",
      "2009-03-29    1\n",
      "2011-11-25    1\n",
      "2010-11-07    1\n",
      "Name: accountOpenDate, dtype: int64\n"
     ]
    }
   ],
   "source": [
    "print(data_df[data_df['isFraud']==True]['accountOpenDate'].value_counts()[:10])\n",
    "print(data_df[data_df['isFraud']==True]['accountOpenDate'].value_counts()[-10:])"
   ]
  },
  {
   "cell_type": "code",
   "execution_count": 59,
   "metadata": {},
   "outputs": [
    {
     "name": "stdout",
     "output_type": "stream",
     "text": [
      "There are total 85313 transactions in our data.\n",
      "Is Fraud:\n",
      "Count: 1816\n",
      "Proportion: 2.13%\n",
      "Not Fraud:\n",
      "Count: 83497\n",
      "Proportion: 97.87%\n"
     ]
    },
    {
     "data": {
      "image/png": "[encoded data removed]",
      "text/plain": [
       "<matplotlib.figure.Figure at 0x7ff2ef1719b0>"
      ]
     },
     "metadata": {
      "needs_background": "light"
     },
     "output_type": "display_data"
    }
   ],
   "source": [
    "OpenDate_top_20 = list(data_df['accountOpenDate'].value_counts()[:20].index)\n",
    "freq_OpenDate = data_df[data_df['accountOpenDate'].isin(OpenDate_top_20)]\n",
    "target_info(freq_OpenDate.isFraud) # similar with whole data set distribution"
   ]
  },
  {
   "cell_type": "markdown",
   "metadata": {},
   "source": [
    "**8. currentExpDate** -- not used in training. Based on common sense, this feature is usually not related with Fraud."
   ]
  },
  {
   "cell_type": "code",
   "execution_count": 60,
   "metadata": {},
   "outputs": [
    {
     "name": "stdout",
     "output_type": "stream",
     "text": [
      "The number of unique currentExpDate: 165\n"
     ]
    }
   ],
   "source": [
    "print('The number of unique currentExpDate: {}'.format(len(data_df['currentExpDate'].unique()))) "
   ]
  },
  {
   "cell_type": "code",
   "execution_count": 61,
   "metadata": {},
   "outputs": [
    {
     "data": {
      "text/plain": [
       "05/2026    4209\n",
       "10/2019    4201\n",
       "08/2020    4188\n",
       "05/2028    4186\n",
       "01/2025    4154\n",
       "05/2024    4153\n",
       "08/2028    4119\n",
       "03/2024    4117\n",
       "08/2018    4116\n",
       "03/2019    4115\n",
       "Name: currentExpDate, dtype: int64"
      ]
     },
     "execution_count": 61,
     "metadata": {},
     "output_type": "execute_result"
    }
   ],
   "source": [
    "data_df['currentExpDate'].value_counts()[:10] # range relative small, compared with OpenDate"
   ]
  },
  {
   "cell_type": "code",
   "execution_count": 62,
   "metadata": {},
   "outputs": [
    {
     "data": {
      "text/plain": [
       "12/2021    95\n",
       "08/2026    90\n",
       "10/2024    89\n",
       "11/2020    89\n",
       "08/2025    86\n",
       "10/2030    86\n",
       "02/2029    85\n",
       "12/2030    84\n",
       "02/2031    83\n",
       "11/2030    83\n",
       "Name: currentExpDate, dtype: int64"
      ]
     },
     "execution_count": 62,
     "metadata": {},
     "output_type": "execute_result"
    }
   ],
   "source": [
    "data_df[data_df['isFraud']==True]['currentExpDate'].value_counts()[:10]"
   ]
  },
  {
   "cell_type": "markdown",
   "metadata": {},
   "source": [
    "**9. dateOfLastAddressChange** -- construct a new feature based on this. explained in new feature section"
   ]
  },
  {
   "cell_type": "code",
   "execution_count": 63,
   "metadata": {},
   "outputs": [
    {
     "name": "stdout",
     "output_type": "stream",
     "text": [
      "The number of unique dateOfLastAddressChange: 2186\n"
     ]
    }
   ],
   "source": [
    "print('The number of unique dateOfLastAddressChange: {}'.format(len(data_df['dateOfLastAddressChange'].unique()))) "
   ]
  },
  {
   "cell_type": "code",
   "execution_count": 64,
   "metadata": {},
   "outputs": [
    {
     "data": {
      "text/plain": [
       "2016-07-20    3948\n",
       "2016-03-15    3800\n",
       "2016-01-26    3140\n",
       "2016-01-29    3033\n",
       "2016-04-25    2954\n",
       "2016-07-22    2943\n",
       "2016-06-12    2810\n",
       "2016-06-06    2672\n",
       "2016-04-11    2638\n",
       "2016-01-20    2599\n",
       "Name: dateOfLastAddressChange, dtype: int64"
      ]
     },
     "execution_count": 64,
     "metadata": {},
     "output_type": "execute_result"
    }
   ],
   "source": [
    "data_df['dateOfLastAddressChange'].value_counts()[:10]"
   ]
  },
  {
   "cell_type": "code",
   "execution_count": 65,
   "metadata": {},
   "outputs": [],
   "source": [
    "def convert_AddressChange_time(time):\n",
    "    time_fmt = '%Y-%m-%d'\n",
    "    if isinstance(time, str):\n",
    "        return datetime.datetime.strptime(time, time_fmt)\n",
    "#     else:\n",
    "#         return None"
   ]
  },
  {
   "cell_type": "code",
   "execution_count": 66,
   "metadata": {},
   "outputs": [],
   "source": [
    "data_df['dateOfLastAddressChange'] = data_df.dateOfLastAddressChange.apply(lambda x: convert_AddressChange_time(x))"
   ]
  },
  {
   "cell_type": "markdown",
   "metadata": {},
   "source": [
    "**10. expirationDateKeyInMatch** -- used in training. However, I am not sure what is variable's meaning. If it means, when people use credit card, whether the Expiration Date doesn't match or not. Why are the most of values False? Most of values should be true, because most of transactions are not Fraud.\n",
    "\n",
    "If there is a documentation for explaining these variables' meaning, it will be very helpful."
   ]
  },
  {
   "cell_type": "code",
   "execution_count": 67,
   "metadata": {},
   "outputs": [
    {
     "name": "stdout",
     "output_type": "stream",
     "text": [
      "The number of unique expirationDateKeyInMatch: 2\n"
     ]
    }
   ],
   "source": [
    "print('The number of unique expirationDateKeyInMatch: {}'.format(len(data_df['expirationDateKeyInMatch'].unique()))) "
   ]
  },
  {
   "cell_type": "code",
   "execution_count": 68,
   "metadata": {},
   "outputs": [
    {
     "data": {
      "text/plain": [
       "False    640939\n",
       "True        969\n",
       "Name: expirationDateKeyInMatch, dtype: int64"
      ]
     },
     "execution_count": 68,
     "metadata": {},
     "output_type": "execute_result"
    }
   ],
   "source": [
    "data_df['expirationDateKeyInMatch'].value_counts() "
   ]
  },
  {
   "cell_type": "code",
   "execution_count": 69,
   "metadata": {},
   "outputs": [
    {
     "name": "stdout",
     "output_type": "stream",
     "text": [
      "There are total 969 transactions in our data.\n",
      "Is Fraud:\n",
      "Count: 13\n",
      "Proportion: 1.34%\n",
      "Not Fraud:\n",
      "Count: 956\n",
      "Proportion: 98.66%\n"
     ]
    },
    {
     "data": {
      "image/png": "[encoded data removed]",
      "text/plain": [
       "<matplotlib.figure.Figure at 0x7ff2ef156da0>"
      ]
     },
     "metadata": {
      "needs_background": "light"
     },
     "output_type": "display_data"
    }
   ],
   "source": [
    "# when data_df.expirationDateKeyInMatch == True, the probability of Fraud is less.\n",
    "target_info(data_df[(data_df.expirationDateKeyInMatch == True)]['isFraud'])"
   ]
  },
  {
   "cell_type": "code",
   "execution_count": 70,
   "metadata": {},
   "outputs": [
    {
     "name": "stdout",
     "output_type": "stream",
     "text": [
      "There are total 640939 transactions in our data.\n",
      "Is Fraud:\n",
      "Count: 11289\n",
      "Proportion: 1.76%\n",
      "Not Fraud:\n",
      "Count: 629650\n",
      "Proportion: 98.24000000000001%\n"
     ]
    },
    {
     "data": {
      "image/png": "[encoded data removed]",
      "text/plain": [
       "<matplotlib.figure.Figure at 0x7ff2ef2a84e0>"
      ]
     },
     "metadata": {
      "needs_background": "light"
     },
     "output_type": "display_data"
    }
   ],
   "source": [
    "target_info(data_df[(data_df.expirationDateKeyInMatch == False)]['isFraud'])"
   ]
  },
  {
   "cell_type": "markdown",
   "metadata": {},
   "source": [
    "**11. merchantCategoryCode ** -- used in training; Different merchantCategoryCodes have different chance to be a Fraud."
   ]
  },
  {
   "cell_type": "code",
   "execution_count": 71,
   "metadata": {},
   "outputs": [
    {
     "name": "stdout",
     "output_type": "stream",
     "text": [
      "The number of unique merchantCategoryCode: 19\n"
     ]
    }
   ],
   "source": [
    "print('The number of unique merchantCategoryCode: {}'.format(len(data_df['merchantCategoryCode'].unique())))"
   ]
  },
  {
   "cell_type": "code",
   "execution_count": 72,
   "metadata": {},
   "outputs": [
    {
     "data": {
      "text/plain": [
       "online_retail           161467\n",
       "fastfood                101196\n",
       "entertainment            69137\n",
       "food                     68244\n",
       "rideshare                50573\n",
       "online_gifts             33045\n",
       "hotels                   22878\n",
       "fuel                     22566\n",
       "subscriptions            18376\n",
       "personal care            16917\n",
       "mobileapps               14614\n",
       "health                   14344\n",
       "online_subscriptions     11247\n",
       "auto                     10147\n",
       "airline                   9990\n",
       "furniture                 7813\n",
       "food_delivery             4990\n",
       "gym                       2874\n",
       "cable/phone               1490\n",
       "Name: merchantCategoryCode, dtype: int64"
      ]
     },
     "execution_count": 72,
     "metadata": {},
     "output_type": "execute_result"
    }
   ],
   "source": [
    "data_df['merchantCategoryCode'].value_counts()"
   ]
  },
  {
   "cell_type": "code",
   "execution_count": 73,
   "metadata": {},
   "outputs": [
    {
     "name": "stdout",
     "output_type": "stream",
     "text": [
      "There are total 161467 transactions in our data.\n",
      "Is Fraud:\n",
      "Count: 3647\n",
      "Proportion: 2.26%\n",
      "Not Fraud:\n",
      "Count: 157820\n",
      "Proportion: 97.74000000000001%\n"
     ]
    },
    {
     "data": {
      "image/png": "[encoded data removed]",
      "text/plain": [
       "<matplotlib.figure.Figure at 0x7ff2ef3d29e8>"
      ]
     },
     "metadata": {
      "needs_background": "light"
     },
     "output_type": "display_data"
    }
   ],
   "source": [
    "target_info(data_df[(data_df.merchantCategoryCode == 'online_retail')]['isFraud'])"
   ]
  },
  {
   "cell_type": "code",
   "execution_count": 74,
   "metadata": {},
   "outputs": [
    {
     "name": "stdout",
     "output_type": "stream",
     "text": [
      "There are total 22566 transactions in our data.\n",
      "Is Fraud:\n",
      "Count: 0\n",
      "Proportion: 0.0%\n",
      "Not Fraud:\n",
      "Count: 22566\n",
      "Proportion: 100.0%\n"
     ]
    },
    {
     "data": {
      "image/png": "[encoded data removed]",
      "text/plain": [
       "<matplotlib.figure.Figure at 0x7ff2ef1f27f0>"
      ]
     },
     "metadata": {
      "needs_background": "light"
     },
     "output_type": "display_data"
    }
   ],
   "source": [
    "# when merchantCategoryCode == 'fuel', there is no Fraud.\n",
    "target_info(data_df[(data_df.merchantCategoryCode == 'fuel')]['isFraud'])  "
   ]
  },
  {
   "cell_type": "markdown",
   "metadata": {},
   "source": [
    "**12. merchantName ** -- used in training. Difference merchant has different fraud probability."
   ]
  },
  {
   "cell_type": "code",
   "execution_count": 75,
   "metadata": {},
   "outputs": [
    {
     "name": "stdout",
     "output_type": "stream",
     "text": [
      "The number of unique merchantName: 2493\n"
     ]
    }
   ],
   "source": [
    "print('The number of unique merchantName: {}'.format(len(data_df['merchantName'].unique())))"
   ]
  },
  {
   "cell_type": "code",
   "execution_count": 76,
   "metadata": {},
   "outputs": [
    {
     "data": {
      "text/plain": [
       "Lyft                             25310\n",
       "Uber                             25263\n",
       "gap.com                          13823\n",
       "apple.com                        13607\n",
       "target.com                       13601\n",
       "alibaba.com                      13583\n",
       "staples.com                      13512\n",
       "amazon.com                       13477\n",
       "ebay.com                         13472\n",
       "discount.com                     13393\n",
       "oldnavy.com                      13381\n",
       "walmart.com                      13282\n",
       "sears.com                        13279\n",
       "cheapfast.com                    13057\n",
       "Apple iTunes                      7579\n",
       "Play Store                        7035\n",
       "Mobile eCards                     4169\n",
       "Blue Mountain eCards              4165\n",
       "Blue Mountain Online Services     4149\n",
       "Fresh eCards                      4147\n",
       "Name: merchantName, dtype: int64"
      ]
     },
     "execution_count": 76,
     "metadata": {},
     "output_type": "execute_result"
    }
   ],
   "source": [
    "data_df['merchantName'].value_counts()[:20] "
   ]
  },
  {
   "cell_type": "code",
   "execution_count": 77,
   "metadata": {},
   "outputs": [
    {
     "name": "stdout",
     "output_type": "stream",
     "text": [
      "There are total 7579 transactions in our data.\n",
      "Is Fraud:\n",
      "Count: 0\n",
      "Proportion: 0.0%\n",
      "Not Fraud:\n",
      "Count: 7579\n",
      "Proportion: 100.0%\n"
     ]
    },
    {
     "data": {
      "image/png": "[encoded data removed]",
      "text/plain": [
       "<matplotlib.figure.Figure at 0x7ff2ef36e8d0>"
      ]
     },
     "metadata": {
      "needs_background": "light"
     },
     "output_type": "display_data"
    }
   ],
   "source": [
    "# there is no fruad for Apple iTunes.\n",
    "target_info(data_df[(data_df.merchantName == 'Apple iTunes')]['isFraud'])"
   ]
  },
  {
   "cell_type": "code",
   "execution_count": 78,
   "metadata": {},
   "outputs": [
    {
     "name": "stdout",
     "output_type": "stream",
     "text": [
      "There are total 25263 transactions in our data.\n",
      "Is Fraud:\n",
      "Count: 575\n",
      "Proportion: 2.2800000000000002%\n",
      "Not Fraud:\n",
      "Count: 24688\n",
      "Proportion: 97.72%\n"
     ]
    },
    {
     "data": {
      "image/png": "[encoded data removed]",
      "text/plain": [
       "<matplotlib.figure.Figure at 0x7ff2e97858d0>"
      ]
     },
     "metadata": {
      "needs_background": "light"
     },
     "output_type": "display_data"
    }
   ],
   "source": [
    "target_info(data_df[(data_df.merchantName == 'Uber')]['isFraud'])"
   ]
  },
  {
   "cell_type": "markdown",
   "metadata": {},
   "source": [
    "#### From the three graph above, we can see depends on different merchantName, the Fruad proportion may be different. We are going to construct new features based on this."
   ]
  },
  {
   "cell_type": "markdown",
   "metadata": {},
   "source": [
    "**13. transactionDateTime** -- not used for training for now. Based on common sense,  but if we separate year-month-day, then use one-hot encoding to encode this feature. The dimension for this feature is kind of long. Regarding on the  model complexity, I don't prefer to using this feature for now. If our model doesn't perform well, we can consider to use this feature and try to find the correlation between accountOpenDate and our target varible."
   ]
  },
  {
   "cell_type": "code",
   "execution_count": 79,
   "metadata": {},
   "outputs": [
    {
     "name": "stdout",
     "output_type": "stream",
     "text": [
      "The number of unique transactionDateTime: 635466\n"
     ]
    }
   ],
   "source": [
    "print('The number of unique transactionDateTime: {}'.format(len(data_df['transactionDateTime'].unique())))"
   ]
  },
  {
   "cell_type": "code",
   "execution_count": 80,
   "metadata": {},
   "outputs": [
    {
     "data": {
      "text/plain": [
       "2016-07-30T11:22:18    3\n",
       "2016-03-30T13:11:16    3\n",
       "2016-06-14T22:02:40    3\n",
       "2016-11-27T12:15:24    3\n",
       "2016-06-15T22:46:39    3\n",
       "2016-12-26T08:59:23    3\n",
       "2016-01-07T09:56:55    3\n",
       "2016-12-30T09:23:08    3\n",
       "2016-06-13T06:30:14    3\n",
       "2016-11-01T09:09:27    3\n",
       "Name: transactionDateTime, dtype: int64"
      ]
     },
     "execution_count": 80,
     "metadata": {},
     "output_type": "execute_result"
    }
   ],
   "source": [
    "data_df['transactionDateTime'].value_counts()[:10]"
   ]
  },
  {
   "cell_type": "code",
   "execution_count": 81,
   "metadata": {},
   "outputs": [],
   "source": [
    "def convert_transaction_time(time):\n",
    "    time_fmt = '%Y-%m-%dT%H:%M:%S'\n",
    "    if isinstance(time, str):\n",
    "        return datetime.datetime.strptime(time, time_fmt)\n",
    "#     else:\n",
    "#         return None"
   ]
  },
  {
   "cell_type": "code",
   "execution_count": 82,
   "metadata": {},
   "outputs": [],
   "source": [
    "data_df['transactionDateTime'] = data_df.transactionDateTime.apply(lambda x: convert_transaction_time(x))\n",
    "# separate day and time for future use\n",
    "data_df['transaction_date'] = data_df.transactionDateTime.apply(lambda x: x.date()) # add date column\n",
    "data_df['transaction_time'] = data_df.transactionDateTime.apply(lambda x: x.time()) # add time column"
   ]
  },
  {
   "cell_type": "code",
   "execution_count": 83,
   "metadata": {},
   "outputs": [],
   "source": [
    "trans_date=data_df[data_df['isFraud']==True].groupby('transaction_date')['isFraud'].count()\n",
    "trans_date=trans_date.reset_index()\n",
    "trans_date_no_fraud=data_df[data_df['isFraud']==False].groupby('transaction_date')['isFraud'].count()\n",
    "trans_date_no_fraud=trans_date_no_fraud.reset_index()\n",
    "trans_date_no_fraud.columns=['transaction_date','notFraud']\n",
    "trans_date_fraud=trans_date.merge(trans_date_no_fraud,on=['transaction_date'])"
   ]
  },
  {
   "cell_type": "code",
   "execution_count": 84,
   "metadata": {},
   "outputs": [
    {
     "data": {
      "text/plain": [
       "<matplotlib.text.Text at 0x7ff2e973c630>"
      ]
     },
     "execution_count": 84,
     "metadata": {},
     "output_type": "execute_result"
    },
    {
     "data": {
      "image/png": "[encoded data removed]",
      "text/plain": [
       "<matplotlib.figure.Figure at 0x7ff2e97a2470>"
      ]
     },
     "metadata": {
      "needs_background": "light"
     },
     "output_type": "display_data"
    }
   ],
   "source": [
    "fig = plt.figure(figsize=(10,6))\n",
    "\n",
    "ax1 = fig.add_axes([0,0,1,1])\n",
    "ax1.plot(trans_date_fraud.transaction_date,\n",
    "         trans_date_fraud.isFraud/(trans_date_fraud.isFraud+trans_date_fraud.notFraud))\n",
    "#set_xaxis=ax1.set_xticklabels(labels=trans_date_fraud.transaction_date, rotation=45, ha='right')\n",
    "plt.gcf().autofmt_xdate()\n",
    "\n",
    "ax1.set_title('Daily isFraud Proportion')"
   ]
  },
  {
   "cell_type": "markdown",
   "metadata": {},
   "source": [
    "We can see there is a potential pattern based on day in each month, so I contruct a new column using day."
   ]
  },
  {
   "cell_type": "code",
   "execution_count": 85,
   "metadata": {},
   "outputs": [],
   "source": [
    "# ignore year here, becasue all dates are in 2016\n",
    "data_df['transaction_day'] = data_df.transactionDateTime.apply(lambda x: x.day)"
   ]
  },
  {
   "cell_type": "markdown",
   "metadata": {},
   "source": [
    "**14. cardPresent ** -- used in training; When cardPresent is True, the Fraud probability is less "
   ]
  },
  {
   "cell_type": "code",
   "execution_count": 86,
   "metadata": {},
   "outputs": [
    {
     "name": "stdout",
     "output_type": "stream",
     "text": [
      "The number of unique cardPresent: 2\n"
     ]
    }
   ],
   "source": [
    "print('The number of unique cardPresent: {}'.format(len(data_df['cardPresent'].unique())))"
   ]
  },
  {
   "cell_type": "code",
   "execution_count": 87,
   "metadata": {},
   "outputs": [
    {
     "data": {
      "text/plain": [
       "False    340450\n",
       "True     301458\n",
       "Name: cardPresent, dtype: int64"
      ]
     },
     "execution_count": 87,
     "metadata": {},
     "output_type": "execute_result"
    }
   ],
   "source": [
    "data_df['cardPresent'].value_counts()"
   ]
  },
  {
   "cell_type": "markdown",
   "metadata": {},
   "source": [
    "When 'cardPresent' be True, the transaction tends to be a Fraud less. "
   ]
  },
  {
   "cell_type": "code",
   "execution_count": 88,
   "metadata": {},
   "outputs": [
    {
     "name": "stdout",
     "output_type": "stream",
     "text": [
      "There are total 301458 transactions in our data.\n",
      "Is Fraud:\n",
      "Count: 4678\n",
      "Proportion: 1.55%\n",
      "Not Fraud:\n",
      "Count: 296780\n",
      "Proportion: 98.45%\n"
     ]
    },
    {
     "data": {
      "image/png": "[encoded data removed]",
      "text/plain": [
       "<matplotlib.figure.Figure at 0x7ff2e996e940>"
      ]
     },
     "metadata": {
      "needs_background": "light"
     },
     "output_type": "display_data"
    }
   ],
   "source": [
    "target_info(data_df[data_df['cardPresent'] == True].isFraud)"
   ]
  },
  {
   "cell_type": "code",
   "execution_count": 89,
   "metadata": {},
   "outputs": [
    {
     "name": "stdout",
     "output_type": "stream",
     "text": [
      "There are total 340450 transactions in our data.\n",
      "Is Fraud:\n",
      "Count: 6624\n",
      "Proportion: 1.95%\n",
      "Not Fraud:\n",
      "Count: 333826\n",
      "Proportion: 98.05%\n"
     ]
    },
    {
     "data": {
      "image/png": "[encoded data removed]",
      "text/plain": [
       "<matplotlib.figure.Figure at 0x7ff2e995b2e8>"
      ]
     },
     "metadata": {
      "needs_background": "light"
     },
     "output_type": "display_data"
    }
   ],
   "source": [
    "target_info(data_df[data_df['cardPresent'] == False].isFraud)"
   ]
  },
  {
   "cell_type": "markdown",
   "metadata": {},
   "source": [
    "**15. customerId** -- not used in training. same as ID. "
   ]
  },
  {
   "cell_type": "code",
   "execution_count": 90,
   "metadata": {},
   "outputs": [
    {
     "name": "stdout",
     "output_type": "stream",
     "text": [
      "The number of unique customerId : 5000\n"
     ]
    }
   ],
   "source": [
    "print('The number of unique customerId : {}'.format(len(data_df['customerId'].unique())))"
   ]
  },
  {
   "cell_type": "code",
   "execution_count": 91,
   "metadata": {},
   "outputs": [
    {
     "data": {
      "text/plain": [
       "318001076    10034\n",
       "456044564     8382\n",
       "812328116     5494\n",
       "838085703     5129\n",
       "239875038     4705\n",
       "877017103     4435\n",
       "278064853     4227\n",
       "353215513     3756\n",
       "314506271     3410\n",
       "917216469     3258\n",
       "Name: customerId, dtype: int64"
      ]
     },
     "execution_count": 91,
     "metadata": {},
     "output_type": "execute_result"
    }
   ],
   "source": [
    "data_df['customerId'].value_counts()[:10]"
   ]
  },
  {
   "cell_type": "markdown",
   "metadata": {},
   "source": [
    "**16. cardCVV** -- not used in training. construct a new feature based on this. explained in new feature section"
   ]
  },
  {
   "cell_type": "code",
   "execution_count": 92,
   "metadata": {},
   "outputs": [
    {
     "name": "stdout",
     "output_type": "stream",
     "text": [
      "The number of unique cardCVV : 899\n"
     ]
    }
   ],
   "source": [
    "print('The number of unique cardCVV : {}'.format(len(data_df['cardCVV'].unique())))"
   ]
  },
  {
   "cell_type": "code",
   "execution_count": 93,
   "metadata": {},
   "outputs": [
    {
     "data": {
      "text/plain": [
       "633    11354\n",
       "746     8886\n",
       "625     7626\n",
       "312     6583\n",
       "986     6464\n",
       "676     5780\n",
       "731     4979\n",
       "180     4039\n",
       "465     3869\n",
       "654     3808\n",
       "Name: cardCVV, dtype: int64"
      ]
     },
     "execution_count": 93,
     "metadata": {},
     "output_type": "execute_result"
    }
   ],
   "source": [
    "data_df['cardCVV'].value_counts()[:10]"
   ]
  },
  {
   "cell_type": "markdown",
   "metadata": {},
   "source": [
    "**17. cardLast4Digits** -- not used in training. Same as ID."
   ]
  },
  {
   "cell_type": "code",
   "execution_count": 94,
   "metadata": {},
   "outputs": [
    {
     "name": "stdout",
     "output_type": "stream",
     "text": [
      "The number of unique cardLast4Digits : 5134\n"
     ]
    }
   ],
   "source": [
    "print('The number of unique cardLast4Digits : {}'.format(len(data_df['cardLast4Digits'].unique())))"
   ]
  },
  {
   "cell_type": "code",
   "execution_count": 95,
   "metadata": {},
   "outputs": [
    {
     "data": {
      "text/plain": [
       "1789    10034\n",
       "5658     8412\n",
       "0000     6727\n",
       "5335     5542\n",
       "4062     5146\n",
       "4690     4435\n",
       "7267     4227\n",
       "2705     3766\n",
       "2640     3414\n",
       "6060     3046\n",
       "Name: cardLast4Digits, dtype: int64"
      ]
     },
     "execution_count": 95,
     "metadata": {},
     "output_type": "execute_result"
    }
   ],
   "source": [
    "data_df['cardLast4Digits'].value_counts()[:10]"
   ]
  },
  {
   "cell_type": "code",
   "execution_count": 97,
   "metadata": {},
   "outputs": [
    {
     "name": "stdout",
     "output_type": "stream",
     "text": [
      "There are total 0 transactions in our data.\n",
      "Is Fraud:\n",
      "Count: 0\n"
     ]
    },
    {
     "ename": "ZeroDivisionError",
     "evalue": "division by zero",
     "output_type": "error",
     "traceback": [
      "\u001b[0;31m---------------------------------------------------------------------------\u001b[0m",
      "\u001b[0;31mZeroDivisionError\u001b[0m                         Traceback (most recent call last)",
      "\u001b[0;32m<ipython-input-97-31e1b06f30fd>\u001b[0m in \u001b[0;36m<module>\u001b[0;34m\u001b[0m\n\u001b[1;32m      1\u001b[0m \u001b[0;31m# same as the whole dataset distribution\u001b[0m\u001b[0;34m\u001b[0m\u001b[0;34m\u001b[0m\u001b[0;34m\u001b[0m\u001b[0m\n\u001b[1;32m      2\u001b[0m \u001b[0;31m# so not use this one in training\u001b[0m\u001b[0;34m\u001b[0m\u001b[0;34m\u001b[0m\u001b[0;34m\u001b[0m\u001b[0m\n\u001b[0;32m----> 3\u001b[0;31m \u001b[0mtarget_info\u001b[0m\u001b[0;34m(\u001b[0m\u001b[0mdata_df\u001b[0m\u001b[0;34m[\u001b[0m\u001b[0mdata_df\u001b[0m\u001b[0;34m[\u001b[0m\u001b[0;34m'cardLast4Digits'\u001b[0m\u001b[0;34m]\u001b[0m \u001b[0;34m==\u001b[0m \u001b[0;36m0\u001b[0m\u001b[0;34m]\u001b[0m\u001b[0;34m.\u001b[0m\u001b[0misFraud\u001b[0m\u001b[0;34m)\u001b[0m\u001b[0;34m\u001b[0m\u001b[0;34m\u001b[0m\u001b[0m\n\u001b[0m",
      "\u001b[0;32m<ipython-input-25-97766343a600>\u001b[0m in \u001b[0;36mtarget_info\u001b[0;34m(target_column)\u001b[0m\n\u001b[1;32m      7\u001b[0m     \u001b[0mprint\u001b[0m\u001b[0;34m(\u001b[0m\u001b[0;34m'Is Fraud:'\u001b[0m\u001b[0;34m)\u001b[0m\u001b[0;34m\u001b[0m\u001b[0;34m\u001b[0m\u001b[0m\n\u001b[1;32m      8\u001b[0m     \u001b[0mprint\u001b[0m\u001b[0;34m(\u001b[0m\u001b[0;34m'Count: {}'\u001b[0m\u001b[0;34m.\u001b[0m\u001b[0mformat\u001b[0m\u001b[0;34m(\u001b[0m\u001b[0msum\u001b[0m\u001b[0;34m(\u001b[0m\u001b[0mtarget_column\u001b[0m \u001b[0;34m==\u001b[0m \u001b[0;32mTrue\u001b[0m\u001b[0;34m)\u001b[0m\u001b[0;34m)\u001b[0m\u001b[0;34m)\u001b[0m\u001b[0;34m\u001b[0m\u001b[0;34m\u001b[0m\u001b[0m\n\u001b[0;32m----> 9\u001b[0;31m     print('Proportion: {}'.format(str(round(sum(target_column == True) / len(target_column), 4) * 100) \n\u001b[0m\u001b[1;32m     10\u001b[0m                                   + '%'))\n\u001b[1;32m     11\u001b[0m     \u001b[0mprint\u001b[0m\u001b[0;34m(\u001b[0m\u001b[0;34m'Not Fraud:'\u001b[0m\u001b[0;34m)\u001b[0m\u001b[0;34m\u001b[0m\u001b[0;34m\u001b[0m\u001b[0m\n",
      "\u001b[0;31mZeroDivisionError\u001b[0m: division by zero"
     ]
    }
   ],
   "source": [
    "# same as the whole dataset distribution\n",
    "# so not use this one in training\n",
    "target_info(data_df[data_df['cardLast4Digits'] == 0].isFraud) "
   ]
  },
  {
   "cell_type": "markdown",
   "metadata": {},
   "source": [
    "**18. enteredCVV** -- not used in training. construct a new feature based on this. explained in new feature section"
   ]
  },
  {
   "cell_type": "code",
   "execution_count": 98,
   "metadata": {},
   "outputs": [
    {
     "name": "stdout",
     "output_type": "stream",
     "text": [
      "The number of unique enteredCVV : 980\n"
     ]
    }
   ],
   "source": [
    "print('The number of unique enteredCVV : {}'.format(len(data_df['enteredCVV'].unique())))"
   ]
  },
  {
   "cell_type": "code",
   "execution_count": 99,
   "metadata": {},
   "outputs": [
    {
     "data": {
      "text/plain": [
       "633    11254\n",
       "746     8816\n",
       "625     7559\n",
       "312     6524\n",
       "986     6399\n",
       "676     5745\n",
       "731     4923\n",
       "180     4007\n",
       "465     3825\n",
       "654     3775\n",
       "Name: enteredCVV, dtype: int64"
      ]
     },
     "execution_count": 99,
     "metadata": {},
     "output_type": "execute_result"
    }
   ],
   "source": [
    "data_df['enteredCVV'].value_counts()[:10]"
   ]
  },
  {
   "cell_type": "markdown",
   "metadata": {},
   "source": [
    "### **numerical variables**\n",
    "***"
   ]
  },
  {
   "cell_type": "code",
   "execution_count": 100,
   "metadata": {},
   "outputs": [],
   "source": [
    "def numerical_info(df_column):\n",
    "    '''\n",
    "    Plot numerical variable\n",
    "    Input: str - numerical variable column name in dataframe\n",
    "    '''\n",
    "    sns.set(rc={'figure.figsize':(8, 6)})\n",
    "    ax = sns.distplot(data_df[df_column], bins=50, kde=False)\n",
    "    ax.set(xlabel=df_column, ylabel='frequency')"
   ]
  },
  {
   "cell_type": "markdown",
   "metadata": {},
   "source": [
    "**1. availableMoney ** -- used in training"
   ]
  },
  {
   "cell_type": "code",
   "execution_count": 101,
   "metadata": {},
   "outputs": [
    {
     "data": {
      "image/png": "[encoded data removed]",
      "text/plain": [
       "<matplotlib.figure.Figure at 0x7ff2e993cc88>"
      ]
     },
     "metadata": {},
     "output_type": "display_data"
    }
   ],
   "source": [
    "numerical_info('availableMoney')"
   ]
  },
  {
   "cell_type": "markdown",
   "metadata": {},
   "source": [
    "**2. currentBalance ** -- used in training"
   ]
  },
  {
   "cell_type": "code",
   "execution_count": 102,
   "metadata": {},
   "outputs": [
    {
     "data": {
      "image/png": "[encoded data removed]",
      "text/plain": [
       "<matplotlib.figure.Figure at 0x7ff2ef193208>"
      ]
     },
     "metadata": {},
     "output_type": "display_data"
    }
   ],
   "source": [
    "numerical_info('currentBalance')"
   ]
  },
  {
   "cell_type": "markdown",
   "metadata": {},
   "source": [
    "**3. creditLimit ** -- used in training"
   ]
  },
  {
   "cell_type": "code",
   "execution_count": 103,
   "metadata": {},
   "outputs": [
    {
     "data": {
      "image/png": "[encoded data removed]",
      "text/plain": [
       "<matplotlib.figure.Figure at 0x7ff2e993c9b0>"
      ]
     },
     "metadata": {},
     "output_type": "display_data"
    }
   ],
   "source": [
    "numerical_info('creditLimit')"
   ]
  },
  {
   "cell_type": "markdown",
   "metadata": {},
   "source": [
    "**4. transactionAmount ** -- I will analyze this variable in detail in next question.\n",
    "-- used in training"
   ]
  },
  {
   "cell_type": "markdown",
   "metadata": {},
   "source": [
    "All numerical variables will be used in training. Because of common sense, these are all related if the transaction will be Fraud. While there are correlations between them, such as availableMoney and currentBalance, we will analyze these later, when we construct model."
   ]
  },
  {
   "cell_type": "markdown",
   "metadata": {},
   "source": [
    "### **new variables**\n",
    "***"
   ]
  },
  {
   "cell_type": "markdown",
   "metadata": {},
   "source": [
    "**1. Number of days between day_transaction_AddressChange and transactionDateTime**"
   ]
  },
  {
   "cell_type": "code",
   "execution_count": 104,
   "metadata": {},
   "outputs": [],
   "source": [
    "data_df['day_transaction_AddressChange'] = data_df.\\\n",
    "    apply(lambda x: abs((x['transactionDateTime'] - x['dateOfLastAddressChange']).days), axis = 1)"
   ]
  },
  {
   "cell_type": "code",
   "execution_count": 105,
   "metadata": {},
   "outputs": [
    {
     "data": {
      "text/plain": [
       "count    11302.000000\n",
       "mean       484.119359\n",
       "std        645.274228\n",
       "min          0.000000\n",
       "25%         51.000000\n",
       "50%        204.500000\n",
       "75%        671.750000\n",
       "max       5785.000000\n",
       "Name: day_transaction_AddressChange, dtype: float64"
      ]
     },
     "execution_count": 105,
     "metadata": {},
     "output_type": "execute_result"
    }
   ],
   "source": [
    "data_df[data_df['isFraud'] == True]['day_transaction_AddressChange'].describe()"
   ]
  },
  {
   "cell_type": "code",
   "execution_count": 106,
   "metadata": {},
   "outputs": [
    {
     "data": {
      "text/plain": [
       "count    630606.000000\n",
       "mean        535.193457\n",
       "std         678.656722\n",
       "min           0.000000\n",
       "25%          59.000000\n",
       "50%         266.000000\n",
       "75%         783.000000\n",
       "max       11320.000000\n",
       "Name: day_transaction_AddressChange, dtype: float64"
      ]
     },
     "execution_count": 106,
     "metadata": {},
     "output_type": "execute_result"
    }
   ],
   "source": [
    "data_df[data_df['isFraud'] == False]['day_transaction_AddressChange'].describe()"
   ]
  },
  {
   "cell_type": "code",
   "execution_count": 107,
   "metadata": {},
   "outputs": [
    {
     "data": {
      "image/png": "[encoded data removed]",
      "text/plain": [
       "<matplotlib.figure.Figure at 0x7ff2eee21940>"
      ]
     },
     "metadata": {},
     "output_type": "display_data"
    }
   ],
   "source": [
    "# we can see when the day_transaction_AddressChange value is large,\n",
    "# the transaction tends not to be a Fraud. \n",
    "sns.catplot(x=\"isFraud\", y=\"day_transaction_AddressChange\", data=data_df);"
   ]
  },
  {
   "cell_type": "markdown",
   "metadata": {},
   "source": [
    "**2. If cardCVV and enteredCVV are matched**\n",
    "becasue if they are not matched, they probably are Fraud. "
   ]
  },
  {
   "cell_type": "code",
   "execution_count": 108,
   "metadata": {},
   "outputs": [
    {
     "name": "stdout",
     "output_type": "stream",
     "text": [
      "The number of unique matched_CVV : 2\n",
      "True     635971\n",
      "False      5937\n",
      "Name: matched_CVV, dtype: int64\n"
     ]
    }
   ],
   "source": [
    "data_df['matched_CVV'] = data_df.apply(lambda x: x['cardCVV'] == x['enteredCVV'], axis =1)\n",
    "print('The number of unique matched_CVV : {}'.format(len(data_df['matched_CVV'].unique())))\n",
    "print(data_df['matched_CVV'].value_counts())"
   ]
  },
  {
   "cell_type": "code",
   "execution_count": 109,
   "metadata": {},
   "outputs": [
    {
     "name": "stdout",
     "output_type": "stream",
     "text": [
      "There are total 635971 transactions in our data.\n",
      "Is Fraud:\n",
      "Count: 11107\n",
      "Proportion: 1.7500000000000002%\n",
      "Not Fraud:\n",
      "Count: 624864\n",
      "Proportion: 98.25%\n"
     ]
    },
    {
     "data": {
      "image/png": "[encoded data removed]",
      "text/plain": [
       "<matplotlib.figure.Figure at 0x7ff2ef1c2828>"
      ]
     },
     "metadata": {},
     "output_type": "display_data"
    }
   ],
   "source": [
    "target_info(data_df[data_df['matched_CVV'] == True].isFraud)"
   ]
  },
  {
   "cell_type": "code",
   "execution_count": 110,
   "metadata": {},
   "outputs": [
    {
     "name": "stdout",
     "output_type": "stream",
     "text": [
      "There are total 5937 transactions in our data.\n",
      "Is Fraud:\n",
      "Count: 195\n",
      "Proportion: 3.2800000000000002%\n",
      "Not Fraud:\n",
      "Count: 5742\n",
      "Proportion: 96.72%\n"
     ]
    },
    {
     "data": {
      "image/png": "[encoded data removed]",
      "text/plain": [
       "<matplotlib.figure.Figure at 0x7ff2e97ede80>"
      ]
     },
     "metadata": {},
     "output_type": "display_data"
    }
   ],
   "source": [
    "# we can see when the matched_CVV is False, the transaction tends not to be a Fraud. \n",
    "target_info(data_df[data_df['matched_CVV'] == False].isFraud) "
   ]
  },
  {
   "cell_type": "markdown",
   "metadata": {},
   "source": [
    "**3. accountNumber Fraud history**\n",
    "- if the account has fraud in past seven days\n",
    "- if the account has fraud in past seven month\n",
    "- if the account has fraud in past 3-month"
   ]
  },
  {
   "cell_type": "code",
   "execution_count": 111,
   "metadata": {},
   "outputs": [],
   "source": [
    "def create_feature_use_rolling_window(df, rolling_window):\n",
    "    '''\n",
    "    Calculate if the account has fraud before based on different rolling window\n",
    "    Input: dataframe after group by, int - rolling_window\n",
    "    '''\n",
    "    \n",
    "    date_fraud = list(df[df['isFraud'] == True]['transaction_date'])\n",
    "    \n",
    "    relative_date_fraud = [date + datetime.timedelta(days=i) for date in date_fraud for i in range(rolling_window)]\n",
    "    relative_date_fraud = set(relative_date_fraud)\n",
    "    \n",
    "    df['rolling_window'] = df.apply(lambda x: 1 if x['transaction_date'] in relative_date_fraud else 0, axis = 1)\n",
    "    \n",
    "    return df[['rolling_window']]"
   ]
  },
  {
   "cell_type": "code",
   "execution_count": 112,
   "metadata": {},
   "outputs": [],
   "source": [
    "data_df['rolling_window_7'] = data_df.groupby('accountNumber').\\\n",
    "                                      apply(create_feature_use_rolling_window, rolling_window = 7)\n",
    "\n",
    "data_df['rolling_window_30'] = data_df.groupby('accountNumber').\\\n",
    "                                      apply(create_feature_use_rolling_window, rolling_window = 30)\n",
    "\n",
    "data_df['rolling_window_90'] = data_df.groupby('accountNumber').\\\n",
    "                                      apply(create_feature_use_rolling_window, rolling_window = 90)"
   ]
  },
  {
   "cell_type": "markdown",
   "metadata": {},
   "source": [
    "**4. merchantName Fraud history**\n",
    "- if the merchant has fraud in past seven days\n",
    "- if the merchant has fraud in past seven month\n",
    "- if the merchant has fraud in past 3-month"
   ]
  },
  {
   "cell_type": "code",
   "execution_count": 113,
   "metadata": {},
   "outputs": [],
   "source": [
    "data_df['merchant_rolling_window_7'] = data_df.groupby('merchantName').\\\n",
    "                                               apply(create_feature_use_rolling_window, rolling_window = 7)\n",
    "\n",
    "data_df['merchant_rolling_window_30'] = data_df.groupby('merchantName').\\\n",
    "                                                apply(create_feature_use_rolling_window, rolling_window = 30)\n",
    "\n",
    "data_df['merchant_rolling_window_90'] = data_df.groupby('merchantName').\\\n",
    "                                                apply(create_feature_use_rolling_window, rolling_window = 90)"
   ]
  },
  {
   "cell_type": "code",
   "execution_count": 114,
   "metadata": {},
   "outputs": [
    {
     "data": {
      "text/plain": [
       "count    641908.000000\n",
       "mean        135.162298\n",
       "std         147.053391\n",
       "min           0.000000\n",
       "25%          32.320000\n",
       "50%          85.800000\n",
       "75%         189.030000\n",
       "max        1825.250000\n",
       "Name: transactionAmount, dtype: float64"
      ]
     },
     "execution_count": 114,
     "metadata": {},
     "output_type": "execute_result"
    }
   ],
   "source": [
    "data_df['transactionAmount'].describe()"
   ]
  },
  {
   "cell_type": "code",
   "execution_count": 115,
   "metadata": {},
   "outputs": [
    {
     "data": {
      "text/plain": [
       "<matplotlib.axes._subplots.AxesSubplot at 0x7ff2e99e3780>"
      ]
     },
     "execution_count": 115,
     "metadata": {},
     "output_type": "execute_result"
    },
    {
     "data": {
      "image/png": "[encoded data removed]",
      "text/plain": [
       "<matplotlib.figure.Figure at 0x7ff2ef20ca58>"
      ]
     },
     "metadata": {},
     "output_type": "display_data"
    }
   ],
   "source": [
    "sns.set(rc={'figure.figsize':(10, 8)})\n",
    "sns.distplot(data_df['transactionAmount'], bins=50, kde=False)"
   ]
  },
  {
   "cell_type": "markdown",
   "metadata": {},
   "source": [
    "### exponential distribution \n",
    "- Firstly, the shape of histogarm of the transactionAmount lets me think about the exponential distribution naturally. Then I used a simulated exponential distribution draw a line on the histogram and it's perfectly matched.\n",
    "- The transactionAmount is always greater than or equal to zero, same as the x in exponential distribution.\n",
    "- People transact more frequent on small amount. When the amount become larger and larger, people tend to transact less. \n",
    "- Because exponentail distribution usually model occurence of events. For this dataset we use, the number of amount for each transactionAmount can be an event."
   ]
  },
  {
   "cell_type": "code",
   "execution_count": 116,
   "metadata": {},
   "outputs": [
    {
     "data": {
      "text/plain": [
       "<matplotlib.legend.Legend at 0x7ff2ef1c25f8>"
      ]
     },
     "execution_count": 116,
     "metadata": {},
     "output_type": "execute_result"
    },
    {
     "data": {
      "image/png": "[encoded data removed]",
      "text/plain": [
       "<matplotlib.figure.Figure at 0x7ff2ef2cc550>"
      ]
     },
     "metadata": {},
     "output_type": "display_data"
    }
   ],
   "source": [
    "sns.set(rc={'figure.figsize':(10, 8)})\n",
    "expo_lambda = 0.008\n",
    "\n",
    "def simulate_expo_distribution(expo_lambda):\n",
    "    '''\n",
    "    Simulate exponential distribution\n",
    "    Input: int - expo_lambda parameter for exponential distribution\n",
    "    '''\n",
    "    expo_dist = expo_lambda*np.exp(-expo_lambda*np.array(range(0, int(max(data_df['transactionAmount'])))))\n",
    "    return expo_dist\n",
    "\n",
    "expo_dist = simulate_expo_distribution(expo_lambda)\n",
    "sns.distplot(data_df['transactionAmount'], bins=50, kde=False, norm_hist=True)\n",
    "plt.plot(expo_dist,c = 'r',label = 'Exponential distribution')\n",
    "plt.legend()"
   ]
  },
  {
   "cell_type": "markdown",
   "metadata": {},
   "source": [
    "# Question 4:  Model\n",
    "Fraud is a problem for any bank. Fraud can take many forms, whether it is someone stealing a single credit card, to large batches of stolen credit card numbers being used on the web, or even a mass compromise of credit card numbers stolen from a merchant via tools like credit card skimming devices.\n",
    "## 1) Each of the transactions in the dataset has a field called isFraud. Please build a predictive model to determine whether a given transaction will be fraudulent or not. Use as much of the data as you like (or all of it)."
   ]
  },
  {
   "cell_type": "markdown",
   "metadata": {},
   "source": [
    "### **Feature engineering**\n",
    "***"
   ]
  },
  {
   "cell_type": "markdown",
   "metadata": {},
   "source": [
    "### Besides adding new features, we need to transform categorical data into one-hot encoding and normalize numerical data"
   ]
  },
  {
   "cell_type": "code",
   "execution_count": 121,
   "metadata": {},
   "outputs": [],
   "source": [
    "one_hot_en = ['acqCountry', 'merchantCountryCode', 'posConditionCode', \n",
    "              'posEntryMode', 'transactionType', 'expirationDateKeyInMatch', \n",
    "              'merchantCategoryCode', 'cardPresent']"
   ]
  },
  {
   "cell_type": "code",
   "execution_count": 122,
   "metadata": {},
   "outputs": [],
   "source": [
    "def one_hot(df, one_hot_en_list):\n",
    "    ''''''\n",
    "    dummy_column_name = []\n",
    "    for column_name in one_hot_en_list:\n",
    "        dummy_col = pd.get_dummies(df[column_name])\n",
    "        dummy_col.columns = [str(column_name) + '_' + str(name) for name in list(dummy_col.columns)]\n",
    "        dummy_column_name.append(list(dummy_col.columns))\n",
    "        df = df.join(dummy_col)\n",
    "    return df, dummy_column_name"
   ]
  },
  {
   "cell_type": "code",
   "execution_count": 123,
   "metadata": {},
   "outputs": [],
   "source": [
    "data_df, dummy_column_name = one_hot(data_df, one_hot_en)"
   ]
  },
  {
   "cell_type": "code",
   "execution_count": 124,
   "metadata": {},
   "outputs": [],
   "source": [
    "data_df['matched_CVV'] =data_df['matched_CVV'].factorize(sort=True)[0]\n",
    "data_df['rolling_window_7']=data_df['rolling_window_7'].factorize(sort=True)[0]\n",
    "data_df['rolling_window_30']=data_df['rolling_window_30'].factorize(sort=True)[0]\n",
    "data_df['rolling_window_90']=data_df['rolling_window_90'].factorize(sort=True)[0]\n",
    "data_df['merchant_rolling_window_7']=data_df['merchant_rolling_window_7'].factorize(sort=True)[0]\n",
    "data_df['merchant_rolling_window_30']=data_df['merchant_rolling_window_30'].factorize(sort=True)[0]\n",
    "data_df['merchant_rolling_window_90']=data_df['merchant_rolling_window_90'].factorize(sort=True)[0]"
   ]
  },
  {
   "cell_type": "code",
   "execution_count": 125,
   "metadata": {},
   "outputs": [
    {
     "name": "stdout",
     "output_type": "stream",
     "text": [
      "51\n"
     ]
    }
   ],
   "source": [
    "dummy_column_name = [name for name_list in dummy_column_name for name in name_list]\n",
    "features = ['availableMoney', 'creditLimit', 'currentBalance', \n",
    "            'transactionAmount', 'day_transaction_AddressChange'] # numerical features\n",
    "features.extend(dummy_column_name)\n",
    "print(len(features)) # total number of features"
   ]
  },
  {
   "cell_type": "markdown",
   "metadata": {},
   "source": [
    "### is there any correlation between features?"
   ]
  },
  {
   "cell_type": "code",
   "execution_count": 126,
   "metadata": {},
   "outputs": [
    {
     "data": {
      "text/plain": [
       "<matplotlib.text.Text at 0x7ff2e97d5278>"
      ]
     },
     "execution_count": 126,
     "metadata": {},
     "output_type": "execute_result"
    },
    {
     "data": {
      "image/png": "[encoded data removed]",
      "text/plain": [
       "<matplotlib.figure.Figure at 0x7ff2ea4e7dd8>"
      ]
     },
     "metadata": {},
     "output_type": "display_data"
    }
   ],
   "source": [
    "# Heatmap\n",
    "corr = data_df[features].corr()\n",
    "plt.figure(figsize=(12,10))\n",
    "heat = sns.heatmap(data=corr)\n",
    "plt.title('Heatmap of Correlation')\n",
    "# although this heat map doesn't show all columns in features\n",
    "# from the graph and our analysis, there are some correlations between the variables\n",
    "# for now, I wouldn't process dimension reduction and feature selection due to the time limit\n",
    "# If I have more time, I would like to finish this part."
   ]
  },
  {
   "cell_type": "markdown",
   "metadata": {},
   "source": [
    "#### Train - Test data split"
   ]
  },
  {
   "cell_type": "code",
   "execution_count": 127,
   "metadata": {},
   "outputs": [
    {
     "name": "stdout",
     "output_type": "stream",
     "text": [
      "(641908, 82)\n"
     ]
    }
   ],
   "source": [
    "data_model = data_df.copy()\n",
    "data_model['isFraud'] = data_model['isFraud'].apply(lambda x: 1 if x == True else 0)\n",
    "print(data_model.shape)"
   ]
  },
  {
   "cell_type": "markdown",
   "metadata": {},
   "source": [
    "Because in reality, we can't use future data to predict if the current transaction is fraud, we split data by date. Otherwise, the training data information will be leaking into test data. Thus, if the date is before (2016,10, 1), then the data will be in train. If the date is after (2016,10, 1), then the data will be in test. Also, we need to check if the data distributions are the same as the population after spliting data "
   ]
  },
  {
   "cell_type": "code",
   "execution_count": 128,
   "metadata": {},
   "outputs": [],
   "source": [
    "data_df_before_10 =data_model[data_model['transaction_date']<datetime.date(2016,10, 1)]\n",
    "data_df_after_10=data_model[data_model['transaction_date']>=datetime.date(2016,10, 1)]"
   ]
  },
  {
   "cell_type": "code",
   "execution_count": 129,
   "metadata": {},
   "outputs": [],
   "source": [
    "X_train = data_df_before_10[features]\n",
    "y_train = data_df_before_10['isFraud']\n",
    "\n",
    "X_test = data_df_after_10[features]\n",
    "y_test = data_df_after_10['isFraud']"
   ]
  },
  {
   "cell_type": "code",
   "execution_count": 130,
   "metadata": {},
   "outputs": [
    {
     "name": "stdout",
     "output_type": "stream",
     "text": [
      "There are total 170364 transactions in our data.\n",
      "Is Fraud:\n",
      "Count: 2781\n",
      "Proportion: 1.63%\n",
      "Not Fraud:\n",
      "Count: 167583\n",
      "Proportion: 98.37%\n"
     ]
    },
    {
     "data": {
      "image/png": "[encoded data removed]",
      "text/plain": [
       "<matplotlib.figure.Figure at 0x7ff2e984c6d8>"
      ]
     },
     "metadata": {},
     "output_type": "display_data"
    }
   ],
   "source": [
    "target_info(y_test) # proportion is same with the whole dataset/population"
   ]
  },
  {
   "cell_type": "code",
   "execution_count": 131,
   "metadata": {},
   "outputs": [
    {
     "name": "stdout",
     "output_type": "stream",
     "text": [
      "There are total 471544 transactions in our data.\n",
      "Is Fraud:\n",
      "Count: 8521\n",
      "Proportion: 1.81%\n",
      "Not Fraud:\n",
      "Count: 463023\n",
      "Proportion: 98.19%\n"
     ]
    },
    {
     "data": {
      "image/png": "[encoded data removed]",
      "text/plain": [
       "<matplotlib.figure.Figure at 0x7ff2ece68080>"
      ]
     },
     "metadata": {},
     "output_type": "display_data"
    }
   ],
   "source": [
    "target_info(y_train) # we need to sample train dataset in order to having a balanced dataset."
   ]
  },
  {
   "cell_type": "markdown",
   "metadata": {},
   "source": [
    "### scale numeric data"
   ]
  },
  {
   "cell_type": "code",
   "execution_count": 132,
   "metadata": {},
   "outputs": [],
   "source": [
    "numeric_features = ['availableMoney', 'creditLimit', 'currentBalance', \n",
    "                    'transactionAmount', 'day_transaction_AddressChange']"
   ]
  },
  {
   "cell_type": "code",
   "execution_count": 133,
   "metadata": {},
   "outputs": [],
   "source": [
    "sc = StandardScaler()\n",
    "X_train[numeric_features] = sc.fit_transform(X_train[numeric_features])\n",
    "X_test[numeric_features] = sc.transform (X_test[numeric_features])"
   ]
  },
  {
   "cell_type": "markdown",
   "metadata": {},
   "source": [
    "### **Random undersample imbalanced training data**\n",
    "***"
   ]
  },
  {
   "cell_type": "code",
   "execution_count": 134,
   "metadata": {},
   "outputs": [],
   "source": [
    "X_train_undersample = X_train.copy()"
   ]
  },
  {
   "cell_type": "code",
   "execution_count": 135,
   "metadata": {},
   "outputs": [
    {
     "name": "stdout",
     "output_type": "stream",
     "text": [
      "(8521, 52)\n",
      "(463023, 52)\n"
     ]
    }
   ],
   "source": [
    "X_train_undersample = pd.DataFrame(X_train_undersample)\n",
    "X_train_undersample['isFraud'] = y_train\n",
    "Is_Fraud_df = X_train_undersample[X_train_undersample['isFraud'] == True]\n",
    "Not_Fraud_df = X_train_undersample[X_train_undersample['isFraud'] == False]\n",
    "print(Is_Fraud_df.shape)\n",
    "print(Not_Fraud_df.shape)"
   ]
  },
  {
   "cell_type": "code",
   "execution_count": 136,
   "metadata": {},
   "outputs": [
    {
     "name": "stdout",
     "output_type": "stream",
     "text": [
      "(8521, 52)\n"
     ]
    }
   ],
   "source": [
    "Not_Fraud_df = Not_Fraud_df.sample(Is_Fraud_df.shape[0], random_state=0)\n",
    "print(Not_Fraud_df.shape)"
   ]
  },
  {
   "cell_type": "code",
   "execution_count": 137,
   "metadata": {},
   "outputs": [
    {
     "name": "stdout",
     "output_type": "stream",
     "text": [
      "(17042, 52)\n"
     ]
    }
   ],
   "source": [
    "X_train_undersample = Is_Fraud_df.append(Not_Fraud_df)\n",
    "X_train_undersample = shuffle(X_train_undersample)\n",
    "print(X_train_undersample.shape)"
   ]
  },
  {
   "cell_type": "code",
   "execution_count": 138,
   "metadata": {},
   "outputs": [
    {
     "name": "stdout",
     "output_type": "stream",
     "text": [
      "(17042, 51)\n",
      "(17042,)\n",
      "There are total 17042 transactions in our data.\n",
      "Is Fraud:\n",
      "Count: 8521\n",
      "Proportion: 50.0%\n",
      "Not Fraud:\n",
      "Count: 8521\n",
      "Proportion: 50.0%\n"
     ]
    },
    {
     "data": {
      "image/png": "[encoded data removed]",
      "text/plain": [
       "<matplotlib.figure.Figure at 0x7ff2e96bb438>"
      ]
     },
     "metadata": {},
     "output_type": "display_data"
    }
   ],
   "source": [
    "y_train_undersample = X_train_undersample['isFraud']\n",
    "X_train_undersample = X_train_undersample.drop(columns = ['isFraud'])\n",
    "print(X_train_undersample.shape)\n",
    "print(y_train_undersample.shape)\n",
    "target_info(y_train_undersample) # balance"
   ]
  },
  {
   "cell_type": "markdown",
   "metadata": {},
   "source": [
    "### **Traditional machine learning**\n",
    "***"
   ]
  },
  {
   "cell_type": "code",
   "execution_count": 156,
   "metadata": {},
   "outputs": [],
   "source": [
    "class ML_models():\n",
    " \n",
    "    def __init__(self, x_train, y_train, x_test, y_test, model, model_name, model_param):\n",
    "        \n",
    "        self.x_train = x_train          # x train\n",
    "        self.y_train = y_train          # y train\n",
    "        self.x_test = x_test            # x test\n",
    "        self.y_test = y_test            # y test\n",
    "        self.model = model              # model name in Python\n",
    "        self.model_name = model_name    # model name save in models/\n",
    "        self.model_param = model_param  # hyperparameter in model\n",
    "        \n",
    "    def train(self):\n",
    "        '''train the model'''\n",
    "        \n",
    "        global model\n",
    "        model = self.model + \"()\"\n",
    "        model = eval(model)\n",
    "        \n",
    "        # use GridSearchCV tuning the hyperparameter\n",
    "        model_grid = GridSearchCV(estimator = model, \n",
    "                                  param_grid = self.model_param, \n",
    "                                  scoring= 'f1', # using mean_squared_error if it is regression.\n",
    "                                  n_jobs=4,\n",
    "                                  cv=5)\n",
    "        \n",
    "        # record the start tuning time\n",
    "        start_time_grid = time.time()\n",
    "        print(\"Start training...\")\n",
    "        \n",
    "        # start tuning model \n",
    "        model_grid.fit(self.x_train, self.y_train)\n",
    "        \n",
    "        # calculate total GridSearchCV time\n",
    "        total_time_grid = time.time() - start_time_grid\n",
    "        \n",
    "        #print(\"The total GridSearchCV training time:\", round(total_time_grid, 5))\n",
    "\n",
    "        #print(\"The best hyperparameter:\", model_grid.best_params_) \n",
    "        #print(\"The best score of GridSearchCV training:\", round(model_grid.best_score_, 5))\n",
    "        #print(\"<--------------------------------------->\")\n",
    "        \n",
    "        # set the best tuning model parameter\n",
    "        model.set_params(**model_grid.best_params_)\n",
    "        \n",
    "        # record the start train time\n",
    "        start_time_train = time.time()\n",
    "          \n",
    "        # fit the model using the whole data set \n",
    "        model.fit(self.x_train, self.y_train)\n",
    "        \n",
    "        # save model\n",
    "        dump(model, 'models/' + self.model_name + '.joblib') \n",
    "        \n",
    "        # calculate the mean and std of the cv error\n",
    "        model_score = cross_val_score(model, self.x_train, self.y_train,\n",
    "                                      cv = 5, \n",
    "                                      # using mean_squared_error if it is regression. \n",
    "                                      scoring = 'accuracy')\n",
    "        \n",
    "        # calculate total re-train time\n",
    "        time_retrain = time.time() - start_time_train\n",
    "        \n",
    "        print(\"The re-train time:\", round(time_retrain, 5))\n",
    "        print(\"The mean of CV score of the best training model:\", round(model_score.mean(), 5))\n",
    "        print(\"The std of CV score of the best training model:\", round(model_score.std(), 5))\n",
    "        \n",
    "        return model_score.mean(), model_score.std(), model\n",
    "\n",
    "    def train_SMOTE(self):\n",
    "        \n",
    "        global model\n",
    "        model = self.model + \"()\"\n",
    "        model = eval(model)\n",
    "        \n",
    "        # use GridSearchCV tuning the hyperparameter\n",
    "        model_grid = RandomizedSearchCV(model, self.model_param, n_iter=5)\n",
    "\n",
    "        SKFold = StratifiedKFold(n_splits = 5, random_state = 0, shuffle = False)\n",
    "\n",
    "        # record the start tuning time\n",
    "        start_time_grid = time.time()\n",
    "        print(\"Start training...\")\n",
    "        fold_number = 1\n",
    "        for train, test in SKFold.split(self.x_train, self.y_train):\n",
    "            print('This is {} fold'.format(fold_number))\n",
    "            fold_number += 1\n",
    "            # Implementing SMOTE Technique \n",
    "            # SMOTE happens during Cross Validation not before..\n",
    "            pipeline = imbalanced_make_pipeline(SMOTE(random_state = 0), model_grid) \n",
    "            model_grid = pipeline.fit(self.x_train, self.y_train)\n",
    "        \n",
    "        # calculate total GridSearchCV time\n",
    "        end_time_grid = time.time() - start_time_grid\n",
    "        #print(\"The total RandomizedSearchCV training time:\", round(end_time_grid, 5))\n",
    "        \n",
    "        #print(\"The best hyperparameter:\", model_grid.best_params_) \n",
    "        #print(\"The best score of RandomizedSearchCV training:\", round(model_grid.best_score_, 5))\n",
    "        print(\"<--------------------------------------->\")\n",
    "        \n",
    "        # save model\n",
    "        dump(model_grid, 'models/' + self.model_name + '.joblib')\n",
    "        \n",
    "        return model_grid\n",
    "        \n",
    "    def predict(self):\n",
    "        '''predict the model'''\n",
    "        \n",
    "        start_time_prediction = time.time()\n",
    "        global y_pred\n",
    "        \n",
    "        # predict use test data\n",
    "        y_pred = model.predict(self.x_test)\n",
    "        \n",
    "        labels = ['No Fraud', 'Fraud']\n",
    "        print(classification_report(self.y_test, y_pred, target_names=labels))\n",
    "        \n",
    "        total_time_prediction = time.time() - start_time_prediction        \n",
    "        print(\"The total test time:\", round(total_time_prediction, 5))\n",
    "        \n",
    "        return y_pred"
   ]
  },
  {
   "cell_type": "markdown",
   "metadata": {},
   "source": [
    "### Baseline -- Logistic regression using undersample data"
   ]
  },
  {
   "cell_type": "code",
   "execution_count": 148,
   "metadata": {},
   "outputs": [],
   "source": [
    "logistic_reg_params = {\"penalty\": [\"l2\"],                       # penalization\n",
    "                       \"C\": [1, 2, 3],                          \n",
    "                       # inverse of regularization strength; must be a positive float. Like in support vector machines, smaller values specify stronger regularization.\n",
    "                       \"tol\": [1e-4, 1e-5],                     # tolerance for stopping criteria\n",
    "                       \"solver\": [\"newton-cg\", \"lbfgs\", \"sag\"], # only ‘newton-cg’, ‘sag’, and ‘lbfgs’ handle multinomial loss and only handle L2 penalty\n",
    "                       \"multi_class\": [\"multinomial\"],          # here is multi-class\n",
    "                       \"random_state\": [0]}"
   ]
  },
  {
   "cell_type": "code",
   "execution_count": 149,
   "metadata": {},
   "outputs": [],
   "source": [
    "logistic_reg = ML_models(X_train_undersample, \n",
    "                         y_train_undersample, \n",
    "                         X_test, \n",
    "                         y_test, \n",
    "                         \"LogisticRegression\",\n",
    "                         \"logistic_reg_undersample\",\n",
    "                         model_param = logistic_reg_params)              "
   ]
  },
  {
   "cell_type": "code",
   "execution_count": 150,
   "metadata": {},
   "outputs": [
    {
     "name": "stdout",
     "output_type": "stream",
     "text": [
      "Start training...\n",
      "The total GridSearchCV training time: 24.08518\n",
      "The best hyperparameter: {'C': 3, 'multi_class': 'multinomial', 'penalty': 'l2', 'random_state': 0, 'solver': 'newton-cg', 'tol': 0.0001}\n",
      "The best score of GridSearchCV training: 0.68299\n",
      "<--------------------------------------->\n",
      "The re-train time: 3.87029\n",
      "The mean of CV score of the best training model: 0.67398\n",
      "The std of CV score of the best training model: 0.0045\n"
     ]
    }
   ],
   "source": [
    "logistic_reg_train_undersample = logistic_reg.train()"
   ]
  },
  {
   "cell_type": "markdown",
   "metadata": {},
   "source": [
    "### **SMOTE imbalanced training data**\n",
    "***"
   ]
  },
  {
   "cell_type": "code",
   "execution_count": 151,
   "metadata": {},
   "outputs": [
    {
     "name": "stdout",
     "output_type": "stream",
     "text": [
      "(471544, 51)\n",
      "(471544,)\n"
     ]
    }
   ],
   "source": [
    "print(X_train.shape)\n",
    "print(y_train.shape)"
   ]
  },
  {
   "cell_type": "code",
   "execution_count": 157,
   "metadata": {},
   "outputs": [],
   "source": [
    "logistic_reg_SMOTE = ML_models(X_train, \n",
    "                               y_train, \n",
    "                               X_test, \n",
    "                               y_test, \n",
    "                               \"LogisticRegression\",\n",
    "                               \"logistic_reg_SMOTE\",\n",
    "                               model_param = logistic_reg_params) "
   ]
  },
  {
   "cell_type": "code",
   "execution_count": null,
   "metadata": {},
   "outputs": [],
   "source": []
  },
  {
   "cell_type": "code",
   "execution_count": 158,
   "metadata": {},
   "outputs": [
    {
     "name": "stdout",
     "output_type": "stream",
     "text": [
      "Start training...\n",
      "This is 1 fold\n",
      "This is 2 fold\n",
      "This is 3 fold\n",
      "This is 4 fold\n",
      "This is 5 fold\n",
      "The total RandomizedSearchCV training time: 46.15697\n"
     ]
    },
    {
     "ename": "AttributeError",
     "evalue": "'Pipeline' object has no attribute 'best_params_'",
     "output_type": "error",
     "traceback": [
      "\u001b[0;31m---------------------------------------------------------------------------\u001b[0m",
      "\u001b[0;31mAttributeError\u001b[0m                            Traceback (most recent call last)",
      "\u001b[0;32m<ipython-input-158-5b0a6f580a5e>\u001b[0m in \u001b[0;36m<module>\u001b[0;34m\u001b[0m\n\u001b[0;32m----> 1\u001b[0;31m \u001b[0mlogistic_reg_train_SMOTE\u001b[0m \u001b[0;34m=\u001b[0m \u001b[0mlogistic_reg\u001b[0m\u001b[0;34m.\u001b[0m\u001b[0mtrain_SMOTE\u001b[0m\u001b[0;34m(\u001b[0m\u001b[0;34m)\u001b[0m\u001b[0;34m\u001b[0m\u001b[0;34m\u001b[0m\u001b[0m\n\u001b[0m",
      "\u001b[0;32m<ipython-input-147-f3eeee177fdf>\u001b[0m in \u001b[0;36mtrain_SMOTE\u001b[0;34m(self)\u001b[0m\n\u001b[1;32m     95\u001b[0m         \u001b[0mprint\u001b[0m\u001b[0;34m(\u001b[0m\u001b[0;34m\"The total RandomizedSearchCV training time:\"\u001b[0m\u001b[0;34m,\u001b[0m \u001b[0mround\u001b[0m\u001b[0;34m(\u001b[0m\u001b[0mend_time_grid\u001b[0m\u001b[0;34m,\u001b[0m \u001b[0;36m5\u001b[0m\u001b[0;34m)\u001b[0m\u001b[0;34m)\u001b[0m\u001b[0;34m\u001b[0m\u001b[0;34m\u001b[0m\u001b[0m\n\u001b[1;32m     96\u001b[0m \u001b[0;34m\u001b[0m\u001b[0m\n\u001b[0;32m---> 97\u001b[0;31m         \u001b[0mprint\u001b[0m\u001b[0;34m(\u001b[0m\u001b[0;34m\"The best hyperparameter:\"\u001b[0m\u001b[0;34m,\u001b[0m \u001b[0mmodel_grid\u001b[0m\u001b[0;34m.\u001b[0m\u001b[0mbest_params_\u001b[0m\u001b[0;34m)\u001b[0m\u001b[0;34m\u001b[0m\u001b[0;34m\u001b[0m\u001b[0m\n\u001b[0m\u001b[1;32m     98\u001b[0m         \u001b[0mprint\u001b[0m\u001b[0;34m(\u001b[0m\u001b[0;34m\"The best score of RandomizedSearchCV training:\"\u001b[0m\u001b[0;34m,\u001b[0m \u001b[0mround\u001b[0m\u001b[0;34m(\u001b[0m\u001b[0mmodel_grid\u001b[0m\u001b[0;34m.\u001b[0m\u001b[0mbest_score_\u001b[0m\u001b[0;34m,\u001b[0m \u001b[0;36m5\u001b[0m\u001b[0;34m)\u001b[0m\u001b[0;34m)\u001b[0m\u001b[0;34m\u001b[0m\u001b[0;34m\u001b[0m\u001b[0m\n\u001b[1;32m     99\u001b[0m         \u001b[0mprint\u001b[0m\u001b[0;34m(\u001b[0m\u001b[0;34m\"<--------------------------------------->\"\u001b[0m\u001b[0;34m)\u001b[0m\u001b[0;34m\u001b[0m\u001b[0;34m\u001b[0m\u001b[0m\n",
      "\u001b[0;31mAttributeError\u001b[0m: 'Pipeline' object has no attribute 'best_params_'"
     ]
    }
   ],
   "source": [
    "logistic_reg_train_SMOTE = logistic_reg.train_SMOTE()"
   ]
  },
  {
   "cell_type": "markdown",
   "metadata": {},
   "source": [
    "### Neural networks -- untuned -- Random undersample"
   ]
  },
  {
   "cell_type": "code",
   "execution_count": 173,
   "metadata": {},
   "outputs": [],
   "source": [
    "def ANN_train(x, y):\n",
    "    np.random.seed(0)\n",
    "    input_dim = x.shape[1]\n",
    "#     print(input_dim)\n",
    "    \n",
    "    batch_size = 100\n",
    "    epochs = 20\n",
    "    \n",
    "    layer_1_hidden_unit = 30\n",
    "    layer_1_activation = 'relu'\n",
    "    layer_1_kernel_initializer = 'random_normal'\n",
    "    \n",
    "    layer_2_hidden_unit = 10\n",
    "    layer_2_activation = 'relu'\n",
    "    layer_2_kernel_initializer = 'random_normal'\n",
    "    \n",
    "    output_unit = 1\n",
    "    output_activation = 'sigmoid'\n",
    "    output_kernel_initializer = 'random_normal'\n",
    "    \n",
    "    optimizer = 'adam'\n",
    "    loss = 'binary_crossentropy'\n",
    "    \n",
    "    # record the start tuning time\n",
    "    start_time_grid = time.time()\n",
    "    print(\"Start training...\")\n",
    "    \n",
    "    ann = Sequential()\n",
    "    #First Hidden Layer\n",
    "    ann.add(Dense(layer_1_hidden_unit, activation = layer_1_activation, \n",
    "                  kernel_initializer = layer_1_kernel_initializer, input_dim = input_dim))\n",
    "    #Second  Hidden Layer\n",
    "    ann.add(Dense(layer_2_hidden_unit, activation = layer_2_activation, \n",
    "                  kernel_initializer = layer_2_kernel_initializer))\n",
    "    #Output Layer\n",
    "    ann.add(Dense(output_unit, activation = output_activation, \n",
    "                  kernel_initializer = output_kernel_initializer))\n",
    "    # Complie Model\n",
    "    ann.compile(optimizer = optimizer,loss = loss)\n",
    "    # training\n",
    "    ann_Result = ann.fit(x, y, batch_size = batch_size, epochs = epochs)\n",
    "    \n",
    "    # calculate total GridSearchCV time\n",
    "    end_time_grid = time.time() - start_time_grid\n",
    "    print(\"The total RandomizedSearchCV training time:\", round(end_time_grid, 5))\n",
    "    \n",
    "    ann.save('models/ann.joblib')\n",
    "    \n",
    "    return ann, ann_Result"
   ]
  },
  {
   "cell_type": "code",
   "execution_count": 174,
   "metadata": {
    "scrolled": true
   },
   "outputs": [
    {
     "name": "stdout",
     "output_type": "stream",
     "text": [
      "Start training...\n",
      "Epoch 1/20\n",
      "17042/17042 [==============================] - 0s 26us/step - loss: 0.6552\n",
      "Epoch 2/20\n",
      "17042/17042 [==============================] - 0s 13us/step - loss: 0.6076\n",
      "Epoch 3/20\n",
      "17042/17042 [==============================] - 0s 13us/step - loss: 0.5994\n",
      "Epoch 4/20\n",
      "17042/17042 [==============================] - 0s 13us/step - loss: 0.5945\n",
      "Epoch 5/20\n",
      "17042/17042 [==============================] - 0s 13us/step - loss: 0.5899\n",
      "Epoch 6/20\n",
      "17042/17042 [==============================] - 0s 13us/step - loss: 0.5870\n",
      "Epoch 7/20\n",
      "17042/17042 [==============================] - 0s 13us/step - loss: 0.5850\n",
      "Epoch 8/20\n",
      "17042/17042 [==============================] - 0s 12us/step - loss: 0.5826\n",
      "Epoch 9/20\n",
      "17042/17042 [==============================] - 0s 13us/step - loss: 0.5815\n",
      "Epoch 10/20\n",
      "17042/17042 [==============================] - 0s 12us/step - loss: 0.5800\n",
      "Epoch 11/20\n",
      "17042/17042 [==============================] - 0s 13us/step - loss: 0.5795\n",
      "Epoch 12/20\n",
      "17042/17042 [==============================] - 0s 13us/step - loss: 0.5773\n",
      "Epoch 13/20\n",
      "17042/17042 [==============================] - 0s 12us/step - loss: 0.5765\n",
      "Epoch 14/20\n",
      "17042/17042 [==============================] - 0s 12us/step - loss: 0.5759\n",
      "Epoch 15/20\n",
      "17042/17042 [==============================] - 0s 12us/step - loss: 0.5757\n",
      "Epoch 16/20\n",
      "17042/17042 [==============================] - 0s 12us/step - loss: 0.5743\n",
      "Epoch 17/20\n",
      "17042/17042 [==============================] - 0s 13us/step - loss: 0.5742\n",
      "Epoch 18/20\n",
      "17042/17042 [==============================] - 0s 11us/step - loss: 0.5734\n",
      "Epoch 19/20\n",
      "17042/17042 [==============================] - 0s 12us/step - loss: 0.5729\n",
      "Epoch 20/20\n",
      "17042/17042 [==============================] - 0s 11us/step - loss: 0.5726\n",
      "The total RandomizedSearchCV training time: 4.86857\n"
     ]
    }
   ],
   "source": [
    "ann, ann_Result = ANN_train(X_train_undersample, y_train_undersample)"
   ]
  },
  {
   "cell_type": "code",
   "execution_count": 165,
   "metadata": {},
   "outputs": [
    {
     "ename": "NameError",
     "evalue": "name 'ann_Result' is not defined",
     "output_type": "error",
     "traceback": [
      "\u001b[0;31m---------------------------------------------------------------------------\u001b[0m",
      "\u001b[0;31mNameError\u001b[0m                                 Traceback (most recent call last)",
      "\u001b[0;32m<ipython-input-165-6f8af6c8e31e>\u001b[0m in \u001b[0;36m<module>\u001b[0;34m\u001b[0m\n\u001b[0;32m----> 1\u001b[0;31m \u001b[0mloss_history\u001b[0m \u001b[0;34m=\u001b[0m \u001b[0mann_Result\u001b[0m\u001b[0;34m.\u001b[0m\u001b[0mhistory\u001b[0m\u001b[0;34m[\u001b[0m\u001b[0;34m\"loss\"\u001b[0m\u001b[0;34m]\u001b[0m\u001b[0;34m\u001b[0m\u001b[0;34m\u001b[0m\u001b[0m\n\u001b[0m\u001b[1;32m      2\u001b[0m \u001b[0;31m# if I have more time, I would like to plot a graph about loss to check if it is decreasing.\u001b[0m\u001b[0;34m\u001b[0m\u001b[0;34m\u001b[0m\u001b[0;34m\u001b[0m\u001b[0m\n",
      "\u001b[0;31mNameError\u001b[0m: name 'ann_Result' is not defined"
     ]
    }
   ],
   "source": [
    "loss_history = ann_Result.history[\"loss\"] \n",
    "# if I have more time, I would like to plot a graph about loss to check if it is decreasing."
   ]
  },
  {
   "cell_type": "code",
   "execution_count": 164,
   "metadata": {},
   "outputs": [],
   "source": [
    "def ANN_predict(model, x_test):\n",
    "    ann_predicted = model.predict_classes(X_test)\n",
    "    return ann_predicted"
   ]
  },
  {
   "cell_type": "markdown",
   "metadata": {},
   "source": [
    "## 2) Provide an estimate of performance using an appropriate sample, and show your work."
   ]
  },
  {
   "cell_type": "code",
   "execution_count": 146,
   "metadata": {},
   "outputs": [
    {
     "name": "stdout",
     "output_type": "stream",
     "text": [
      "              precision    recall  f1-score   support\n",
      "\n",
      "    No Fraud       0.99      0.68      0.80    167583\n",
      "       Fraud       0.03      0.70      0.07      2781\n",
      "\n",
      "    accuracy                           0.68    170364\n",
      "   macro avg       0.51      0.69      0.44    170364\n",
      "weighted avg       0.98      0.68      0.79    170364\n",
      "\n",
      "The total test time: 0.46228\n"
     ]
    }
   ],
   "source": [
    "logistic_reg_predict_undersample = logistic_reg.predict()"
   ]
  },
  {
   "cell_type": "code",
   "execution_count": 147,
   "metadata": {},
   "outputs": [
    {
     "name": "stdout",
     "output_type": "stream",
     "text": [
      "              precision    recall  f1-score   support\n",
      "\n",
      "           0       0.99      0.91      0.95    167583\n",
      "           1       0.06      0.33      0.10      2781\n",
      "\n",
      "    accuracy                           0.90    170364\n",
      "   macro avg       0.52      0.62      0.52    170364\n",
      "weighted avg       0.97      0.90      0.93    170364\n",
      "\n"
     ]
    }
   ],
   "source": [
    "# change logistic threshold to see if the test result can be better\n",
    "# but this is not feasible in reality, because we can't know the test data label\n",
    "test_y_score = logistic_reg_train_undersample[2].predict_proba(X_test)[:, 1]\n",
    "test_y_preds = np.where(test_y_score>0.67, 1, 0)\n",
    "print(classification_report(y_test, test_y_preds))"
   ]
  },
  {
   "cell_type": "code",
   "execution_count": 155,
   "metadata": {},
   "outputs": [],
   "source": [
    "tn, fp, fn, tp = confusion_matrix(y_test, test_y_preds).ravel()\n"
   ]
  },
  {
   "cell_type": "code",
   "execution_count": 160,
   "metadata": {},
   "outputs": [
    {
     "data": {
      "text/plain": [
       "15527"
      ]
     },
     "execution_count": 160,
     "metadata": {},
     "output_type": "execute_result"
    }
   ],
   "source": [
    "sum(test_y_preds==1)"
   ]
  },
  {
   "cell_type": "code",
   "execution_count": 161,
   "metadata": {},
   "outputs": [
    {
     "data": {
      "text/plain": [
       "2781"
      ]
     },
     "execution_count": 161,
     "metadata": {},
     "output_type": "execute_result"
    }
   ],
   "source": [
    "sum(y_test==1)"
   ]
  },
  {
   "cell_type": "code",
   "execution_count": 156,
   "metadata": {},
   "outputs": [
    {
     "data": {
      "text/plain": [
       "152963"
      ]
     },
     "execution_count": 156,
     "metadata": {},
     "output_type": "execute_result"
    }
   ],
   "source": [
    "tn"
   ]
  },
  {
   "cell_type": "code",
   "execution_count": 157,
   "metadata": {},
   "outputs": [
    {
     "data": {
      "text/plain": [
       "907"
      ]
     },
     "execution_count": 157,
     "metadata": {},
     "output_type": "execute_result"
    }
   ],
   "source": [
    "tp"
   ]
  },
  {
   "cell_type": "code",
   "execution_count": 158,
   "metadata": {},
   "outputs": [
    {
     "data": {
      "text/plain": [
       "14620"
      ]
     },
     "execution_count": 158,
     "metadata": {},
     "output_type": "execute_result"
    }
   ],
   "source": [
    "fp"
   ]
  },
  {
   "cell_type": "code",
   "execution_count": 159,
   "metadata": {},
   "outputs": [
    {
     "data": {
      "text/plain": [
       "1874"
      ]
     },
     "execution_count": 159,
     "metadata": {},
     "output_type": "execute_result"
    }
   ],
   "source": [
    "fn"
   ]
  },
  {
   "cell_type": "code",
   "execution_count": 162,
   "metadata": {},
   "outputs": [
    {
     "data": {
      "text/plain": [
       "0.32614167565623875"
      ]
     },
     "execution_count": 162,
     "metadata": {},
     "output_type": "execute_result"
    }
   ],
   "source": [
    "907/2781"
   ]
  },
  {
   "cell_type": "code",
   "execution_count": 163,
   "metadata": {},
   "outputs": [
    {
     "data": {
      "text/plain": [
       "0.058414374959747536"
      ]
     },
     "execution_count": 163,
     "metadata": {},
     "output_type": "execute_result"
    }
   ],
   "source": [
    "907/(14620+907)"
   ]
  },
  {
   "cell_type": "code",
   "execution_count": null,
   "metadata": {},
   "outputs": [],
   "source": []
  },
  {
   "cell_type": "code",
   "execution_count": 168,
   "metadata": {},
   "outputs": [
    {
     "name": "stdout",
     "output_type": "stream",
     "text": [
      "             precision    recall  f1-score   support\n",
      "\n",
      "   No Fraud       0.99      0.68      0.81    167583\n",
      "      Fraud       0.03      0.71      0.07      2781\n",
      "\n",
      "avg / total       0.98      0.68      0.79    170364\n",
      "\n",
      "The total test time: 0.09302\n"
     ]
    }
   ],
   "source": [
    "logistic_reg_predict_SMOTE = logistic_reg_SMOTE.predict()"
   ]
  },
  {
   "cell_type": "code",
   "execution_count": 178,
   "metadata": {},
   "outputs": [
    {
     "name": "stdout",
     "output_type": "stream",
     "text": [
      "             precision    recall  f1-score   support\n",
      "\n",
      "          0       0.99      0.73      0.84    167583\n",
      "          1       0.04      0.67      0.07      2781\n",
      "\n",
      "avg / total       0.98      0.73      0.83    170364\n",
      "\n"
     ]
    }
   ],
   "source": [
    "ann_predicted = ann.predict_classes(X_test)\n",
    "print(classification_report(y_test, ann_predicted))"
   ]
  },
  {
   "cell_type": "code",
   "execution_count": 181,
   "metadata": {},
   "outputs": [
    {
     "name": "stdout",
     "output_type": "stream",
     "text": [
      "             precision    recall  f1-score   support\n",
      "\n",
      "          0       0.99      0.97      0.98    167583\n",
      "          1       0.08      0.15      0.10      2781\n",
      "\n",
      "avg / total       0.97      0.96      0.96    170364\n",
      "\n"
     ]
    }
   ],
   "source": [
    "test_y_score = ann.predict_proba(X_test)\n",
    "test_y_preds = np.where(test_y_score>0.79, 1, 0)\n",
    "print(classification_report(y_test, test_y_preds))"
   ]
  },
  {
   "cell_type": "markdown",
   "metadata": {},
   "source": [
    "### Our goal is to detect every fraud which means that we don't missing any Fraud, so I think here recall is more important than other metric. Thus, I adjust the logistic regression threshold to see if it can increase the recall. As we can see f1 for fraud class increased from 0.07 to 0.1. However, this is not feasible in reality, because we can't know the test data label then to adjust the thresold. Overall, all models here didn't perform very well, because they have a low ability to detect Fraud."
   ]
  },
  {
   "cell_type": "markdown",
   "metadata": {},
   "source": [
    "## 3) Please explain your methodology (modeling algorithm/method used and why, what features/data you found useful, what questions you have, and what you would do next with more time)"
   ]
  },
  {
   "cell_type": "markdown",
   "metadata": {},
   "source": [
    "### modeling algorithm/method used and why"
   ]
  },
  {
   "cell_type": "markdown",
   "metadata": {},
   "source": [
    "#### Logistic Regression:\n",
    "\n",
    "- Logistic regression is fast and effective, easy to implement, it is a good baseline model.\n",
    "- Logistic regression outputs have a nice probabilistic interpretation, we can also tune the probability threshold to determine if we want to reduce more false postive or false negative\n",
    "- Logisic regression is good at dealing with binary classification problem."
   ]
  },
  {
   "cell_type": "markdown",
   "metadata": {},
   "source": [
    "#### Neural Networks: \n",
    "- NNs have the ability to learn and model non-linear and complex relationships\n",
    "- NNS can generalize, after learning from the initial inputs and their relationships, it can infer unseen relationships on unseen data as well, thus making the model generalize and predict on unseen data.\n",
    "- NNs don't impose any restrictions on the input variables (like how they should be distributed).\n",
    "- NNs can significantly outperform other models given lots of high quality labeled data."
   ]
  },
  {
   "cell_type": "markdown",
   "metadata": {},
   "source": [
    "### what features/data you found useful"
   ]
  },
  {
   "cell_type": "code",
   "execution_count": 193,
   "metadata": {},
   "outputs": [
    {
     "data": {
      "image/png": "[encoded data removed]",
      "text/plain": [
       "<Figure size 720x576 with 1 Axes>"
      ]
     },
     "metadata": {},
     "output_type": "display_data"
    },
    {
     "data": {
      "text/plain": [
       "<Figure size 1440x1440 with 0 Axes>"
      ]
     },
     "metadata": {},
     "output_type": "display_data"
    }
   ],
   "source": [
    "feature_importance = abs(logistic_reg_train_undersample[2].coef_[0])\n",
    "feature_importance = 100.0 * (feature_importance / feature_importance.max())\n",
    "sorted_idx = np.argsort(feature_importance)\n",
    "pos = np.arange(sorted_idx.shape[0]) + .5\n",
    "\n",
    "\n",
    "featfig = plt.figure()\n",
    "featax = featfig.add_subplot(1, 1, 1)\n",
    "featax.barh(pos, feature_importance[sorted_idx], align='center')\n",
    "featax.set_yticks(pos)\n",
    "featax.set_yticklabels(np.array(X_train_undersample.columns)[sorted_idx], fontsize=8)\n",
    "featax.set_xlabel('Relative Feature Importance')\n",
    "\n",
    "plt.tight_layout()   \n",
    "plt.show()"
   ]
  },
  {
   "cell_type": "markdown",
   "metadata": {},
   "source": [
    "- The top influential features are from merchantCategoryCode, which is consistent in our analysis for Question 1. Different merchantCategoryCode have different Fraud proportion."
   ]
  }
 ],
 "metadata": {
  "kernelspec": {
   "display_name": "Python 3",
   "language": "python",
   "name": "python3"
  },
  "language_info": {
   "codemirror_mode": {
    "name": "ipython",
    "version": 3
   },
   "file_extension": ".py",
   "mimetype": "text/x-python",
   "name": "python",
   "nbconvert_exporter": "python",
   "pygments_lexer": "ipython3",
   "version": "3.6.9"
  }
 },
 "nbformat": 4,
 "nbformat_minor": 4
}
