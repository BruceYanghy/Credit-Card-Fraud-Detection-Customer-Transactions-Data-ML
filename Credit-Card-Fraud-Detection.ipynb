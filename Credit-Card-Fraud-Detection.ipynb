{
 "cells": [
  {
   "cell_type": "markdown",
   "metadata": {},
   "source": [
    "# Fraud Detection\n",
    "The goal is to use ML classification-based models to detect whether a credit card transaction is a normal payment or a fraud."
   ]
  },
  {
   "cell_type": "markdown",
   "metadata": {},
   "source": [
    "# Content"
   ]
  },
  {
   "cell_type": "markdown",
   "metadata": {},
   "source": [
    "* [1. Problem Definition](#0)\n",
    "* [2. Getting Started - Load Libraries and Dataset](#1)\n",
    "    * [2.1. Load Libraries](#1.1)    \n",
    "    * [2.2. Load Dataset](#1.2)\n",
    "* [3. Exploratory Data Analysis](#2)\n",
    "    * [3.1 Descriptive Statistics](#2.1)    \n",
    "    * [3.2. Data Visualisation](#2.2)\n",
    "    * [3.3. Missing Data](#2.3)\n",
    "* [4. Variable Study](#3)\n",
    "    * [4.1 Categorical Variables](#3.1)    \n",
    "    * [4.2.Numerical Variables](#3.2) \n",
    "    * [4.3.New Variables](#3.3) \n",
    "* [5.Models](#4)        \n",
    "    * [5.1. Train/Test Split](#4.1)\n",
    "    * [5.2. Evaluate Models](#4.2) \n",
    "* [6. Model Tuning](#5)\n",
    "    * [5.1. Model Tuning-Right Evaluation Metric](#5.1)\n",
    "    * [5.2. Model Tuning-Balancing the sample](#5.2) \n"
   ]
  },
  {
   "cell_type": "markdown",
   "metadata": {},
   "source": [
    "<a id='0'></a>\n",
    "# 1. Problem Definition"
   ]
  },
  {
   "cell_type": "markdown",
   "metadata": {},
   "source": [
    "It is important that credit card companies are able to recognize fraudulent credit card transactions so that customers are not charged for items that they did not purchase.\n",
    "\n",
    "The datasets contains fabricated transactions made by credit cards\n",
    "\n",
    "The task is to get forecast the fraud. Feature 'Class' is the response variable and it takes value 1 in case of fraud and 0 otherwise."
   ]
  },
  {
   "cell_type": "markdown",
   "metadata": {},
   "source": [
    "<a id='1'></a>\n",
    "# 2. Load Data and python packages"
   ]
  },
  {
   "cell_type": "markdown",
   "metadata": {},
   "source": [
    "<a id='1.1'></a>\n",
    "## 2.1. Loading the python packages"
   ]
  },
  {
   "cell_type": "code",
   "execution_count": 262,
   "metadata": {},
   "outputs": [],
   "source": [
    "import warnings\n",
    "warnings.filterwarnings('ignore')\n",
    "import json\n",
    "import time\n",
    "import datetime\n",
    "import numpy as np\n",
    "import pandas as pd\n",
    "import seaborn as sns\n",
    "import matplotlib.pyplot as plt\n",
    "from joblib import dump, load \n",
    "\n",
    "from keras import Sequential\n",
    "from keras.layers import Dense\n",
    "from keras.models import load_model\n",
    "from keras.wrappers.scikit_learn import KerasClassifier\n",
    "\n",
    "from sklearn.utils import shuffle\n",
    "from sklearn.metrics import accuracy_score\n",
    "from sklearn.model_selection import train_test_split, cross_val_score\n",
    "from sklearn.preprocessing import StandardScaler\n",
    "from sklearn.linear_model import LogisticRegression\n",
    "from sklearn.model_selection import KFold, StratifiedKFold, GridSearchCV, RandomizedSearchCV\n",
    "\n",
    "from sklearn.metrics import classification_report, confusion_matrix, accuracy_score\n",
    "from sklearn.neural_network import MLPClassifier\n",
    "from sklearn.svm import SVC\n",
    "from sklearn.linear_model import LogisticRegression\n",
    "from sklearn.tree import DecisionTreeClassifier\n",
    "from sklearn.neighbors import KNeighborsClassifier\n",
    "from sklearn.discriminant_analysis import LinearDiscriminantAnalysis\n",
    "from sklearn.naive_bayes import GaussianNB\n",
    "from sklearn.ensemble import AdaBoostClassifier, GradientBoostingClassifier, RandomForestClassifier, ExtraTreesClassifier\n",
    "\n",
    "\n",
    "from imblearn.over_sampling import SMOTE\n",
    "from imblearn.pipeline import make_pipeline as imbalanced_make_pipeline"
   ]
  },
  {
   "cell_type": "code",
   "execution_count": 2,
   "metadata": {},
   "outputs": [],
   "source": [
    "#Diable the warnings\n",
    "import warnings\n",
    "warnings.filterwarnings('ignore')"
   ]
  },
  {
   "cell_type": "markdown",
   "metadata": {},
   "source": [
    "<a id='1.2'></a>\n",
    "## 2.2. Loading the Data"
   ]
  },
  {
   "cell_type": "code",
   "execution_count": 3,
   "metadata": {},
   "outputs": [],
   "source": [
    "#read in samples in JSON/dictionary format one by one,  append each one to a list \n",
    "dict_list=[]\n",
    "with open('transactions.txt', encoding='utf-8') as file:\n",
    "    for sample in file:\n",
    "        dict_list.append(json.loads(sample))\n",
    "        \n",
    "#Creating dataframe from list of dictionary object.        \n",
    "transactions_data = pd.DataFrame.from_dict(dict_list, orient='columns')"
   ]
  },
  {
   "cell_type": "markdown",
   "metadata": {},
   "source": [
    "<a id='2'></a>\n",
    "# 3. Exploratory Data Analysis"
   ]
  },
  {
   "cell_type": "markdown",
   "metadata": {},
   "source": [
    "<a id='2.1'></a>\n",
    "## 3.1. Descriptive Statistics"
   ]
  },
  {
   "cell_type": "code",
   "execution_count": 4,
   "metadata": {},
   "outputs": [
    {
     "data": {
      "text/plain": [
       "(786363, 29)"
      ]
     },
     "execution_count": 4,
     "metadata": {},
     "output_type": "execute_result"
    }
   ],
   "source": [
    "transactions_data.shape"
   ]
  },
  {
   "cell_type": "code",
   "execution_count": 5,
   "metadata": {},
   "outputs": [
    {
     "name": "stdout",
     "output_type": "stream",
     "text": [
      "The number of records:  786363\n",
      "The number of columns:  29\n"
     ]
    }
   ],
   "source": [
    "print('The number of records: ', transactions_data.shape[0])\n",
    "print('The number of columns: ', transactions_data.shape[1])"
   ]
  },
  {
   "cell_type": "code",
   "execution_count": 6,
   "metadata": {},
   "outputs": [
    {
     "data": {
      "text/plain": [
       "Index(['accountNumber', 'accountOpenDate', 'acqCountry', 'availableMoney',\n",
       "       'cardCVV', 'cardLast4Digits', 'cardPresent', 'creditLimit',\n",
       "       'currentBalance', 'currentExpDate', 'customerId',\n",
       "       'dateOfLastAddressChange', 'echoBuffer', 'enteredCVV',\n",
       "       'expirationDateKeyInMatch', 'isFraud', 'merchantCategoryCode',\n",
       "       'merchantCity', 'merchantCountryCode', 'merchantName', 'merchantState',\n",
       "       'merchantZip', 'posConditionCode', 'posEntryMode', 'posOnPremises',\n",
       "       'recurringAuthInd', 'transactionAmount', 'transactionDateTime',\n",
       "       'transactionType'],\n",
       "      dtype='object')"
      ]
     },
     "execution_count": 6,
     "metadata": {},
     "output_type": "execute_result"
    }
   ],
   "source": [
    "transactions_data.columns"
   ]
  },
  {
   "cell_type": "code",
   "execution_count": 7,
   "metadata": {},
   "outputs": [
    {
     "data": {
      "text/html": [
       "<div>\n",
       "<style scoped>\n",
       "    .dataframe tbody tr th:only-of-type {\n",
       "        vertical-align: middle;\n",
       "    }\n",
       "\n",
       "    .dataframe tbody tr th {\n",
       "        vertical-align: top;\n",
       "    }\n",
       "\n",
       "    .dataframe thead th {\n",
       "        text-align: right;\n",
       "    }\n",
       "</style>\n",
       "<table border=\"1\" class=\"dataframe\">\n",
       "  <thead>\n",
       "    <tr style=\"text-align: right;\">\n",
       "      <th></th>\n",
       "      <th>accountNumber</th>\n",
       "      <th>accountOpenDate</th>\n",
       "      <th>acqCountry</th>\n",
       "      <th>availableMoney</th>\n",
       "      <th>cardCVV</th>\n",
       "      <th>cardLast4Digits</th>\n",
       "      <th>cardPresent</th>\n",
       "      <th>creditLimit</th>\n",
       "      <th>currentBalance</th>\n",
       "      <th>currentExpDate</th>\n",
       "      <th>...</th>\n",
       "      <th>merchantName</th>\n",
       "      <th>merchantState</th>\n",
       "      <th>merchantZip</th>\n",
       "      <th>posConditionCode</th>\n",
       "      <th>posEntryMode</th>\n",
       "      <th>posOnPremises</th>\n",
       "      <th>recurringAuthInd</th>\n",
       "      <th>transactionAmount</th>\n",
       "      <th>transactionDateTime</th>\n",
       "      <th>transactionType</th>\n",
       "    </tr>\n",
       "  </thead>\n",
       "  <tbody>\n",
       "    <tr>\n",
       "      <th>0</th>\n",
       "      <td>737265056</td>\n",
       "      <td>2015-03-14</td>\n",
       "      <td>US</td>\n",
       "      <td>5000.0</td>\n",
       "      <td>414</td>\n",
       "      <td>1803</td>\n",
       "      <td>False</td>\n",
       "      <td>5000.0</td>\n",
       "      <td>0.0</td>\n",
       "      <td>06/2023</td>\n",
       "      <td>...</td>\n",
       "      <td>Uber</td>\n",
       "      <td></td>\n",
       "      <td></td>\n",
       "      <td>01</td>\n",
       "      <td>02</td>\n",
       "      <td></td>\n",
       "      <td></td>\n",
       "      <td>98.55</td>\n",
       "      <td>2016-08-13T14:27:32</td>\n",
       "      <td>PURCHASE</td>\n",
       "    </tr>\n",
       "    <tr>\n",
       "      <th>1</th>\n",
       "      <td>737265056</td>\n",
       "      <td>2015-03-14</td>\n",
       "      <td>US</td>\n",
       "      <td>5000.0</td>\n",
       "      <td>486</td>\n",
       "      <td>767</td>\n",
       "      <td>True</td>\n",
       "      <td>5000.0</td>\n",
       "      <td>0.0</td>\n",
       "      <td>02/2024</td>\n",
       "      <td>...</td>\n",
       "      <td>AMC #191138</td>\n",
       "      <td></td>\n",
       "      <td></td>\n",
       "      <td>01</td>\n",
       "      <td>09</td>\n",
       "      <td></td>\n",
       "      <td></td>\n",
       "      <td>74.51</td>\n",
       "      <td>2016-10-11T05:05:54</td>\n",
       "      <td>PURCHASE</td>\n",
       "    </tr>\n",
       "    <tr>\n",
       "      <th>2</th>\n",
       "      <td>737265056</td>\n",
       "      <td>2015-03-14</td>\n",
       "      <td>US</td>\n",
       "      <td>5000.0</td>\n",
       "      <td>486</td>\n",
       "      <td>767</td>\n",
       "      <td>False</td>\n",
       "      <td>5000.0</td>\n",
       "      <td>0.0</td>\n",
       "      <td>08/2025</td>\n",
       "      <td>...</td>\n",
       "      <td>Play Store</td>\n",
       "      <td></td>\n",
       "      <td></td>\n",
       "      <td>01</td>\n",
       "      <td>09</td>\n",
       "      <td></td>\n",
       "      <td></td>\n",
       "      <td>7.47</td>\n",
       "      <td>2016-11-08T09:18:39</td>\n",
       "      <td>PURCHASE</td>\n",
       "    </tr>\n",
       "    <tr>\n",
       "      <th>3</th>\n",
       "      <td>737265056</td>\n",
       "      <td>2015-03-14</td>\n",
       "      <td>US</td>\n",
       "      <td>5000.0</td>\n",
       "      <td>486</td>\n",
       "      <td>767</td>\n",
       "      <td>False</td>\n",
       "      <td>5000.0</td>\n",
       "      <td>0.0</td>\n",
       "      <td>08/2025</td>\n",
       "      <td>...</td>\n",
       "      <td>Play Store</td>\n",
       "      <td></td>\n",
       "      <td></td>\n",
       "      <td>01</td>\n",
       "      <td>09</td>\n",
       "      <td></td>\n",
       "      <td></td>\n",
       "      <td>7.47</td>\n",
       "      <td>2016-12-10T02:14:50</td>\n",
       "      <td>PURCHASE</td>\n",
       "    </tr>\n",
       "    <tr>\n",
       "      <th>4</th>\n",
       "      <td>830329091</td>\n",
       "      <td>2015-08-06</td>\n",
       "      <td>US</td>\n",
       "      <td>5000.0</td>\n",
       "      <td>885</td>\n",
       "      <td>3143</td>\n",
       "      <td>True</td>\n",
       "      <td>5000.0</td>\n",
       "      <td>0.0</td>\n",
       "      <td>10/2029</td>\n",
       "      <td>...</td>\n",
       "      <td>Tim Hortons #947751</td>\n",
       "      <td></td>\n",
       "      <td></td>\n",
       "      <td>01</td>\n",
       "      <td>02</td>\n",
       "      <td></td>\n",
       "      <td></td>\n",
       "      <td>71.18</td>\n",
       "      <td>2016-03-24T21:04:46</td>\n",
       "      <td>PURCHASE</td>\n",
       "    </tr>\n",
       "  </tbody>\n",
       "</table>\n",
       "<p>5 rows × 29 columns</p>\n",
       "</div>"
      ],
      "text/plain": [
       "  accountNumber accountOpenDate acqCountry  availableMoney cardCVV  \\\n",
       "0     737265056      2015-03-14         US          5000.0     414   \n",
       "1     737265056      2015-03-14         US          5000.0     486   \n",
       "2     737265056      2015-03-14         US          5000.0     486   \n",
       "3     737265056      2015-03-14         US          5000.0     486   \n",
       "4     830329091      2015-08-06         US          5000.0     885   \n",
       "\n",
       "  cardLast4Digits  cardPresent  creditLimit  currentBalance currentExpDate  \\\n",
       "0            1803        False       5000.0             0.0        06/2023   \n",
       "1             767         True       5000.0             0.0        02/2024   \n",
       "2             767        False       5000.0             0.0        08/2025   \n",
       "3             767        False       5000.0             0.0        08/2025   \n",
       "4            3143         True       5000.0             0.0        10/2029   \n",
       "\n",
       "        ...               merchantName merchantState merchantZip  \\\n",
       "0       ...                       Uber                             \n",
       "1       ...                AMC #191138                             \n",
       "2       ...                 Play Store                             \n",
       "3       ...                 Play Store                             \n",
       "4       ...        Tim Hortons #947751                             \n",
       "\n",
       "  posConditionCode  posEntryMode  posOnPremises recurringAuthInd  \\\n",
       "0               01            02                                   \n",
       "1               01            09                                   \n",
       "2               01            09                                   \n",
       "3               01            09                                   \n",
       "4               01            02                                   \n",
       "\n",
       "  transactionAmount  transactionDateTime transactionType  \n",
       "0             98.55  2016-08-13T14:27:32        PURCHASE  \n",
       "1             74.51  2016-10-11T05:05:54        PURCHASE  \n",
       "2              7.47  2016-11-08T09:18:39        PURCHASE  \n",
       "3              7.47  2016-12-10T02:14:50        PURCHASE  \n",
       "4             71.18  2016-03-24T21:04:46        PURCHASE  \n",
       "\n",
       "[5 rows x 29 columns]"
      ]
     },
     "execution_count": 7,
     "metadata": {},
     "output_type": "execute_result"
    }
   ],
   "source": [
    "transactions_data.head()"
   ]
  },
  {
   "cell_type": "code",
   "execution_count": 8,
   "metadata": {},
   "outputs": [
    {
     "name": "stdout",
     "output_type": "stream",
     "text": [
      "accountNumber                object\n",
      "accountOpenDate              object\n",
      "acqCountry                   object\n",
      "availableMoney              float64\n",
      "cardCVV                      object\n",
      "cardLast4Digits              object\n",
      "cardPresent                    bool\n",
      "creditLimit                 float64\n",
      "currentBalance              float64\n",
      "currentExpDate               object\n",
      "customerId                   object\n",
      "dateOfLastAddressChange      object\n",
      "echoBuffer                   object\n",
      "enteredCVV                   object\n",
      "expirationDateKeyInMatch       bool\n",
      "isFraud                        bool\n",
      "merchantCategoryCode         object\n",
      "merchantCity                 object\n",
      "merchantCountryCode          object\n",
      "merchantName                 object\n",
      "merchantState                object\n",
      "merchantZip                  object\n",
      "posConditionCode             object\n",
      "posEntryMode                 object\n",
      "posOnPremises                object\n",
      "recurringAuthInd             object\n",
      "transactionAmount           float64\n",
      "transactionDateTime          object\n",
      "transactionType              object\n",
      "dtype: object\n"
     ]
    }
   ],
   "source": [
    "# check variables types\n",
    "print(transactions_data.dtypes)"
   ]
  },
  {
   "cell_type": "code",
   "execution_count": 9,
   "metadata": {},
   "outputs": [
    {
     "data": {
      "text/html": [
       "<div>\n",
       "<style scoped>\n",
       "    .dataframe tbody tr th:only-of-type {\n",
       "        vertical-align: middle;\n",
       "    }\n",
       "\n",
       "    .dataframe tbody tr th {\n",
       "        vertical-align: top;\n",
       "    }\n",
       "\n",
       "    .dataframe thead th {\n",
       "        text-align: right;\n",
       "    }\n",
       "</style>\n",
       "<table border=\"1\" class=\"dataframe\">\n",
       "  <thead>\n",
       "    <tr style=\"text-align: right;\">\n",
       "      <th></th>\n",
       "      <th>availableMoney</th>\n",
       "      <th>creditLimit</th>\n",
       "      <th>currentBalance</th>\n",
       "      <th>transactionAmount</th>\n",
       "    </tr>\n",
       "  </thead>\n",
       "  <tbody>\n",
       "    <tr>\n",
       "      <th>count</th>\n",
       "      <td>786363.000000</td>\n",
       "      <td>786363.000000</td>\n",
       "      <td>786363.000000</td>\n",
       "      <td>786363.000000</td>\n",
       "    </tr>\n",
       "    <tr>\n",
       "      <th>mean</th>\n",
       "      <td>6250.725369</td>\n",
       "      <td>10759.464459</td>\n",
       "      <td>4508.739089</td>\n",
       "      <td>136.985791</td>\n",
       "    </tr>\n",
       "    <tr>\n",
       "      <th>std</th>\n",
       "      <td>8880.783989</td>\n",
       "      <td>11636.174890</td>\n",
       "      <td>6457.442068</td>\n",
       "      <td>147.725569</td>\n",
       "    </tr>\n",
       "    <tr>\n",
       "      <th>min</th>\n",
       "      <td>-1005.630000</td>\n",
       "      <td>250.000000</td>\n",
       "      <td>0.000000</td>\n",
       "      <td>0.000000</td>\n",
       "    </tr>\n",
       "    <tr>\n",
       "      <th>25%</th>\n",
       "      <td>1077.420000</td>\n",
       "      <td>5000.000000</td>\n",
       "      <td>689.910000</td>\n",
       "      <td>33.650000</td>\n",
       "    </tr>\n",
       "    <tr>\n",
       "      <th>50%</th>\n",
       "      <td>3184.860000</td>\n",
       "      <td>7500.000000</td>\n",
       "      <td>2451.760000</td>\n",
       "      <td>87.900000</td>\n",
       "    </tr>\n",
       "    <tr>\n",
       "      <th>75%</th>\n",
       "      <td>7500.000000</td>\n",
       "      <td>15000.000000</td>\n",
       "      <td>5291.095000</td>\n",
       "      <td>191.480000</td>\n",
       "    </tr>\n",
       "    <tr>\n",
       "      <th>max</th>\n",
       "      <td>50000.000000</td>\n",
       "      <td>50000.000000</td>\n",
       "      <td>47498.810000</td>\n",
       "      <td>2011.540000</td>\n",
       "    </tr>\n",
       "  </tbody>\n",
       "</table>\n",
       "</div>"
      ],
      "text/plain": [
       "       availableMoney    creditLimit  currentBalance  transactionAmount\n",
       "count   786363.000000  786363.000000   786363.000000      786363.000000\n",
       "mean      6250.725369   10759.464459     4508.739089         136.985791\n",
       "std       8880.783989   11636.174890     6457.442068         147.725569\n",
       "min      -1005.630000     250.000000        0.000000           0.000000\n",
       "25%       1077.420000    5000.000000      689.910000          33.650000\n",
       "50%       3184.860000    7500.000000     2451.760000          87.900000\n",
       "75%       7500.000000   15000.000000     5291.095000         191.480000\n",
       "max      50000.000000   50000.000000    47498.810000        2011.540000"
      ]
     },
     "execution_count": 9,
     "metadata": {},
     "output_type": "execute_result"
    }
   ],
   "source": [
    "# numbers description\n",
    "transactions_data.describe(include=[np.number])"
   ]
  },
  {
   "cell_type": "code",
   "execution_count": 10,
   "metadata": {},
   "outputs": [
    {
     "data": {
      "text/html": [
       "<div>\n",
       "<style scoped>\n",
       "    .dataframe tbody tr th:only-of-type {\n",
       "        vertical-align: middle;\n",
       "    }\n",
       "\n",
       "    .dataframe tbody tr th {\n",
       "        vertical-align: top;\n",
       "    }\n",
       "\n",
       "    .dataframe thead th {\n",
       "        text-align: right;\n",
       "    }\n",
       "</style>\n",
       "<table border=\"1\" class=\"dataframe\">\n",
       "  <thead>\n",
       "    <tr style=\"text-align: right;\">\n",
       "      <th></th>\n",
       "      <th>accountNumber</th>\n",
       "      <th>accountOpenDate</th>\n",
       "      <th>acqCountry</th>\n",
       "      <th>cardCVV</th>\n",
       "      <th>cardLast4Digits</th>\n",
       "      <th>currentExpDate</th>\n",
       "      <th>customerId</th>\n",
       "      <th>dateOfLastAddressChange</th>\n",
       "      <th>echoBuffer</th>\n",
       "      <th>enteredCVV</th>\n",
       "      <th>...</th>\n",
       "      <th>merchantCountryCode</th>\n",
       "      <th>merchantName</th>\n",
       "      <th>merchantState</th>\n",
       "      <th>merchantZip</th>\n",
       "      <th>posConditionCode</th>\n",
       "      <th>posEntryMode</th>\n",
       "      <th>posOnPremises</th>\n",
       "      <th>recurringAuthInd</th>\n",
       "      <th>transactionDateTime</th>\n",
       "      <th>transactionType</th>\n",
       "    </tr>\n",
       "  </thead>\n",
       "  <tbody>\n",
       "    <tr>\n",
       "      <th>count</th>\n",
       "      <td>786363</td>\n",
       "      <td>786363</td>\n",
       "      <td>786363</td>\n",
       "      <td>786363</td>\n",
       "      <td>786363</td>\n",
       "      <td>786363</td>\n",
       "      <td>786363</td>\n",
       "      <td>786363</td>\n",
       "      <td>786363</td>\n",
       "      <td>786363</td>\n",
       "      <td>...</td>\n",
       "      <td>786363</td>\n",
       "      <td>786363</td>\n",
       "      <td>786363</td>\n",
       "      <td>786363</td>\n",
       "      <td>786363</td>\n",
       "      <td>786363</td>\n",
       "      <td>786363</td>\n",
       "      <td>786363</td>\n",
       "      <td>786363</td>\n",
       "      <td>786363</td>\n",
       "    </tr>\n",
       "    <tr>\n",
       "      <th>unique</th>\n",
       "      <td>5000</td>\n",
       "      <td>1820</td>\n",
       "      <td>5</td>\n",
       "      <td>899</td>\n",
       "      <td>5246</td>\n",
       "      <td>165</td>\n",
       "      <td>5000</td>\n",
       "      <td>2184</td>\n",
       "      <td>1</td>\n",
       "      <td>976</td>\n",
       "      <td>...</td>\n",
       "      <td>5</td>\n",
       "      <td>2490</td>\n",
       "      <td>1</td>\n",
       "      <td>1</td>\n",
       "      <td>4</td>\n",
       "      <td>6</td>\n",
       "      <td>1</td>\n",
       "      <td>1</td>\n",
       "      <td>776637</td>\n",
       "      <td>4</td>\n",
       "    </tr>\n",
       "    <tr>\n",
       "      <th>top</th>\n",
       "      <td>380680241</td>\n",
       "      <td>2014-06-21</td>\n",
       "      <td>US</td>\n",
       "      <td>869</td>\n",
       "      <td>593</td>\n",
       "      <td>03/2029</td>\n",
       "      <td>380680241</td>\n",
       "      <td>2016-03-15</td>\n",
       "      <td></td>\n",
       "      <td>869</td>\n",
       "      <td>...</td>\n",
       "      <td>US</td>\n",
       "      <td>Uber</td>\n",
       "      <td></td>\n",
       "      <td></td>\n",
       "      <td>01</td>\n",
       "      <td>05</td>\n",
       "      <td></td>\n",
       "      <td></td>\n",
       "      <td>2016-05-28T14:24:41</td>\n",
       "      <td>PURCHASE</td>\n",
       "    </tr>\n",
       "    <tr>\n",
       "      <th>freq</th>\n",
       "      <td>32850</td>\n",
       "      <td>33623</td>\n",
       "      <td>774709</td>\n",
       "      <td>33749</td>\n",
       "      <td>32946</td>\n",
       "      <td>5103</td>\n",
       "      <td>32850</td>\n",
       "      <td>3819</td>\n",
       "      <td>786363</td>\n",
       "      <td>33424</td>\n",
       "      <td>...</td>\n",
       "      <td>778511</td>\n",
       "      <td>25613</td>\n",
       "      <td>786363</td>\n",
       "      <td>786363</td>\n",
       "      <td>628787</td>\n",
       "      <td>315035</td>\n",
       "      <td>786363</td>\n",
       "      <td>786363</td>\n",
       "      <td>4</td>\n",
       "      <td>745193</td>\n",
       "    </tr>\n",
       "  </tbody>\n",
       "</table>\n",
       "<p>4 rows × 22 columns</p>\n",
       "</div>"
      ],
      "text/plain": [
       "       accountNumber accountOpenDate acqCountry cardCVV cardLast4Digits  \\\n",
       "count         786363          786363     786363  786363          786363   \n",
       "unique          5000            1820          5     899            5246   \n",
       "top        380680241      2014-06-21         US     869             593   \n",
       "freq           32850           33623     774709   33749           32946   \n",
       "\n",
       "       currentExpDate customerId dateOfLastAddressChange echoBuffer  \\\n",
       "count          786363     786363                  786363     786363   \n",
       "unique            165       5000                    2184          1   \n",
       "top           03/2029  380680241              2016-03-15              \n",
       "freq             5103      32850                    3819     786363   \n",
       "\n",
       "       enteredCVV       ...       merchantCountryCode merchantName  \\\n",
       "count      786363       ...                    786363       786363   \n",
       "unique        976       ...                         5         2490   \n",
       "top           869       ...                        US         Uber   \n",
       "freq        33424       ...                    778511        25613   \n",
       "\n",
       "       merchantState merchantZip posConditionCode posEntryMode posOnPremises  \\\n",
       "count         786363      786363           786363       786363        786363   \n",
       "unique             1           1                4            6             1   \n",
       "top                                            01           05                 \n",
       "freq          786363      786363           628787       315035        786363   \n",
       "\n",
       "       recurringAuthInd  transactionDateTime transactionType  \n",
       "count            786363               786363          786363  \n",
       "unique                1               776637               4  \n",
       "top                      2016-05-28T14:24:41        PURCHASE  \n",
       "freq             786363                    4          745193  \n",
       "\n",
       "[4 rows x 22 columns]"
      ]
     },
     "execution_count": 10,
     "metadata": {},
     "output_type": "execute_result"
    }
   ],
   "source": [
    "# object description\n",
    "transactions_data.describe(include=[np.object])"
   ]
  },
  {
   "cell_type": "code",
   "execution_count": 11,
   "metadata": {},
   "outputs": [
    {
     "data": {
      "text/html": [
       "<div>\n",
       "<style scoped>\n",
       "    .dataframe tbody tr th:only-of-type {\n",
       "        vertical-align: middle;\n",
       "    }\n",
       "\n",
       "    .dataframe tbody tr th {\n",
       "        vertical-align: top;\n",
       "    }\n",
       "\n",
       "    .dataframe thead th {\n",
       "        text-align: right;\n",
       "    }\n",
       "</style>\n",
       "<table border=\"1\" class=\"dataframe\">\n",
       "  <thead>\n",
       "    <tr style=\"text-align: right;\">\n",
       "      <th></th>\n",
       "      <th>cardPresent</th>\n",
       "      <th>expirationDateKeyInMatch</th>\n",
       "      <th>isFraud</th>\n",
       "    </tr>\n",
       "  </thead>\n",
       "  <tbody>\n",
       "    <tr>\n",
       "      <th>count</th>\n",
       "      <td>786363</td>\n",
       "      <td>786363</td>\n",
       "      <td>786363</td>\n",
       "    </tr>\n",
       "    <tr>\n",
       "      <th>unique</th>\n",
       "      <td>2</td>\n",
       "      <td>2</td>\n",
       "      <td>2</td>\n",
       "    </tr>\n",
       "    <tr>\n",
       "      <th>top</th>\n",
       "      <td>False</td>\n",
       "      <td>False</td>\n",
       "      <td>False</td>\n",
       "    </tr>\n",
       "    <tr>\n",
       "      <th>freq</th>\n",
       "      <td>433495</td>\n",
       "      <td>785320</td>\n",
       "      <td>773946</td>\n",
       "    </tr>\n",
       "  </tbody>\n",
       "</table>\n",
       "</div>"
      ],
      "text/plain": [
       "       cardPresent expirationDateKeyInMatch isFraud\n",
       "count       786363                   786363  786363\n",
       "unique           2                        2       2\n",
       "top          False                    False   False\n",
       "freq        433495                   785320  773946"
      ]
     },
     "execution_count": 11,
     "metadata": {},
     "output_type": "execute_result"
    }
   ],
   "source": [
    "transactions_data.describe(exclude=[np.object, np.number])"
   ]
  },
  {
   "cell_type": "markdown",
   "metadata": {},
   "source": [
    "Let us check the number of fraud vs. non-fraud cases in the data set."
   ]
  },
  {
   "cell_type": "code",
   "execution_count": 12,
   "metadata": {},
   "outputs": [
    {
     "name": "stdout",
     "output_type": "stream",
     "text": [
      "Not Fraud    773946\n",
      "Fraud         12417\n",
      "Name: isFraud, dtype: int64\n"
     ]
    }
   ],
   "source": [
    "class_names = {0:'Not Fraud', 1:'Fraud'}\n",
    "print(transactions_data.isFraud.value_counts().rename(index = class_names))"
   ]
  },
  {
   "cell_type": "markdown",
   "metadata": {},
   "source": [
    "The dataset is unbalanced with most of the transactions being non-fraud."
   ]
  },
  {
   "cell_type": "markdown",
   "metadata": {},
   "source": [
    "<a id='2.2'></a>\n",
    "## 3.2. Data Visualization"
   ]
  },
  {
   "cell_type": "code",
   "execution_count": 13,
   "metadata": {},
   "outputs": [
    {
     "data": {
      "text/plain": [
       "Index(['accountNumber', 'accountOpenDate', 'acqCountry', 'availableMoney',\n",
       "       'cardCVV', 'cardLast4Digits', 'cardPresent', 'creditLimit',\n",
       "       'currentBalance', 'currentExpDate', 'customerId',\n",
       "       'dateOfLastAddressChange', 'echoBuffer', 'enteredCVV',\n",
       "       'expirationDateKeyInMatch', 'isFraud', 'merchantCategoryCode',\n",
       "       'merchantCity', 'merchantCountryCode', 'merchantName', 'merchantState',\n",
       "       'merchantZip', 'posConditionCode', 'posEntryMode', 'posOnPremises',\n",
       "       'recurringAuthInd', 'transactionAmount', 'transactionDateTime',\n",
       "       'transactionType'],\n",
       "      dtype='object')"
      ]
     },
     "execution_count": 13,
     "metadata": {},
     "output_type": "execute_result"
    }
   ],
   "source": [
    "transactions_data.columns"
   ]
  },
  {
   "cell_type": "code",
   "execution_count": 14,
   "metadata": {},
   "outputs": [
    {
     "data": {
      "image/png": "[encoded data removed]",
      "text/plain": [
       "<Figure size 864x864 with 4 Axes>"
      ]
     },
     "metadata": {},
     "output_type": "display_data"
    }
   ],
   "source": [
    "# histograms\n",
    "transactions_data[list(transactions_data.select_dtypes(include=[np.number]).columns.values)].hist(sharex=False, sharey=False, xlabelsize=1, ylabelsize=1, figsize=(12,12))\n",
    "plt.show()"
   ]
  },
  {
   "cell_type": "markdown",
   "metadata": {},
   "source": [
    "Distribution of most of the variables are highly skewed. THey are exponential distributions.\n",
    "\n",
    "People transact more frequent on small amount. When the amount become larger and larger, people tend to transact less.\n",
    "\n",
    "It fits the business case that most of the credit card spendings are small amount."
   ]
  },
  {
   "cell_type": "code",
   "execution_count": 15,
   "metadata": {},
   "outputs": [
    {
     "data": {
      "image/png": "[encoded data removed]",
      "text/plain": [
       "<Figure size 1080x1080 with 4 Axes>"
      ]
     },
     "metadata": {},
     "output_type": "display_data"
    }
   ],
   "source": [
    "#Box and Whisker Plots\n",
    "transactions_data[list(transactions_data.select_dtypes(include=[np.number]).columns.values)].plot(kind='box', subplots=True, layout=(2,2), sharex=False, sharey=False, figsize=(15,15))\n",
    "plt.show()"
   ]
  },
  {
   "cell_type": "markdown",
   "metadata": {},
   "source": [
    "<a id='2.3'></a>\n",
    "## 3.3. Missing Data"
   ]
  },
  {
   "cell_type": "code",
   "execution_count": 16,
   "metadata": {},
   "outputs": [
    {
     "data": {
      "text/plain": [
       "Index([], dtype='object')"
      ]
     },
     "execution_count": 16,
     "metadata": {},
     "output_type": "execute_result"
    }
   ],
   "source": [
    "# check missing values\n",
    "transactions_data.columns[transactions_data.isnull().any()]\n",
    "# there is no missing data for numerical values"
   ]
  },
  {
   "cell_type": "code",
   "execution_count": 17,
   "metadata": {},
   "outputs": [],
   "source": [
    "# drop duplicates if any\n",
    "#rows_original = transactions_data.shape[0] \n",
    "#print('Before dropping duplicates, the shape is {}'.format(transactions_data.shape))\n",
    "#transactions_data = transactions_data.drop_duplicates()\n",
    "#print('After dropping duplicates, the shape is {}'.format(transactions_data.shape))\n",
    "#print('There are total {} rows dropped'.format(transactions_data.shape[0] - rows_original))"
   ]
  },
  {
   "cell_type": "code",
   "execution_count": 18,
   "metadata": {},
   "outputs": [
    {
     "name": "stdout",
     "output_type": "stream",
     "text": [
      "Checking columns: ['accountNumber', 'accountOpenDate', 'acqCountry', 'cardCVV', 'cardLast4Digits', 'currentExpDate', 'customerId', 'dateOfLastAddressChange', 'echoBuffer', 'enteredCVV', 'merchantCategoryCode', 'merchantCity', 'merchantCountryCode', 'merchantName', 'merchantState', 'merchantZip', 'posConditionCode', 'posEntryMode', 'posOnPremises', 'recurringAuthInd', 'transactionDateTime', 'transactionType'] \n",
      "\n",
      "There are 4562 missing values in acqCountry and the proportion is 0.58%\n",
      "There are 786363 missing values in echoBuffer and the proportion is 100.0%\n",
      "There are 786363 missing values in merchantCity and the proportion is 100.0%\n",
      "There are 724 missing values in merchantCountryCode and the proportion is 0.09%\n",
      "There are 786363 missing values in merchantState and the proportion is 100.0%\n",
      "There are 786363 missing values in merchantZip and the proportion is 100.0%\n",
      "There are 409 missing values in posConditionCode and the proportion is 0.05%\n",
      "There are 4054 missing values in posEntryMode and the proportion is 0.52%\n",
      "There are 786363 missing values in posOnPremises and the proportion is 100.0%\n",
      "There are 786363 missing values in recurringAuthInd and the proportion is 100.0%\n",
      "There are 698 missing values in transactionType and the proportion is 0.09%\n"
     ]
    }
   ],
   "source": [
    "def check_empty_string(df):\n",
    "    '''\n",
    "    Check if object columns contain any empty strings\n",
    "    Input: dataframe\n",
    "    '''\n",
    "    empty_string_column = {}\n",
    "    print('Checking columns: {} \\n'.format(list(df.select_dtypes(include=['object']).columns)))\n",
    "    \n",
    "    for column in df.select_dtypes(include=['object']).columns:\n",
    "        if sum(df[column] == '') != 0:\n",
    "            empty_string_column[column] = sum(df[column] == '')\n",
    "            proportion = round((sum(df[column] == '')/df.shape[0]) * 100, 2)\n",
    "            print('There are {} missing values in {} and the proportion is {}'.format(sum(df[column] == ''), \n",
    "                                                                                      column, \n",
    "                                                                                      str(proportion) + '%'))\n",
    "    return empty_string_column\n",
    "\n",
    "empty_string_column = check_empty_string(transactions_data)"
   ]
  },
  {
   "cell_type": "code",
   "execution_count": 19,
   "metadata": {},
   "outputs": [
    {
     "name": "stdout",
     "output_type": "stream",
     "text": [
      "Empty columns: ['echoBuffer', 'merchantCity', 'merchantState', 'merchantZip', 'posOnPremises', 'recurringAuthInd']\n"
     ]
    }
   ],
   "source": [
    "print('Empty columns: {}'. \\\n",
    "format([column for column in empty_string_column if empty_string_column[column] == transactions_data.shape[0]]))"
   ]
  },
  {
   "cell_type": "code",
   "execution_count": 20,
   "metadata": {},
   "outputs": [
    {
     "name": "stdout",
     "output_type": "stream",
     "text": [
      "Before dropping columns, the shape is (786363, 29)\n",
      "After dropping columns, the shape is (786363, 23)\n"
     ]
    }
   ],
   "source": [
    "# we need to drop empty columns\n",
    "print('Before dropping columns, the shape is {}'.format(transactions_data.shape))\n",
    "transactions_data = transactions_data.drop(columns = [column for column in empty_string_column \n",
    "                                         if empty_string_column[column] == transactions_data.shape[0]])\n",
    "print('After dropping columns, the shape is {}'.format(transactions_data.shape))"
   ]
  },
  {
   "cell_type": "markdown",
   "metadata": {},
   "source": [
    "We need to study the rest of the columns that have some missing data, to decide if we need to do data deletion or imputation."
   ]
  },
  {
   "cell_type": "markdown",
   "metadata": {},
   "source": [
    "<a id='3'></a>\n",
    "# 4. Variables Study"
   ]
  },
  {
   "cell_type": "code",
   "execution_count": 140,
   "metadata": {},
   "outputs": [],
   "source": [
    "data_df = transactions_data.copy()"
   ]
  },
  {
   "cell_type": "code",
   "execution_count": 141,
   "metadata": {},
   "outputs": [],
   "source": [
    "def target_info(target_column):\n",
    "    '''\n",
    "    Print target column information -- count for each unique values in target column\n",
    "    Input: target column in dataframe\n",
    "    '''\n",
    "    print('There are total {} transactions in our data.'.format(len(target_column)))\n",
    "    print('Is Fraud:')\n",
    "    print('Count: {}'.format(sum(target_column == True)))\n",
    "    print('Proportion: {}'.format(str(round(sum(target_column == True) / len(target_column), 4) * 100) \n",
    "                                  + '%'))\n",
    "    print('Not Fraud:')\n",
    "    print('Count: {}'.format(sum(target_column == False)))\n",
    "    print('Proportion: {}'.format(str(round(sum(target_column == False) / len(target_column), 4) * 100)  \n",
    "                                  + '%'))\n",
    "    plt.figure(figsize=(5, 5))\n",
    "    sns.barplot(x=target_column.value_counts().index, y=target_column.value_counts())\n",
    "    plt.title('Not Fraud vs Is Fraud')\n",
    "    plt.ylabel('Count')"
   ]
  },
  {
   "cell_type": "code",
   "execution_count": 142,
   "metadata": {},
   "outputs": [],
   "source": [
    "def categorical_info(df_column):\n",
    "    '''\n",
    "    Print categorical variable information -- count for each unique values in target column\n",
    "    Input: categorical variable column in dataframe\n",
    "    '''\n",
    "    print('The number of unique values: {}'.format(len(df_column.unique())))\n",
    "    print('Categories:')\n",
    "    print(df_column.value_counts())"
   ]
  },
  {
   "cell_type": "markdown",
   "metadata": {},
   "source": [
    "<a id='3.1'></a>\n",
    "\n",
    "## 4.1 Categorical variables\n",
    "* There are 16 categorical variables"
   ]
  },
  {
   "cell_type": "code",
   "execution_count": 143,
   "metadata": {},
   "outputs": [
    {
     "data": {
      "text/plain": [
       "16"
      ]
     },
     "execution_count": 143,
     "metadata": {},
     "output_type": "execute_result"
    }
   ],
   "source": [
    "len(list(transactions_data.select_dtypes(include=[np.object]).columns.values))"
   ]
  },
  {
   "cell_type": "code",
   "execution_count": 144,
   "metadata": {},
   "outputs": [
    {
     "data": {
      "text/plain": [
       "['accountNumber',\n",
       " 'accountOpenDate',\n",
       " 'acqCountry',\n",
       " 'cardCVV',\n",
       " 'cardLast4Digits',\n",
       " 'currentExpDate',\n",
       " 'customerId',\n",
       " 'dateOfLastAddressChange',\n",
       " 'enteredCVV',\n",
       " 'merchantCategoryCode',\n",
       " 'merchantCountryCode',\n",
       " 'merchantName',\n",
       " 'posConditionCode',\n",
       " 'posEntryMode',\n",
       " 'transactionDateTime',\n",
       " 'transactionType']"
      ]
     },
     "execution_count": 144,
     "metadata": {},
     "output_type": "execute_result"
    }
   ],
   "source": [
    "list(transactions_data.select_dtypes(include=[np.object]).columns.values)"
   ]
  },
  {
   "cell_type": "code",
   "execution_count": 145,
   "metadata": {},
   "outputs": [
    {
     "name": "stdout",
     "output_type": "stream",
     "text": [
      "There are total 786363 transactions in our data.\n",
      "Is Fraud:\n",
      "Count: 12417\n",
      "Proportion: 1.58%\n",
      "Not Fraud:\n",
      "Count: 773946\n",
      "Proportion: 98.42%\n"
     ]
    },
    {
     "data": {
      "image/png": "[encoded data removed]",
      "text/plain": [
       "<Figure size 360x360 with 1 Axes>"
      ]
     },
     "metadata": {},
     "output_type": "display_data"
    }
   ],
   "source": [
    "target_info(data_df['isFraud'])"
   ]
  },
  {
   "cell_type": "markdown",
   "metadata": {},
   "source": [
    "### The population distribution of Fraud cases is 1.58%.\n",
    "* It indicates an extermely unbalanced fraud data\n",
    "* We need to use this distribution to analyze each column to see if this column itself contains some information"
   ]
  },
  {
   "cell_type": "markdown",
   "metadata": {},
   "source": [
    "There are 5 columns have missing data, we need to check these 5 columns first: \n",
    "    1. acqCountry\n",
    "    2. merchantCountryCode\n",
    "    3. posConditionCode\n",
    "    4. posEntryMode\n",
    "    5. transactionType"
   ]
  },
  {
   "cell_type": "markdown",
   "metadata": {},
   "source": [
    "### 4.1.1 acqCountry\n",
    "- There are about 0.6% (< 2%) acqCountry data has empty values.\n",
    "- The propotion of Fraud cases (3.27%) inside the empty acqCountry data are much greather than the population porpotion (1.58%)\n",
    "- The empty data of acqCountry has some information, we can't drop these data.\n",
    "- Missing data not at Random (MNAR), We need to do imputation\n"
   ]
  },
  {
   "cell_type": "code",
   "execution_count": 146,
   "metadata": {},
   "outputs": [
    {
     "data": {
      "text/plain": [
       "0.005801391978005069"
      ]
     },
     "execution_count": 146,
     "metadata": {},
     "output_type": "execute_result"
    }
   ],
   "source": [
    "sum(data_df['acqCountry'] == '')/data_df.shape[0]"
   ]
  },
  {
   "cell_type": "code",
   "execution_count": 147,
   "metadata": {},
   "outputs": [
    {
     "name": "stdout",
     "output_type": "stream",
     "text": [
      "The number of unique values: 5\n",
      "Categories:\n",
      "US     774709\n",
      "         4562\n",
      "MEX      3130\n",
      "CAN      2424\n",
      "PR       1538\n",
      "Name: acqCountry, dtype: int64\n"
     ]
    }
   ],
   "source": [
    "categorical_info(data_df['acqCountry'])"
   ]
  },
  {
   "cell_type": "code",
   "execution_count": 148,
   "metadata": {},
   "outputs": [
    {
     "name": "stdout",
     "output_type": "stream",
     "text": [
      "There are total 4562 transactions in our data.\n",
      "Is Fraud:\n",
      "Count: 149\n",
      "Proportion: 3.27%\n",
      "Not Fraud:\n",
      "Count: 4413\n",
      "Proportion: 96.73%\n"
     ]
    },
    {
     "data": {
      "image/png": "[encoded data removed]",
      "text/plain": [
       "<Figure size 360x360 with 1 Axes>"
      ]
     },
     "metadata": {},
     "output_type": "display_data"
    }
   ],
   "source": [
    "target_info(data_df[(data_df.acqCountry == '')]['isFraud'])"
   ]
  },
  {
   "cell_type": "markdown",
   "metadata": {},
   "source": [
    "### 4.1.2 merchantCountryCode\n",
    "- There are 0.1% (< 2%) merchantCountryCode data has empty values.\n",
    "- The propotion of Fraud cases (11.33%) inside the empty merchantCountryCode data are extremely greather than the population porpotion (1.58%)\n",
    "- The missing data of merchantCountryCode has valuable information, we can't drop these data\n",
    "- Missing data not at Random (MNAR), We need to do imputation\n"
   ]
  },
  {
   "cell_type": "code",
   "execution_count": 149,
   "metadata": {},
   "outputs": [
    {
     "data": {
      "text/plain": [
       "0.000920694386689099"
      ]
     },
     "execution_count": 149,
     "metadata": {},
     "output_type": "execute_result"
    }
   ],
   "source": [
    "sum(data_df['merchantCountryCode'] == '')/data_df.shape[0]"
   ]
  },
  {
   "cell_type": "code",
   "execution_count": 150,
   "metadata": {},
   "outputs": [
    {
     "name": "stdout",
     "output_type": "stream",
     "text": [
      "The number of unique values: 5\n",
      "Categories:\n",
      "US     778511\n",
      "MEX      3143\n",
      "CAN      2426\n",
      "PR       1559\n",
      "          724\n",
      "Name: merchantCountryCode, dtype: int64\n"
     ]
    }
   ],
   "source": [
    "categorical_info(data_df['merchantCountryCode'])"
   ]
  },
  {
   "cell_type": "code",
   "execution_count": 151,
   "metadata": {},
   "outputs": [
    {
     "name": "stdout",
     "output_type": "stream",
     "text": [
      "There are total 724 transactions in our data.\n",
      "Is Fraud:\n",
      "Count: 82\n",
      "Proportion: 11.33%\n",
      "Not Fraud:\n",
      "Count: 642\n",
      "Proportion: 88.67%\n"
     ]
    },
    {
     "data": {
      "image/png": "[encoded data removed]",
      "text/plain": [
       "<Figure size 360x360 with 1 Axes>"
      ]
     },
     "metadata": {},
     "output_type": "display_data"
    }
   ],
   "source": [
    "target_info(data_df[(data_df.merchantCountryCode == '')]['isFraud'])"
   ]
  },
  {
   "cell_type": "markdown",
   "metadata": {},
   "source": [
    "### 4.1.3 posConditionCode\n",
    "- There are 0.04% (< 2%) posConditionCode data has empty values\n",
    "- The porpotion of Fraud cases (5.38%) inside the empty posConditionCode data are  greather than the population porpotion (1.58%)\n",
    "- The empty data of posConditionCode has some information, we can't drop these data\n",
    "- Missing data not at Random (MNAR), We need to do imputation\n"
   ]
  },
  {
   "cell_type": "code",
   "execution_count": 152,
   "metadata": {},
   "outputs": [
    {
     "data": {
      "text/plain": [
       "0.0005201160278395601"
      ]
     },
     "execution_count": 152,
     "metadata": {},
     "output_type": "execute_result"
    }
   ],
   "source": [
    "sum(data_df['posConditionCode'] == '')/data_df.shape[0]"
   ]
  },
  {
   "cell_type": "code",
   "execution_count": 153,
   "metadata": {},
   "outputs": [
    {
     "name": "stdout",
     "output_type": "stream",
     "text": [
      "The number of unique values: 4\n",
      "Categories:\n",
      "01    628787\n",
      "08    149634\n",
      "99      7533\n",
      "         409\n",
      "Name: posConditionCode, dtype: int64\n"
     ]
    }
   ],
   "source": [
    "categorical_info(data_df['posConditionCode'])"
   ]
  },
  {
   "cell_type": "code",
   "execution_count": 154,
   "metadata": {},
   "outputs": [
    {
     "name": "stdout",
     "output_type": "stream",
     "text": [
      "There are total 409 transactions in our data.\n",
      "Is Fraud:\n",
      "Count: 22\n",
      "Proportion: 5.38%\n",
      "Not Fraud:\n",
      "Count: 387\n",
      "Proportion: 94.62%\n"
     ]
    },
    {
     "data": {
      "image/png": "[encoded data removed]",
      "text/plain": [
       "<Figure size 360x360 with 1 Axes>"
      ]
     },
     "metadata": {},
     "output_type": "display_data"
    }
   ],
   "source": [
    "target_info(data_df[(data_df.posConditionCode == '')]['isFraud'])"
   ]
  },
  {
   "cell_type": "markdown",
   "metadata": {},
   "source": [
    "### 4.1.4 posEntryMode\n",
    "- There are 0.52% (< 2%) posEntryMode data has empty values.\n",
    "- The porpotion of Fraud cases (6.64%) inside the empty posEntryMode data are greather than the population porpotion (1.58%)\n",
    "- The empty data of posEntryMode has some information, we can't drop these data\n",
    "- Missing data not at Random (MNAR), We need to do imputation\n",
    "\n"
   ]
  },
  {
   "cell_type": "code",
   "execution_count": 155,
   "metadata": {},
   "outputs": [
    {
     "data": {
      "text/plain": [
       "0.0051553798945270825"
      ]
     },
     "execution_count": 155,
     "metadata": {},
     "output_type": "execute_result"
    }
   ],
   "source": [
    "sum(data_df['posEntryMode'] == '')/data_df.shape[0]"
   ]
  },
  {
   "cell_type": "code",
   "execution_count": 156,
   "metadata": {},
   "outputs": [
    {
     "name": "stdout",
     "output_type": "stream",
     "text": [
      "The number of unique values: 6\n",
      "Categories:\n",
      "05    315035\n",
      "09    236481\n",
      "02    195934\n",
      "90     19576\n",
      "80     15283\n",
      "        4054\n",
      "Name: posEntryMode, dtype: int64\n"
     ]
    }
   ],
   "source": [
    "categorical_info(data_df['posEntryMode'])"
   ]
  },
  {
   "cell_type": "code",
   "execution_count": 157,
   "metadata": {},
   "outputs": [
    {
     "name": "stdout",
     "output_type": "stream",
     "text": [
      "There are total 4054 transactions in our data.\n",
      "Is Fraud:\n",
      "Count: 269\n",
      "Proportion: 6.64%\n",
      "Not Fraud:\n",
      "Count: 3785\n",
      "Proportion: 93.36%\n"
     ]
    },
    {
     "data": {
      "image/png": "[encoded data removed]",
      "text/plain": [
       "<Figure size 360x360 with 1 Axes>"
      ]
     },
     "metadata": {},
     "output_type": "display_data"
    }
   ],
   "source": [
    "target_info(data_df[(data_df.posEntryMode == '')]['isFraud'])"
   ]
  },
  {
   "cell_type": "markdown",
   "metadata": {},
   "source": [
    "### 4.1.5 transactionType\n",
    "- There are 0.09% (< 2%) transactionType data has empty values. \n",
    "- The porpotion of Fraud cases (2.04%) inside the empty posEntryMode data are greather than the population porpotion (1.76%)\n",
    "- The empty data of posEntryMode has some information, we can't drop these data\n",
    "- Missing data not at Random (MNAR), We need to do imputation\n"
   ]
  },
  {
   "cell_type": "code",
   "execution_count": 158,
   "metadata": {},
   "outputs": [
    {
     "data": {
      "text/plain": [
       "0.0008876307761173911"
      ]
     },
     "execution_count": 158,
     "metadata": {},
     "output_type": "execute_result"
    }
   ],
   "source": [
    "sum(data_df['transactionType'] == '')/data_df.shape[0]"
   ]
  },
  {
   "cell_type": "code",
   "execution_count": 159,
   "metadata": {},
   "outputs": [
    {
     "name": "stdout",
     "output_type": "stream",
     "text": [
      "The number of unique values: 4\n",
      "Categories:\n",
      "PURCHASE                745193\n",
      "REVERSAL                 20303\n",
      "ADDRESS_VERIFICATION     20169\n",
      "                           698\n",
      "Name: transactionType, dtype: int64\n"
     ]
    }
   ],
   "source": [
    "categorical_info(data_df['transactionType'])"
   ]
  },
  {
   "cell_type": "code",
   "execution_count": 160,
   "metadata": {},
   "outputs": [
    {
     "name": "stdout",
     "output_type": "stream",
     "text": [
      "There are total 698 transactions in our data.\n",
      "Is Fraud:\n",
      "Count: 14\n",
      "Proportion: 2.01%\n",
      "Not Fraud:\n",
      "Count: 684\n",
      "Proportion: 97.99%\n"
     ]
    },
    {
     "data": {
      "image/png": "[encoded data removed]",
      "text/plain": [
       "<Figure size 360x360 with 1 Axes>"
      ]
     },
     "metadata": {},
     "output_type": "display_data"
    }
   ],
   "source": [
    "target_info(data_df[(data_df.transactionType == '')]['isFraud'])"
   ]
  },
  {
   "cell_type": "markdown",
   "metadata": {},
   "source": [
    "The missing data for these 5 columns belong to Missing data not at Random (MNAR), There is a mechanism or a reason why missing values are introduced in the dataset. We need to flag those missing values, good at prediction."
   ]
  },
  {
   "cell_type": "code",
   "execution_count": 161,
   "metadata": {},
   "outputs": [
    {
     "name": "stdout",
     "output_type": "stream",
     "text": [
      "There are total 9695 transactions in our data.\n",
      "Is Fraud:\n",
      "Count: 451\n",
      "Proportion: 4.65%\n",
      "Not Fraud:\n",
      "Count: 9244\n",
      "Proportion: 95.35%\n"
     ]
    },
    {
     "data": {
      "image/png": "[encoded data removed]",
      "text/plain": [
       "<Figure size 360x360 with 1 Axes>"
      ]
     },
     "metadata": {},
     "output_type": "display_data"
    }
   ],
   "source": [
    "#check if distribution of missing_data's label is the same as the total dataset.\n",
    "missing_data = data_df[(data_df.acqCountry == '') | \n",
    "                       (data_df.merchantCountryCode == '') |\n",
    "                       (data_df.posConditionCode == '') |\n",
    "                       (data_df.posEntryMode == '') |\n",
    "                       (data_df.transactionType == '')]\n",
    "target_info(missing_data.isFraud)"
   ]
  },
  {
   "cell_type": "markdown",
   "metadata": {},
   "source": [
    "Let's think more about transactionType: \n",
    "- 'PURCHASE' means that credit card holders are paying money\n",
    "- 'REVERSAL' means that merchants are returning money back to credit card holders\n",
    "\n",
    "Thus, it indicates two different directs for transaction.\n",
    "Let's combine transactionType and transactionAmount, see if we can find some patterns."
   ]
  },
  {
   "cell_type": "code",
   "execution_count": 162,
   "metadata": {},
   "outputs": [],
   "source": [
    "#data_df[data_df['transactionType'] == 'PURCHASE']['transactionAmount'].describe()"
   ]
  },
  {
   "cell_type": "code",
   "execution_count": 163,
   "metadata": {},
   "outputs": [],
   "source": [
    "#data_df[data_df['transactionType'] == 'REVERSAL']['transactionAmount'].describe()"
   ]
  },
  {
   "cell_type": "code",
   "execution_count": 164,
   "metadata": {},
   "outputs": [],
   "source": [
    "#data_df[data_df['transactionType'] == 'ADDRESS_VERIFICATION']['transactionAmount'].describe()"
   ]
  },
  {
   "cell_type": "code",
   "execution_count": 165,
   "metadata": {},
   "outputs": [],
   "source": [
    "#data_df[data_df['transactionType'] == '']['transactionAmount'].describe()"
   ]
  },
  {
   "cell_type": "markdown",
   "metadata": {},
   "source": [
    "We can find that all transactionAmount for 'PURCHASE' and 'REVERSAL' are positive and all transactionAmount for 'ADDRESS_VERIFICATION' is zero. If 'PURCHASE' and 'REVERSAL' directs for transaction, one transactionAmount should be positive and one transactionAmount should be negative, but here are all positive. \n",
    "We may use transactionAmount and availableMoney to find the direction here, then based on the directions, we can impute missing values for transactionType.\n",
    "\n",
    "Define 'PURCHASE' has a negative value, because users are paying some money, and 'REVERSAL' has positive value."
   ]
  },
  {
   "cell_type": "code",
   "execution_count": 166,
   "metadata": {},
   "outputs": [
    {
     "data": {
      "text/plain": [
       "0"
      ]
     },
     "execution_count": 166,
     "metadata": {},
     "output_type": "execute_result"
    }
   ],
   "source": [
    "# fortunately, when transactionType is missing, no transactionAmount is 0,\n",
    "# which means that every missing transactionType should be either 'PURCHASE' or 'REVERSAL'.\n",
    "sum(data_df[data_df['transactionType'] == '']['transactionAmount'] == 0)"
   ]
  },
  {
   "cell_type": "code",
   "execution_count": 167,
   "metadata": {},
   "outputs": [],
   "source": [
    "def direction_detection(df): \n",
    "    '''\n",
    "    Identity direction for each transaction \n",
    "    Input: dataframe group by accountNumber\n",
    "    '''\n",
    "    direction = np.sign(df['availableMoney'][1:].values - df['availableMoney'][:-1].values)\n",
    "    df['direction'] = [*list(direction), *[np.nan]]\n",
    "    direction = df[['direction']]\n",
    "    \n",
    "    return direction"
   ]
  },
  {
   "cell_type": "code",
   "execution_count": 168,
   "metadata": {},
   "outputs": [],
   "source": [
    "#data_df[data_df['accountNumber']=='682319827']['availableMoney'].diff(1)"
   ]
  },
  {
   "cell_type": "code",
   "execution_count": 169,
   "metadata": {},
   "outputs": [],
   "source": [
    "def transactionType_match(direction):\n",
    "    '''\n",
    "    Identity transactionType for each transaction \n",
    "    Input: float - direction for each transaction\n",
    "    '''\n",
    "    if direction == float(-1):\n",
    "        return 'PURCHASE'\n",
    "    elif direction == float(1):\n",
    "        return 'REVERSAL'\n",
    "    else:\n",
    "        return ''"
   ]
  },
  {
   "cell_type": "code",
   "execution_count": 170,
   "metadata": {},
   "outputs": [],
   "source": [
    "#data_df['direction'] = data_df.groupby('accountNumber').apply(direction_detection)\n",
    "#data_df['transactionType'] = data_df.apply(lambda x: transactionType_match(x['direction']) \n",
    "#                                           if x['transactionType'] == '' else x['transactionType'],\n",
    "#                                           axis = 1)"
   ]
  },
  {
   "cell_type": "code",
   "execution_count": 171,
   "metadata": {},
   "outputs": [],
   "source": [
    "# there are still 6 transactionType missing\n",
    "# probably becasue the 6 transactions are the last transaction in one accoutNumber\n",
    "# so we are unable to calculate the direction\n",
    "#data_df[data_df['transactionType'] == '']"
   ]
  },
  {
   "cell_type": "code",
   "execution_count": 172,
   "metadata": {},
   "outputs": [],
   "source": [
    "# all six transactions are not fraud\n",
    "# these six transactions can be dropped\n",
    "# because the number of missing sample is too small and it will affect other missing values\n",
    "#missing_transactionType = data_df[(data_df.transactionType == '')]\n",
    "\n",
    "#print(missing_transactionType[['acqCountry', 'merchantCountryCode', 'posConditionCode', 'posEntryMode']])\n",
    "#data_df = data_df.drop(data_df[data_df.transactionType == ''].index)\n"
   ]
  },
  {
   "cell_type": "markdown",
   "metadata": {},
   "source": [
    "### 4.1.6. accountNumber\n",
    "* not used for training, because it is ID."
   ]
  },
  {
   "cell_type": "code",
   "execution_count": 173,
   "metadata": {},
   "outputs": [
    {
     "name": "stdout",
     "output_type": "stream",
     "text": [
      "The number of unique accountNumber: 5000\n"
     ]
    }
   ],
   "source": [
    "print('The number of unique accountNumber: {}'.format(len(data_df['accountNumber'].unique()))) "
   ]
  },
  {
   "cell_type": "code",
   "execution_count": 174,
   "metadata": {},
   "outputs": [
    {
     "data": {
      "text/plain": [
       "380680241    32850\n",
       "882815134    13189\n",
       "570884863    10867\n",
       "246251253    10172\n",
       "369308035     7229\n",
       "724518977     6283\n",
       "894938833     6101\n",
       "419709514     5930\n",
       "832842201     5850\n",
       "208319653     5235\n",
       "Name: accountNumber, dtype: int64"
      ]
     },
     "execution_count": 174,
     "metadata": {},
     "output_type": "execute_result"
    }
   ],
   "source": [
    "data_df['accountNumber'].value_counts()[:10] "
   ]
  },
  {
   "cell_type": "markdown",
   "metadata": {},
   "source": [
    "### 4.1.7 accountOpenDate\n",
    "* not used for training. "
   ]
  },
  {
   "cell_type": "code",
   "execution_count": 175,
   "metadata": {},
   "outputs": [
    {
     "name": "stdout",
     "output_type": "stream",
     "text": [
      "The number of unique accountOpenDate: 1820\n"
     ]
    }
   ],
   "source": [
    "# The number of unique accountNumber is greater than The number of unique accountOpenDate\n",
    "# means some cards are opened in the same day.\n",
    "print('The number of unique accountOpenDate: {}'.format(len(data_df['accountOpenDate'].unique()))) "
   ]
  },
  {
   "cell_type": "code",
   "execution_count": 176,
   "metadata": {},
   "outputs": [
    {
     "data": {
      "text/plain": [
       "0    2015-03-14\n",
       "1    2015-03-14\n",
       "2    2015-03-14\n",
       "3    2015-03-14\n",
       "4    2015-08-06\n",
       "Name: accountOpenDate, dtype: object"
      ]
     },
     "execution_count": 176,
     "metadata": {},
     "output_type": "execute_result"
    }
   ],
   "source": [
    "data_df['accountOpenDate'].head()"
   ]
  },
  {
   "cell_type": "markdown",
   "metadata": {},
   "source": [
    "### 4.1.8. currentExpDate\n",
    "* t used in training. Based on common sense, this feature is usually not related with Fraud."
   ]
  },
  {
   "cell_type": "code",
   "execution_count": 177,
   "metadata": {},
   "outputs": [
    {
     "name": "stdout",
     "output_type": "stream",
     "text": [
      "The number of unique currentExpDate: 165\n"
     ]
    }
   ],
   "source": [
    "print('The number of unique currentExpDate: {}'.format(len(data_df['currentExpDate'].unique()))) "
   ]
  },
  {
   "cell_type": "code",
   "execution_count": 178,
   "metadata": {},
   "outputs": [
    {
     "data": {
      "text/plain": [
       "0    06/2023\n",
       "1    02/2024\n",
       "2    08/2025\n",
       "3    08/2025\n",
       "4    10/2029\n",
       "Name: currentExpDate, dtype: object"
      ]
     },
     "execution_count": 178,
     "metadata": {},
     "output_type": "execute_result"
    }
   ],
   "source": [
    "data_df['currentExpDate'].head()"
   ]
  },
  {
   "cell_type": "markdown",
   "metadata": {},
   "source": [
    "### 4.1.9 dateOfLastAddressChange \n",
    "* construct a new feature based on this. explained in new feature section"
   ]
  },
  {
   "cell_type": "code",
   "execution_count": 179,
   "metadata": {},
   "outputs": [
    {
     "name": "stdout",
     "output_type": "stream",
     "text": [
      "The number of unique dateOfLastAddressChange: 2184\n"
     ]
    }
   ],
   "source": [
    "print('The number of unique dateOfLastAddressChange: {}'.format(len(data_df['dateOfLastAddressChange'].unique()))) "
   ]
  },
  {
   "cell_type": "code",
   "execution_count": 180,
   "metadata": {},
   "outputs": [
    {
     "data": {
      "text/plain": [
       "0    2015-03-14\n",
       "1    2015-03-14\n",
       "2    2015-03-14\n",
       "3    2015-03-14\n",
       "4    2015-08-06\n",
       "Name: dateOfLastAddressChange, dtype: object"
      ]
     },
     "execution_count": 180,
     "metadata": {},
     "output_type": "execute_result"
    }
   ],
   "source": [
    "data_df['dateOfLastAddressChange'].head()"
   ]
  },
  {
   "cell_type": "code",
   "execution_count": 181,
   "metadata": {},
   "outputs": [
    {
     "data": {
      "text/plain": [
       "2016-03-15    3819\n",
       "2016-01-06    3740\n",
       "2016-01-04    3558\n",
       "2016-06-08    3355\n",
       "2016-04-04    3194\n",
       "2016-02-22    3102\n",
       "2016-03-23    3091\n",
       "2016-04-07    3036\n",
       "2016-05-19    2969\n",
       "2016-01-01    2925\n",
       "Name: dateOfLastAddressChange, dtype: int64"
      ]
     },
     "execution_count": 181,
     "metadata": {},
     "output_type": "execute_result"
    }
   ],
   "source": [
    "data_df['dateOfLastAddressChange'].value_counts()[:10]"
   ]
  },
  {
   "cell_type": "code",
   "execution_count": 182,
   "metadata": {},
   "outputs": [],
   "source": [
    "def convert_AddressChange_time(time):\n",
    "    time_fmt = '%Y-%m-%d'\n",
    "    if isinstance(time, str):\n",
    "        return datetime.datetime.strptime(time, time_fmt)\n",
    "#     else:\n",
    "#         return None"
   ]
  },
  {
   "cell_type": "code",
   "execution_count": 183,
   "metadata": {},
   "outputs": [],
   "source": [
    "data_df['dateOfLastAddressChange'] = data_df.dateOfLastAddressChange.apply(lambda x: convert_AddressChange_time(x))"
   ]
  },
  {
   "cell_type": "markdown",
   "metadata": {},
   "source": [
    "### 4.1.10 expirationDateKeyInMatch \n",
    "* used in training. \n"
   ]
  },
  {
   "cell_type": "code",
   "execution_count": 184,
   "metadata": {},
   "outputs": [
    {
     "name": "stdout",
     "output_type": "stream",
     "text": [
      "The number of unique expirationDateKeyInMatch: 2\n"
     ]
    }
   ],
   "source": [
    "print('The number of unique expirationDateKeyInMatch: {}'.format(len(data_df['expirationDateKeyInMatch'].unique()))) "
   ]
  },
  {
   "cell_type": "code",
   "execution_count": 185,
   "metadata": {},
   "outputs": [
    {
     "data": {
      "text/plain": [
       "0    False\n",
       "1    False\n",
       "2    False\n",
       "3    False\n",
       "4    False\n",
       "Name: expirationDateKeyInMatch, dtype: bool"
      ]
     },
     "execution_count": 185,
     "metadata": {},
     "output_type": "execute_result"
    }
   ],
   "source": [
    "data_df['expirationDateKeyInMatch'].head()"
   ]
  },
  {
   "cell_type": "code",
   "execution_count": 186,
   "metadata": {},
   "outputs": [
    {
     "data": {
      "text/plain": [
       "False    785320\n",
       "True       1043\n",
       "Name: expirationDateKeyInMatch, dtype: int64"
      ]
     },
     "execution_count": 186,
     "metadata": {},
     "output_type": "execute_result"
    }
   ],
   "source": [
    "data_df['expirationDateKeyInMatch'].value_counts() "
   ]
  },
  {
   "cell_type": "code",
   "execution_count": 187,
   "metadata": {},
   "outputs": [
    {
     "name": "stdout",
     "output_type": "stream",
     "text": [
      "There are total 1043 transactions in our data.\n",
      "Is Fraud:\n",
      "Count: 13\n",
      "Proportion: 1.25%\n",
      "Not Fraud:\n",
      "Count: 1030\n",
      "Proportion: 98.75%\n"
     ]
    },
    {
     "data": {
      "image/png": "[encoded data removed]",
      "text/plain": [
       "<Figure size 360x360 with 1 Axes>"
      ]
     },
     "metadata": {},
     "output_type": "display_data"
    }
   ],
   "source": [
    "# when data_df.expirationDateKeyInMatch == True, the probability of Fraud is less. So there is little information.\n",
    "target_info(data_df[(data_df.expirationDateKeyInMatch == True)]['isFraud'])"
   ]
  },
  {
   "cell_type": "code",
   "execution_count": 188,
   "metadata": {},
   "outputs": [
    {
     "name": "stdout",
     "output_type": "stream",
     "text": [
      "There are total 785320 transactions in our data.\n",
      "Is Fraud:\n",
      "Count: 12404\n",
      "Proportion: 1.58%\n",
      "Not Fraud:\n",
      "Count: 772916\n",
      "Proportion: 98.42%\n"
     ]
    },
    {
     "data": {
      "image/png": "[encoded data removed]",
      "text/plain": [
       "<Figure size 360x360 with 1 Axes>"
      ]
     },
     "metadata": {},
     "output_type": "display_data"
    }
   ],
   "source": [
    "target_info(data_df[(data_df.expirationDateKeyInMatch == False)]['isFraud'])"
   ]
  },
  {
   "cell_type": "markdown",
   "metadata": {},
   "source": [
    "### 4.1.11 merchantCategoryCode \n",
    "* Different merchantCategoryCodes have different chance to be a Fraud."
   ]
  },
  {
   "cell_type": "code",
   "execution_count": 189,
   "metadata": {},
   "outputs": [
    {
     "name": "stdout",
     "output_type": "stream",
     "text": [
      "The number of unique merchantCategoryCode: 19\n"
     ]
    }
   ],
   "source": [
    "print('The number of unique merchantCategoryCode: {}'.format(len(data_df['merchantCategoryCode'].unique())))"
   ]
  },
  {
   "cell_type": "code",
   "execution_count": 190,
   "metadata": {},
   "outputs": [
    {
     "data": {
      "text/plain": [
       "online_retail           202156\n",
       "fastfood                112138\n",
       "entertainment            80098\n",
       "food                     75490\n",
       "online_gifts             66238\n",
       "rideshare                51136\n",
       "hotels                   34097\n",
       "fuel                     23910\n",
       "subscriptions            22901\n",
       "auto                     21651\n",
       "health                   19092\n",
       "personal care            18964\n",
       "airline                  15412\n",
       "mobileapps               14990\n",
       "online_subscriptions     11067\n",
       "furniture                 7432\n",
       "food_delivery             6000\n",
       "gym                       2209\n",
       "cable/phone               1382\n",
       "Name: merchantCategoryCode, dtype: int64"
      ]
     },
     "execution_count": 190,
     "metadata": {},
     "output_type": "execute_result"
    }
   ],
   "source": [
    "data_df['merchantCategoryCode'].value_counts()"
   ]
  },
  {
   "cell_type": "code",
   "execution_count": 191,
   "metadata": {},
   "outputs": [
    {
     "name": "stdout",
     "output_type": "stream",
     "text": [
      "There are total 202156 transactions in our data.\n",
      "Is Fraud:\n",
      "Count: 4938\n",
      "Proportion: 2.44%\n",
      "Not Fraud:\n",
      "Count: 197218\n",
      "Proportion: 97.56%\n"
     ]
    },
    {
     "data": {
      "image/png": "[encoded data removed]",
      "text/plain": [
       "<Figure size 360x360 with 1 Axes>"
      ]
     },
     "metadata": {},
     "output_type": "display_data"
    }
   ],
   "source": [
    "target_info(data_df[(data_df.merchantCategoryCode == 'online_retail')]['isFraud'])"
   ]
  },
  {
   "cell_type": "code",
   "execution_count": 192,
   "metadata": {},
   "outputs": [
    {
     "name": "stdout",
     "output_type": "stream",
     "text": [
      "There are total 23910 transactions in our data.\n",
      "Is Fraud:\n",
      "Count: 0\n",
      "Proportion: 0.0%\n",
      "Not Fraud:\n",
      "Count: 23910\n",
      "Proportion: 100.0%\n"
     ]
    },
    {
     "data": {
      "image/png": "[encoded data removed]",
      "text/plain": [
       "<Figure size 360x360 with 1 Axes>"
      ]
     },
     "metadata": {},
     "output_type": "display_data"
    }
   ],
   "source": [
    "# when merchantCategoryCode == 'fuel', there is no Fraud.\n",
    "target_info(data_df[(data_df.merchantCategoryCode == 'fuel')]['isFraud'])  "
   ]
  },
  {
   "cell_type": "markdown",
   "metadata": {},
   "source": [
    "### 4.1.12 merchantName\n",
    "* Difference merchant has different fraud probability."
   ]
  },
  {
   "cell_type": "code",
   "execution_count": 193,
   "metadata": {},
   "outputs": [
    {
     "name": "stdout",
     "output_type": "stream",
     "text": [
      "The number of unique merchantName: 2490\n"
     ]
    }
   ],
   "source": [
    "print('The number of unique merchantName: {}'.format(len(data_df['merchantName'].unique())))"
   ]
  },
  {
   "cell_type": "code",
   "execution_count": 194,
   "metadata": {},
   "outputs": [
    {
     "data": {
      "text/plain": [
       "Uber                        25613\n",
       "Lyft                        25523\n",
       "oldnavy.com                 16992\n",
       "staples.com                 16980\n",
       "alibaba.com                 16959\n",
       "apple.com                   16898\n",
       "walmart.com                 16873\n",
       "cheapfast.com               16858\n",
       "ebay.com                    16842\n",
       "target.com                  16813\n",
       "amazon.com                  16780\n",
       "sears.com                   16755\n",
       "discount.com                16731\n",
       "gap.com                     16675\n",
       "Fresh Online Services        8384\n",
       "Blue Mountain eCards         8372\n",
       "Fresh Flowers                8334\n",
       "Next Day eCards              8277\n",
       "Next Day Online Services     8273\n",
       "Fresh eCards                 8269\n",
       "Name: merchantName, dtype: int64"
      ]
     },
     "execution_count": 194,
     "metadata": {},
     "output_type": "execute_result"
    }
   ],
   "source": [
    "data_df['merchantName'].value_counts()[:20] "
   ]
  },
  {
   "cell_type": "code",
   "execution_count": 195,
   "metadata": {},
   "outputs": [
    {
     "name": "stdout",
     "output_type": "stream",
     "text": [
      "There are total 7571 transactions in our data.\n",
      "Is Fraud:\n",
      "Count: 0\n",
      "Proportion: 0.0%\n",
      "Not Fraud:\n",
      "Count: 7571\n",
      "Proportion: 100.0%\n"
     ]
    },
    {
     "data": {
      "image/png": "[encoded data removed]",
      "text/plain": [
       "<Figure size 360x360 with 1 Axes>"
      ]
     },
     "metadata": {},
     "output_type": "display_data"
    }
   ],
   "source": [
    "# there is no fruad for Apple iTunes.\n",
    "target_info(data_df[(data_df.merchantName == 'Apple iTunes')]['isFraud'])"
   ]
  },
  {
   "cell_type": "code",
   "execution_count": 196,
   "metadata": {},
   "outputs": [
    {
     "name": "stdout",
     "output_type": "stream",
     "text": [
      "There are total 25613 transactions in our data.\n",
      "Is Fraud:\n",
      "Count: 512\n",
      "Proportion: 2.0%\n",
      "Not Fraud:\n",
      "Count: 25101\n",
      "Proportion: 98.0%\n"
     ]
    },
    {
     "data": {
      "image/png": "[encoded data removed]",
      "text/plain": [
       "<Figure size 360x360 with 1 Axes>"
      ]
     },
     "metadata": {},
     "output_type": "display_data"
    }
   ],
   "source": [
    "target_info(data_df[(data_df.merchantName == 'Uber')]['isFraud'])"
   ]
  },
  {
   "cell_type": "markdown",
   "metadata": {},
   "source": [
    "#### From the three graph above, we can see depends on different merchantName, the Fruad proportion may be different. We need to do one-hot-encoding about this"
   ]
  },
  {
   "cell_type": "markdown",
   "metadata": {},
   "source": [
    "### 4.1.13 transactionDateTime\n",
    "* Not used for training"
   ]
  },
  {
   "cell_type": "code",
   "execution_count": 197,
   "metadata": {},
   "outputs": [
    {
     "name": "stdout",
     "output_type": "stream",
     "text": [
      "The number of unique transactionDateTime: 776637\n"
     ]
    }
   ],
   "source": [
    "print('The number of unique transactionDateTime: {}'.format(len(data_df['transactionDateTime'].unique())))"
   ]
  },
  {
   "cell_type": "code",
   "execution_count": 198,
   "metadata": {},
   "outputs": [
    {
     "data": {
      "text/plain": [
       "2016-05-28T14:24:41    4\n",
       "2016-12-25T14:04:15    4\n",
       "2016-07-29T15:13:23    3\n",
       "2016-05-11T04:22:40    3\n",
       "2016-05-16T04:47:29    3\n",
       "2016-10-13T06:33:05    3\n",
       "2016-09-04T13:09:18    3\n",
       "2016-02-26T19:57:50    3\n",
       "2016-06-12T14:32:18    3\n",
       "2016-09-19T11:22:23    3\n",
       "Name: transactionDateTime, dtype: int64"
      ]
     },
     "execution_count": 198,
     "metadata": {},
     "output_type": "execute_result"
    }
   ],
   "source": [
    "data_df['transactionDateTime'].value_counts()[:10]"
   ]
  },
  {
   "cell_type": "code",
   "execution_count": 199,
   "metadata": {},
   "outputs": [],
   "source": [
    "def convert_transaction_time(time):\n",
    "    time_fmt = '%Y-%m-%dT%H:%M:%S'\n",
    "    if isinstance(time, str):\n",
    "        return datetime.datetime.strptime(time, time_fmt)\n",
    "#     else:\n",
    "#         return None"
   ]
  },
  {
   "cell_type": "code",
   "execution_count": 200,
   "metadata": {},
   "outputs": [],
   "source": [
    "data_df['transactionDateTime'] = data_df.transactionDateTime.apply(lambda x: convert_transaction_time(x))\n",
    "# separate day and time for future use\n",
    "data_df['transaction_date'] = data_df.transactionDateTime.apply(lambda x: x.date()) # add date column\n",
    "data_df['transaction_time'] = data_df.transactionDateTime.apply(lambda x: x.time()) # add time column\n",
    "# ignore year here, becasue all dates are in 2016\n",
    "data_df['transaction_day'] = data_df.transactionDateTime.apply(lambda x: x.day)"
   ]
  },
  {
   "cell_type": "code",
   "execution_count": 201,
   "metadata": {},
   "outputs": [],
   "source": [
    "trans_date=data_df[data_df['isFraud']==True].groupby('transaction_date')['isFraud'].count()\n",
    "trans_date=trans_date.reset_index()\n",
    "trans_date_no_fraud=data_df[data_df['isFraud']==False].groupby('transaction_date')['isFraud'].count()\n",
    "trans_date_no_fraud=trans_date_no_fraud.reset_index()\n",
    "trans_date_no_fraud.columns=['transaction_date','notFraud']\n",
    "trans_date_fraud=trans_date.merge(trans_date_no_fraud,on=['transaction_date'])"
   ]
  },
  {
   "cell_type": "code",
   "execution_count": 202,
   "metadata": {},
   "outputs": [
    {
     "data": {
      "text/plain": [
       "Text(0.5,1,'Daily isFraud Proportion')"
      ]
     },
     "execution_count": 202,
     "metadata": {},
     "output_type": "execute_result"
    },
    {
     "data": {
      "image/png": "[encoded data removed]",
      "text/plain": [
       "<Figure size 720x432 with 1 Axes>"
      ]
     },
     "metadata": {},
     "output_type": "display_data"
    }
   ],
   "source": [
    "fig = plt.figure(figsize=(10,6))\n",
    "\n",
    "ax1 = fig.add_axes([0,0,1,1])\n",
    "ax1.plot(trans_date_fraud.transaction_date,\n",
    "         trans_date_fraud.isFraud/(trans_date_fraud.isFraud+trans_date_fraud.notFraud))\n",
    "#set_xaxis=ax1.set_xticklabels(labels=trans_date_fraud.transaction_date, rotation=45, ha='right')\n",
    "plt.gcf().autofmt_xdate()\n",
    "\n",
    "ax1.set_title('Daily isFraud Proportion')"
   ]
  },
  {
   "cell_type": "markdown",
   "metadata": {},
   "source": [
    "We can see there is a potential pattern based on day in each month, so I contruct a new column using day."
   ]
  },
  {
   "cell_type": "markdown",
   "metadata": {},
   "source": [
    "### 4.1.14. cardPresent \n",
    "* When cardPresent is True, the Fraud probability is less "
   ]
  },
  {
   "cell_type": "code",
   "execution_count": 203,
   "metadata": {},
   "outputs": [
    {
     "name": "stdout",
     "output_type": "stream",
     "text": [
      "The number of unique cardPresent: 2\n"
     ]
    }
   ],
   "source": [
    "print('The number of unique cardPresent: {}'.format(len(data_df['cardPresent'].unique())))"
   ]
  },
  {
   "cell_type": "code",
   "execution_count": 204,
   "metadata": {},
   "outputs": [
    {
     "data": {
      "text/plain": [
       "False    433495\n",
       "True     352868\n",
       "Name: cardPresent, dtype: int64"
      ]
     },
     "execution_count": 204,
     "metadata": {},
     "output_type": "execute_result"
    }
   ],
   "source": [
    "data_df['cardPresent'].value_counts()"
   ]
  },
  {
   "cell_type": "markdown",
   "metadata": {},
   "source": [
    "When 'cardPresent' be True, the transaction tends to be a Fraud less. "
   ]
  },
  {
   "cell_type": "code",
   "execution_count": 205,
   "metadata": {},
   "outputs": [
    {
     "name": "stdout",
     "output_type": "stream",
     "text": [
      "There are total 352868 transactions in our data.\n",
      "Is Fraud:\n",
      "Count: 3455\n",
      "Proportion: 0.98%\n",
      "Not Fraud:\n",
      "Count: 349413\n",
      "Proportion: 99.02%\n"
     ]
    },
    {
     "data": {
      "image/png": "[encoded data removed]",
      "text/plain": [
       "<Figure size 360x360 with 1 Axes>"
      ]
     },
     "metadata": {},
     "output_type": "display_data"
    }
   ],
   "source": [
    "target_info(data_df[data_df['cardPresent'] == True].isFraud)"
   ]
  },
  {
   "cell_type": "code",
   "execution_count": 206,
   "metadata": {},
   "outputs": [
    {
     "name": "stdout",
     "output_type": "stream",
     "text": [
      "There are total 433495 transactions in our data.\n",
      "Is Fraud:\n",
      "Count: 8962\n",
      "Proportion: 2.07%\n",
      "Not Fraud:\n",
      "Count: 424533\n",
      "Proportion: 97.92999999999999%\n"
     ]
    },
    {
     "data": {
      "image/png": "[encoded data removed]",
      "text/plain": [
       "<Figure size 360x360 with 1 Axes>"
      ]
     },
     "metadata": {},
     "output_type": "display_data"
    }
   ],
   "source": [
    "target_info(data_df[data_df['cardPresent'] == False].isFraud)"
   ]
  },
  {
   "cell_type": "markdown",
   "metadata": {},
   "source": [
    "### 4.1.15. customerId\n",
    "* not used in training. same as ID. "
   ]
  },
  {
   "cell_type": "code",
   "execution_count": 207,
   "metadata": {},
   "outputs": [
    {
     "name": "stdout",
     "output_type": "stream",
     "text": [
      "The number of unique customerId : 5000\n"
     ]
    }
   ],
   "source": [
    "print('The number of unique customerId : {}'.format(len(data_df['customerId'].unique())))"
   ]
  },
  {
   "cell_type": "code",
   "execution_count": 208,
   "metadata": {},
   "outputs": [
    {
     "data": {
      "text/plain": [
       "380680241    32850\n",
       "882815134    13189\n",
       "570884863    10867\n",
       "246251253    10172\n",
       "369308035     7229\n",
       "724518977     6283\n",
       "894938833     6101\n",
       "419709514     5930\n",
       "832842201     5850\n",
       "208319653     5235\n",
       "Name: customerId, dtype: int64"
      ]
     },
     "execution_count": 208,
     "metadata": {},
     "output_type": "execute_result"
    }
   ],
   "source": [
    "data_df['customerId'].value_counts()[:10]"
   ]
  },
  {
   "cell_type": "markdown",
   "metadata": {},
   "source": [
    "### 4.1.16. cardCVV\n",
    "* construct a new feature based on this. explained in new feature section"
   ]
  },
  {
   "cell_type": "code",
   "execution_count": 209,
   "metadata": {},
   "outputs": [
    {
     "name": "stdout",
     "output_type": "stream",
     "text": [
      "The number of unique cardCVV : 899\n"
     ]
    }
   ],
   "source": [
    "print('The number of unique cardCVV : {}'.format(len(data_df['cardCVV'].unique())))"
   ]
  },
  {
   "cell_type": "code",
   "execution_count": 210,
   "metadata": {},
   "outputs": [
    {
     "data": {
      "text/plain": [
       "869    33749\n",
       "289    15509\n",
       "640    10804\n",
       "455    10279\n",
       "959     7024\n",
       "917     6503\n",
       "548     5487\n",
       "586     5245\n",
       "296     5125\n",
       "494     5038\n",
       "Name: cardCVV, dtype: int64"
      ]
     },
     "execution_count": 210,
     "metadata": {},
     "output_type": "execute_result"
    }
   ],
   "source": [
    "data_df['cardCVV'].value_counts()[:10]"
   ]
  },
  {
   "cell_type": "markdown",
   "metadata": {},
   "source": [
    "### 4.1.17. cardLast4Digits\n",
    "* not used in training. Same as ID."
   ]
  },
  {
   "cell_type": "code",
   "execution_count": 211,
   "metadata": {},
   "outputs": [
    {
     "name": "stdout",
     "output_type": "stream",
     "text": [
      "The number of unique cardLast4Digits : 5246\n"
     ]
    }
   ],
   "source": [
    "print('The number of unique cardLast4Digits : {}'.format(len(data_df['cardLast4Digits'].unique())))"
   ]
  },
  {
   "cell_type": "code",
   "execution_count": 212,
   "metadata": {},
   "outputs": [
    {
     "data": {
      "text/plain": [
       "593     32946\n",
       "2194    10867\n",
       "6002    10172\n",
       "6580     6747\n",
       "8502     6553\n",
       "2178     5930\n",
       "0000     5492\n",
       "7629     5235\n",
       "2701     4826\n",
       "2864     4533\n",
       "Name: cardLast4Digits, dtype: int64"
      ]
     },
     "execution_count": 212,
     "metadata": {},
     "output_type": "execute_result"
    }
   ],
   "source": [
    "data_df['cardLast4Digits'].value_counts()[:10]"
   ]
  },
  {
   "cell_type": "markdown",
   "metadata": {},
   "source": [
    "### 4.1.18 enteredCVV\n",
    "* not used in training. construct a new feature based on this. explained in new feature section"
   ]
  },
  {
   "cell_type": "code",
   "execution_count": 213,
   "metadata": {},
   "outputs": [
    {
     "name": "stdout",
     "output_type": "stream",
     "text": [
      "The number of unique enteredCVV : 976\n"
     ]
    }
   ],
   "source": [
    "print('The number of unique enteredCVV : {}'.format(len(data_df['enteredCVV'].unique())))"
   ]
  },
  {
   "cell_type": "code",
   "execution_count": 214,
   "metadata": {},
   "outputs": [
    {
     "data": {
      "text/plain": [
       "869    33424\n",
       "289    15401\n",
       "640    10731\n",
       "455    10176\n",
       "959     6963\n",
       "917     6440\n",
       "548     5438\n",
       "586     5202\n",
       "296     5081\n",
       "494     5005\n",
       "Name: enteredCVV, dtype: int64"
      ]
     },
     "execution_count": 214,
     "metadata": {},
     "output_type": "execute_result"
    }
   ],
   "source": [
    "data_df['enteredCVV'].value_counts()[:10]"
   ]
  },
  {
   "cell_type": "markdown",
   "metadata": {},
   "source": [
    "<a id='3.2'></a>\n",
    "## 4.2 numerical variables\n",
    "***"
   ]
  },
  {
   "cell_type": "code",
   "execution_count": 215,
   "metadata": {},
   "outputs": [],
   "source": [
    "def numerical_info(df_column):\n",
    "    '''\n",
    "    Plot numerical variable\n",
    "    Input: str - numerical variable column name in dataframe\n",
    "    '''\n",
    "    sns.set(rc={'figure.figsize':(8, 6)})\n",
    "    ax = sns.distplot(data_df[df_column], bins=50, kde=False)\n",
    "    ax.set(xlabel=df_column, ylabel='frequency')"
   ]
  },
  {
   "cell_type": "markdown",
   "metadata": {},
   "source": [
    "### 4.2.1. availableMoney ** -- used in training"
   ]
  },
  {
   "cell_type": "code",
   "execution_count": 216,
   "metadata": {},
   "outputs": [
    {
     "data": {
      "image/png": "[encoded data removed]",
      "text/plain": [
       "<Figure size 576x432 with 1 Axes>"
      ]
     },
     "metadata": {},
     "output_type": "display_data"
    }
   ],
   "source": [
    "numerical_info('availableMoney')"
   ]
  },
  {
   "cell_type": "markdown",
   "metadata": {},
   "source": [
    "### 4.2.2. currentBalance ** -- used in training"
   ]
  },
  {
   "cell_type": "code",
   "execution_count": 217,
   "metadata": {},
   "outputs": [
    {
     "data": {
      "image/png": "[encoded data removed]",
      "text/plain": [
       "<Figure size 576x432 with 1 Axes>"
      ]
     },
     "metadata": {},
     "output_type": "display_data"
    }
   ],
   "source": [
    "numerical_info('currentBalance')"
   ]
  },
  {
   "cell_type": "markdown",
   "metadata": {},
   "source": [
    "### 4.2.3. creditLimit ** -- used in training"
   ]
  },
  {
   "cell_type": "code",
   "execution_count": 218,
   "metadata": {},
   "outputs": [
    {
     "data": {
      "image/png": "[encoded data removed]",
      "text/plain": [
       "<Figure size 576x432 with 1 Axes>"
      ]
     },
     "metadata": {},
     "output_type": "display_data"
    }
   ],
   "source": [
    "numerical_info('creditLimit')"
   ]
  },
  {
   "cell_type": "markdown",
   "metadata": {},
   "source": [
    "### 4.2.4. transactionAmount ** -- I will analyze this variable in detail in next question.\n",
    "-- used in training"
   ]
  },
  {
   "cell_type": "code",
   "execution_count": 219,
   "metadata": {},
   "outputs": [
    {
     "data": {
      "image/png": "[encoded data removed]",
      "text/plain": [
       "<Figure size 576x432 with 1 Axes>"
      ]
     },
     "metadata": {},
     "output_type": "display_data"
    }
   ],
   "source": [
    "numerical_info('transactionAmount')"
   ]
  },
  {
   "cell_type": "code",
   "execution_count": 220,
   "metadata": {},
   "outputs": [
    {
     "data": {
      "text/plain": [
       "<matplotlib.legend.Legend at 0x1d7f3f95b00>"
      ]
     },
     "execution_count": 220,
     "metadata": {},
     "output_type": "execute_result"
    },
    {
     "data": {
      "image/png": "[encoded data removed]",
      "text/plain": [
       "<Figure size 720x576 with 1 Axes>"
      ]
     },
     "metadata": {},
     "output_type": "display_data"
    }
   ],
   "source": [
    "sns.set(rc={'figure.figsize':(10, 8)})\n",
    "expo_lambda = 0.008\n",
    "\n",
    "def simulate_expo_distribution(expo_lambda):\n",
    "    '''\n",
    "    Simulate exponential distribution\n",
    "    Input: int - expo_lambda parameter for exponential distribution\n",
    "    '''\n",
    "    expo_dist = expo_lambda*np.exp(-expo_lambda*np.array(range(0, int(max(data_df['transactionAmount'])))))\n",
    "    return expo_dist\n",
    "\n",
    "expo_dist = simulate_expo_distribution(expo_lambda)\n",
    "sns.distplot(data_df['transactionAmount'], bins=50, kde=False, norm_hist=True)\n",
    "plt.plot(expo_dist,c = 'r',label = 'Exponential distribution')\n",
    "plt.legend()"
   ]
  },
  {
   "cell_type": "markdown",
   "metadata": {},
   "source": [
    "All numerical variables will be used in training. Because of common sense, these are all related if the transaction will be Fraud. While there are correlations between them, such as availableMoney and currentBalance, we will analyze these later, when we construct model."
   ]
  },
  {
   "cell_type": "markdown",
   "metadata": {},
   "source": [
    "<a id='3.3'></a>\n",
    "## 4.3 New variables\n",
    "***"
   ]
  },
  {
   "cell_type": "markdown",
   "metadata": {},
   "source": [
    "### 4.3.1. Number of days between day_transaction_AddressChange and transactionDateTime**"
   ]
  },
  {
   "cell_type": "code",
   "execution_count": 221,
   "metadata": {},
   "outputs": [],
   "source": [
    "data_df['day_transaction_AddressChange'] = data_df.\\\n",
    "    apply(lambda x: abs((x['transactionDateTime'] - x['dateOfLastAddressChange']).days), axis = 1)"
   ]
  },
  {
   "cell_type": "code",
   "execution_count": 222,
   "metadata": {},
   "outputs": [
    {
     "data": {
      "text/plain": [
       "count    12417.000000\n",
       "mean       417.214545\n",
       "std        656.859475\n",
       "min          0.000000\n",
       "25%         24.000000\n",
       "50%        127.000000\n",
       "75%        557.000000\n",
       "max       9890.000000\n",
       "Name: day_transaction_AddressChange, dtype: float64"
      ]
     },
     "execution_count": 222,
     "metadata": {},
     "output_type": "execute_result"
    }
   ],
   "source": [
    "data_df[data_df['isFraud'] == True]['day_transaction_AddressChange'].describe()"
   ]
  },
  {
   "cell_type": "code",
   "execution_count": 223,
   "metadata": {},
   "outputs": [
    {
     "data": {
      "text/plain": [
       "count    773946.000000\n",
       "mean        448.798443\n",
       "std         663.797336\n",
       "min           0.000000\n",
       "25%          29.000000\n",
       "50%         160.000000\n",
       "75%         613.000000\n",
       "max        9990.000000\n",
       "Name: day_transaction_AddressChange, dtype: float64"
      ]
     },
     "execution_count": 223,
     "metadata": {},
     "output_type": "execute_result"
    }
   ],
   "source": [
    "data_df[data_df['isFraud'] == False]['day_transaction_AddressChange'].describe()"
   ]
  },
  {
   "cell_type": "code",
   "execution_count": 224,
   "metadata": {},
   "outputs": [
    {
     "ename": "AttributeError",
     "evalue": "module 'seaborn' has no attribute 'catplot'",
     "output_type": "error",
     "traceback": [
      "\u001b[1;31m---------------------------------------------------------------------------\u001b[0m",
      "\u001b[1;31mAttributeError\u001b[0m                            Traceback (most recent call last)",
      "\u001b[1;32m<ipython-input-224-2ca0eb1fbca5>\u001b[0m in \u001b[0;36m<module>\u001b[1;34m()\u001b[0m\n\u001b[0;32m      1\u001b[0m \u001b[1;31m# we can see when the day_transaction_AddressChange value is large,\u001b[0m\u001b[1;33m\u001b[0m\u001b[1;33m\u001b[0m\u001b[0m\n\u001b[0;32m      2\u001b[0m \u001b[1;31m# the transaction tends not to be a Fraud.\u001b[0m\u001b[1;33m\u001b[0m\u001b[1;33m\u001b[0m\u001b[0m\n\u001b[1;32m----> 3\u001b[1;33m \u001b[0msns\u001b[0m\u001b[1;33m.\u001b[0m\u001b[0mcatplot\u001b[0m\u001b[1;33m(\u001b[0m\u001b[0mx\u001b[0m\u001b[1;33m=\u001b[0m\u001b[1;34m\"isFraud\"\u001b[0m\u001b[1;33m,\u001b[0m \u001b[0my\u001b[0m\u001b[1;33m=\u001b[0m\u001b[1;34m\"day_transaction_AddressChange\"\u001b[0m\u001b[1;33m,\u001b[0m \u001b[0mdata\u001b[0m\u001b[1;33m=\u001b[0m\u001b[0mdata_df\u001b[0m\u001b[1;33m)\u001b[0m\u001b[1;33m;\u001b[0m\u001b[1;33m\u001b[0m\u001b[0m\n\u001b[0m",
      "\u001b[1;31mAttributeError\u001b[0m: module 'seaborn' has no attribute 'catplot'"
     ]
    }
   ],
   "source": [
    "# we can see when the day_transaction_AddressChange value is large,\n",
    "# the transaction tends not to be a Fraud. \n",
    "sns.catplot(x=\"isFraud\", y=\"day_transaction_AddressChange\", data=data_df);"
   ]
  },
  {
   "cell_type": "markdown",
   "metadata": {},
   "source": [
    "### 4.3.2 If cardCVV and enteredCVV are matched**\n",
    "becasue if they are not matched, they probably are Fraud. "
   ]
  },
  {
   "cell_type": "code",
   "execution_count": 233,
   "metadata": {},
   "outputs": [
    {
     "name": "stdout",
     "output_type": "stream",
     "text": [
      "The number of unique matched_CVV : 2\n",
      "True     779348\n",
      "False      7015\n",
      "Name: matched_CVV, dtype: int64\n"
     ]
    }
   ],
   "source": [
    "data_df['matched_CVV'] = data_df.apply(lambda x: x['cardCVV'] == x['enteredCVV'], axis =1)\n",
    "print('The number of unique matched_CVV : {}'.format(len(data_df['matched_CVV'].unique())))\n",
    "print(data_df['matched_CVV'].value_counts())"
   ]
  },
  {
   "cell_type": "code",
   "execution_count": 234,
   "metadata": {},
   "outputs": [],
   "source": [
    "data_df['matched_CVV'] =data_df['matched_CVV'].factorize(sort=True)[0]"
   ]
  },
  {
   "cell_type": "code",
   "execution_count": 235,
   "metadata": {},
   "outputs": [
    {
     "name": "stdout",
     "output_type": "stream",
     "text": [
      "There are total 779348 transactions in our data.\n",
      "Is Fraud:\n",
      "Count: 12214\n",
      "Proportion: 1.5699999999999998%\n",
      "Not Fraud:\n",
      "Count: 767134\n",
      "Proportion: 98.42999999999999%\n"
     ]
    },
    {
     "data": {
      "image/png": "[encoded data removed]",
      "text/plain": [
       "<Figure size 360x360 with 1 Axes>"
      ]
     },
     "metadata": {},
     "output_type": "display_data"
    }
   ],
   "source": [
    "target_info(data_df[data_df['matched_CVV'] == True].isFraud)"
   ]
  },
  {
   "cell_type": "code",
   "execution_count": 236,
   "metadata": {},
   "outputs": [
    {
     "name": "stdout",
     "output_type": "stream",
     "text": [
      "There are total 7015 transactions in our data.\n",
      "Is Fraud:\n",
      "Count: 203\n",
      "Proportion: 2.8899999999999997%\n",
      "Not Fraud:\n",
      "Count: 6812\n",
      "Proportion: 97.11%\n"
     ]
    },
    {
     "data": {
      "image/png": "[encoded data removed]",
      "text/plain": [
       "<Figure size 360x360 with 1 Axes>"
      ]
     },
     "metadata": {},
     "output_type": "display_data"
    }
   ],
   "source": [
    "# we can see when the matched_CVV is False, the transaction tends not to be a Fraud. \n",
    "target_info(data_df[data_df['matched_CVV'] == False].isFraud) "
   ]
  },
  {
   "cell_type": "markdown",
   "metadata": {},
   "source": [
    "### 4.3.3. accountNumber Fraud history**\n",
    "- if the account has fraud in past seven days\n",
    "- if the account has fraud in past seven month\n",
    "- if the account has fraud in past 3-month"
   ]
  },
  {
   "cell_type": "code",
   "execution_count": 237,
   "metadata": {},
   "outputs": [],
   "source": [
    "def create_feature_use_rolling_window(df, rolling_window):\n",
    "    '''\n",
    "    Calculate if the account has fraud before based on different rolling window\n",
    "    Input: dataframe after group by, int - rolling_window\n",
    "    '''\n",
    "    \n",
    "    date_fraud = list(df[df['isFraud'] == True]['transaction_date'])\n",
    "    \n",
    "    relative_date_fraud = [date + datetime.timedelta(days=i) for date in date_fraud for i in range(rolling_window)]\n",
    "    relative_date_fraud = set(relative_date_fraud)\n",
    "    \n",
    "    df['rolling_window'] = df.apply(lambda x: 1 if x['transaction_date'] in relative_date_fraud else 0, axis = 1)\n",
    "    \n",
    "    return df[['rolling_window']]"
   ]
  },
  {
   "cell_type": "code",
   "execution_count": 238,
   "metadata": {},
   "outputs": [],
   "source": [
    "#data_df['rolling_window_7'] = data_df.groupby('accountNumber').\\\n",
    "#                                      apply(create_feature_use_rolling_window, rolling_window = 7)\n",
    "\n",
    "#data_df['rolling_window_30'] = data_df.groupby('accountNumber').\\\n",
    "#                                      apply(create_feature_use_rolling_window, rolling_window = 30)\n",
    "\n",
    "#data_df['rolling_window_90'] = data_df.groupby('accountNumber').\\\n",
    "#                                     apply(create_feature_use_rolling_window, rolling_window = 90)"
   ]
  },
  {
   "cell_type": "markdown",
   "metadata": {},
   "source": [
    "### 4.3.4. merchantName Fraud history**\n",
    "- if the merchant has fraud in past seven days\n",
    "- if the merchant has fraud in past seven month\n",
    "- if the merchant has fraud in past 3-month"
   ]
  },
  {
   "cell_type": "code",
   "execution_count": 239,
   "metadata": {},
   "outputs": [],
   "source": [
    "#data_df['merchant_rolling_window_7'] = data_df.groupby('merchantName').\\\n",
    "#                                               apply(create_feature_use_rolling_window, rolling_window = 7)\n",
    "\n",
    "#data_df['merchant_rolling_window_30'] = data_df.groupby('merchantName').\\\n",
    " #                                               apply(create_feature_use_rolling_window, rolling_window = 30)\n",
    "\n",
    "#data_df['merchant_rolling_window_90'] = data_df.groupby('merchantName').\\\n",
    " #                                               apply(create_feature_use_rolling_window, rolling_window = 90)"
   ]
  },
  {
   "cell_type": "markdown",
   "metadata": {},
   "source": [
    "<a id='4'></a>\n",
    "# 5. Model\n",
    "Fraud is a problem for any bank. Fraud can take many forms, whether it is someone stealing a single credit card, to large batches of stolen credit card numbers being used on the web, or even a mass compromise of credit card numbers stolen from a merchant via tools like credit card skimming devices.\n"
   ]
  },
  {
   "cell_type": "markdown",
   "metadata": {},
   "source": [
    "## 5.1 Feature engineering: one-hot encoding"
   ]
  },
  {
   "cell_type": "code",
   "execution_count": 240,
   "metadata": {},
   "outputs": [],
   "source": [
    "data_feature = data_df.copy()"
   ]
  },
  {
   "cell_type": "code",
   "execution_count": 241,
   "metadata": {},
   "outputs": [
    {
     "data": {
      "text/plain": [
       "['accountNumber',\n",
       " 'accountOpenDate',\n",
       " 'acqCountry',\n",
       " 'cardCVV',\n",
       " 'cardLast4Digits',\n",
       " 'currentExpDate',\n",
       " 'customerId',\n",
       " 'enteredCVV',\n",
       " 'merchantCategoryCode',\n",
       " 'merchantCountryCode',\n",
       " 'merchantName',\n",
       " 'posConditionCode',\n",
       " 'posEntryMode',\n",
       " 'transactionType',\n",
       " 'transaction_date',\n",
       " 'transaction_time']"
      ]
     },
     "execution_count": 241,
     "metadata": {},
     "output_type": "execute_result"
    }
   ],
   "source": [
    "list(data_feature.select_dtypes(include=[np.object]).columns.values)"
   ]
  },
  {
   "cell_type": "code",
   "execution_count": 242,
   "metadata": {},
   "outputs": [
    {
     "data": {
      "text/plain": [
       "['availableMoney',\n",
       " 'creditLimit',\n",
       " 'currentBalance',\n",
       " 'transactionAmount',\n",
       " 'transaction_day',\n",
       " 'day_transaction_AddressChange',\n",
       " 'matched_CVV']"
      ]
     },
     "execution_count": 242,
     "metadata": {},
     "output_type": "execute_result"
    }
   ],
   "source": [
    "list(data_feature.select_dtypes(include=[np.number]).columns.values)"
   ]
  },
  {
   "cell_type": "markdown",
   "metadata": {},
   "source": [
    "Besides adding new features, we need to transform categorical data into one-hot encoding and normalize numerical data"
   ]
  },
  {
   "cell_type": "code",
   "execution_count": 243,
   "metadata": {},
   "outputs": [],
   "source": [
    "one_hot_en = ['acqCountry', \n",
    "              'merchantCountryCode', \n",
    "              'posConditionCode', \n",
    "              'posEntryMode', \n",
    "              'transactionType', \n",
    "              'expirationDateKeyInMatch', \n",
    "              'merchantCategoryCode', \n",
    "              'cardPresent']"
   ]
  },
  {
   "cell_type": "code",
   "execution_count": 244,
   "metadata": {},
   "outputs": [],
   "source": [
    "def one_hot(df, one_hot_en_list):\n",
    "    ''''''\n",
    "    dummy_column_name = []\n",
    "    for column_name in one_hot_en_list:\n",
    "        dummy_col = pd.get_dummies(df[column_name])\n",
    "        dummy_col.columns = [str(column_name) + '_' + str(name) for name in list(dummy_col.columns)]\n",
    "        dummy_column_name.append(list(dummy_col.columns))\n",
    "        df = df.join(dummy_col)\n",
    "    return df, dummy_column_name"
   ]
  },
  {
   "cell_type": "code",
   "execution_count": 245,
   "metadata": {},
   "outputs": [],
   "source": [
    "data_feature, dummy_column_name = one_hot(data_feature, one_hot_en)"
   ]
  },
  {
   "cell_type": "code",
   "execution_count": 127,
   "metadata": {},
   "outputs": [],
   "source": []
  },
  {
   "cell_type": "code",
   "execution_count": 246,
   "metadata": {},
   "outputs": [
    {
     "name": "stdout",
     "output_type": "stream",
     "text": [
      "53\n"
     ]
    }
   ],
   "source": [
    "dummy_column_name = [name for name_list in dummy_column_name for name in name_list]\n",
    "# numerical features and new features\n",
    "features = ['availableMoney', 'creditLimit', 'currentBalance', \n",
    "            'transactionAmount', 'day_transaction_AddressChange','matched_CVV'] \n",
    "features.extend(dummy_column_name)\n",
    "print(len(features)) # total number of features"
   ]
  },
  {
   "cell_type": "markdown",
   "metadata": {},
   "source": [
    "### is there any correlation between features?"
   ]
  },
  {
   "cell_type": "code",
   "execution_count": 247,
   "metadata": {},
   "outputs": [
    {
     "data": {
      "text/plain": [
       "Text(0.5,1,'Heatmap of Correlation')"
      ]
     },
     "execution_count": 247,
     "metadata": {},
     "output_type": "execute_result"
    },
    {
     "data": {
      "image/png": "[encoded data removed]",
      "text/plain": [
       "<Figure size 864x720 with 2 Axes>"
      ]
     },
     "metadata": {},
     "output_type": "display_data"
    }
   ],
   "source": [
    "# Heatmap\n",
    "corr = data_feature[features].corr()\n",
    "plt.figure(figsize=(12,10))\n",
    "heat = sns.heatmap(data=corr,cmap=\"YlGnBu\")\n",
    "plt.title('Heatmap of Correlation')\n",
    "# although this heat map doesn't show all columns in features\n",
    "# from the graph and our analysis, there are some correlations between the variables\n",
    "# for now, I wouldn't process dimension reduction and feature selection due to the time limit\n",
    "# If I have more time, I would like to finish this part."
   ]
  },
  {
   "cell_type": "markdown",
   "metadata": {},
   "source": [
    "## 5.2 Train - Test data split"
   ]
  },
  {
   "cell_type": "code",
   "execution_count": 248,
   "metadata": {},
   "outputs": [
    {
     "name": "stdout",
     "output_type": "stream",
     "text": [
      "(786363, 75)\n"
     ]
    }
   ],
   "source": [
    "data_model = data_feature.copy()\n",
    "data_model['isFraud'] = data_model['isFraud'].apply(lambda x: 1 if x == True else 0)\n",
    "print(data_model.shape)"
   ]
  },
  {
   "cell_type": "markdown",
   "metadata": {},
   "source": [
    "Because in reality, we can't use future data to predict if the current transaction is fraud, we split data by date. Otherwise, the training data information will be leaking into test data. \n",
    "* train: 2016-01-01 to 2016-09-30\n",
    "* test: 2016-10-01 to 2016-12-31"
   ]
  },
  {
   "cell_type": "code",
   "execution_count": 249,
   "metadata": {},
   "outputs": [],
   "source": [
    "data_df_before_10 =data_model[data_model['transaction_date']<datetime.date(2016,10, 1)]\n",
    "data_df_after_10=data_model[data_model['transaction_date']>=datetime.date(2016,10, 1)]"
   ]
  },
  {
   "cell_type": "code",
   "execution_count": 250,
   "metadata": {},
   "outputs": [],
   "source": [
    "X_train = data_df_before_10[features]\n",
    "y_train = data_df_before_10['isFraud']\n",
    "\n",
    "X_test = data_df_after_10[features]\n",
    "y_test = data_df_after_10['isFraud']"
   ]
  },
  {
   "cell_type": "code",
   "execution_count": 251,
   "metadata": {},
   "outputs": [
    {
     "name": "stdout",
     "output_type": "stream",
     "text": [
      "There are total 206700 transactions in our data.\n",
      "Is Fraud:\n",
      "Count: 3046\n",
      "Proportion: 1.47%\n",
      "Not Fraud:\n",
      "Count: 203654\n",
      "Proportion: 98.53%\n"
     ]
    },
    {
     "data": {
      "image/png": "[encoded data removed]",
      "text/plain": [
       "<Figure size 360x360 with 1 Axes>"
      ]
     },
     "metadata": {},
     "output_type": "display_data"
    }
   ],
   "source": [
    "target_info(y_test) # proportion is same with the whole dataset/population"
   ]
  },
  {
   "cell_type": "code",
   "execution_count": 252,
   "metadata": {},
   "outputs": [
    {
     "name": "stdout",
     "output_type": "stream",
     "text": [
      "There are total 579663 transactions in our data.\n",
      "Is Fraud:\n",
      "Count: 9371\n",
      "Proportion: 1.6199999999999999%\n",
      "Not Fraud:\n",
      "Count: 570292\n",
      "Proportion: 98.38%\n"
     ]
    },
    {
     "data": {
      "image/png": "[encoded data removed]",
      "text/plain": [
       "<Figure size 360x360 with 1 Axes>"
      ]
     },
     "metadata": {},
     "output_type": "display_data"
    }
   ],
   "source": [
    "target_info(y_train) # we need to sample train dataset in order to having a balanced dataset."
   ]
  },
  {
   "cell_type": "markdown",
   "metadata": {},
   "source": [
    "### scale numeric data"
   ]
  },
  {
   "cell_type": "code",
   "execution_count": 253,
   "metadata": {},
   "outputs": [],
   "source": [
    "numeric_features = ['availableMoney', 'creditLimit', 'currentBalance', \n",
    "                    'transactionAmount', 'day_transaction_AddressChange']"
   ]
  },
  {
   "cell_type": "code",
   "execution_count": 254,
   "metadata": {},
   "outputs": [],
   "source": [
    "sc = StandardScaler()\n",
    "X_train[numeric_features] = sc.fit_transform(X_train[numeric_features])\n",
    "X_test[numeric_features] = sc.transform(X_test[numeric_features])"
   ]
  },
  {
   "cell_type": "markdown",
   "metadata": {},
   "source": [
    "## 5.3 Random undersample imbalanced training data"
   ]
  },
  {
   "cell_type": "code",
   "execution_count": 255,
   "metadata": {},
   "outputs": [],
   "source": [
    "X_train_undersample = X_train.copy()"
   ]
  },
  {
   "cell_type": "code",
   "execution_count": 256,
   "metadata": {},
   "outputs": [
    {
     "name": "stdout",
     "output_type": "stream",
     "text": [
      "(9371, 54)\n",
      "(570292, 54)\n"
     ]
    }
   ],
   "source": [
    "X_train_undersample = pd.DataFrame(X_train_undersample)\n",
    "X_train_undersample['isFraud'] = y_train\n",
    "Is_Fraud_df = X_train_undersample[X_train_undersample['isFraud'] == True]\n",
    "Not_Fraud_df = X_train_undersample[X_train_undersample['isFraud'] == False]\n",
    "print(Is_Fraud_df.shape)\n",
    "print(Not_Fraud_df.shape)"
   ]
  },
  {
   "cell_type": "code",
   "execution_count": 257,
   "metadata": {},
   "outputs": [
    {
     "name": "stdout",
     "output_type": "stream",
     "text": [
      "(9371, 54)\n"
     ]
    }
   ],
   "source": [
    "Not_Fraud_df = Not_Fraud_df.sample(Is_Fraud_df.shape[0], random_state=0)\n",
    "print(Not_Fraud_df.shape)"
   ]
  },
  {
   "cell_type": "code",
   "execution_count": 258,
   "metadata": {},
   "outputs": [
    {
     "name": "stdout",
     "output_type": "stream",
     "text": [
      "(18742, 54)\n"
     ]
    }
   ],
   "source": [
    "X_train_undersample = Is_Fraud_df.append(Not_Fraud_df)\n",
    "X_train_undersample = shuffle(X_train_undersample)\n",
    "print(X_train_undersample.shape)"
   ]
  },
  {
   "cell_type": "code",
   "execution_count": 259,
   "metadata": {},
   "outputs": [
    {
     "name": "stdout",
     "output_type": "stream",
     "text": [
      "(18742, 53)\n",
      "(18742,)\n",
      "There are total 18742 transactions in our data.\n",
      "Is Fraud:\n",
      "Count: 9371\n",
      "Proportion: 50.0%\n",
      "Not Fraud:\n",
      "Count: 9371\n",
      "Proportion: 50.0%\n"
     ]
    },
    {
     "data": {
      "image/png": "[encoded data removed]",
      "text/plain": [
       "<Figure size 360x360 with 1 Axes>"
      ]
     },
     "metadata": {},
     "output_type": "display_data"
    }
   ],
   "source": [
    "y_train_undersample = X_train_undersample['isFraud']\n",
    "X_train_undersample = X_train_undersample.drop(columns = ['isFraud'])\n",
    "print(X_train_undersample.shape)\n",
    "print(y_train_undersample.shape)\n",
    "target_info(y_train_undersample) # balance"
   ]
  },
  {
   "cell_type": "markdown",
   "metadata": {},
   "source": [
    "### Models Picking"
   ]
  },
  {
   "cell_type": "code",
   "execution_count": 315,
   "metadata": {},
   "outputs": [],
   "source": [
    "# spot check some basic Classification algorithms\n",
    "#Given Data is huge, some of the slower classification algorithms are commented\n",
    "models = []\n",
    "models.append(('LR', LogisticRegression()))\n",
    "models.append(('LDA', LinearDiscriminantAnalysis()))\n",
    "#models.append(('KNN', KNeighborsClassifier()))\n",
    "models.append(('CART', DecisionTreeClassifier()))\n",
    "models.append(('NB', GaussianNB()))\n",
    "models.append(('SVM', SVC()))\n",
    "#Neural Network\n",
    "models.append(('NN', MLPClassifier()))\n",
    "#Ensable Models \n",
    "# Boosting methods\n",
    "models.append(('AB', AdaBoostClassifier()))\n",
    "models.append(('GBM', GradientBoostingClassifier()))\n",
    "# # Bagging methods\n",
    "models.append(('RF', RandomForestClassifier()))\n",
    "#models.append(('ET', ExtraTreesClassifier()))"
   ]
  },
  {
   "cell_type": "code",
   "execution_count": 274,
   "metadata": {},
   "outputs": [],
   "source": [
    "scoring = 'accuracy'"
   ]
  },
  {
   "cell_type": "code",
   "execution_count": 275,
   "metadata": {},
   "outputs": [
    {
     "name": "stdout",
     "output_type": "stream",
     "text": [
      "LR: 0.682319 (0.010948)\n",
      "LDA: 0.681732 (0.010112)\n",
      "KNN: 0.663910 (0.008667)\n",
      "CART: 0.613916 (0.012741)\n",
      "NB: 0.554744 (0.009461)\n",
      "SVM: 0.693736 (0.010179)\n",
      "NN: 0.696138 (0.011399)\n",
      "AB: 0.686747 (0.007326)\n",
      "GBM: 0.695817 (0.010530)\n",
      "RF: 0.696031 (0.008802)\n",
      "ET: 0.677356 (0.007848)\n"
     ]
    }
   ],
   "source": [
    "num_folds = 10\n",
    "seed = 7\n",
    "results = []\n",
    "names = []\n",
    "for name, model in models:\n",
    "    kfold = KFold(n_splits=num_folds, random_state=seed)\n",
    "    cv_results = cross_val_score(model, X_train_undersample, y_train_undersample, cv=kfold, scoring=scoring)\n",
    "    results.append(cv_results)\n",
    "    names.append(name)\n",
    "    msg = \"%s: %f (%f)\" % (name, cv_results.mean(), cv_results.std())\n",
    "    print(msg)"
   ]
  },
  {
   "cell_type": "code",
   "execution_count": 291,
   "metadata": {},
   "outputs": [
    {
     "data": {
      "image/png": "[encoded data removed]",
      "text/plain": [
       "<Figure size 864x360 with 1 Axes>"
      ]
     },
     "metadata": {},
     "output_type": "display_data"
    }
   ],
   "source": [
    "# compare algorithms\n",
    "fig = plt.figure()\n",
    "fig.suptitle('Algorithm Comparison')\n",
    "ax = fig.add_subplot(111)\n",
    "plt.boxplot(results)\n",
    "ax.set_xticklabels(names)\n",
    "fig.set_size_inches(12,5)\n",
    "plt.show()"
   ]
  },
  {
   "cell_type": "markdown",
   "metadata": {},
   "source": [
    "The overall accuracy is pretty low, Neural Network, SVM and ensemble method performs better"
   ]
  },
  {
   "cell_type": "markdown",
   "metadata": {},
   "source": [
    "### Evaluation"
   ]
  },
  {
   "cell_type": "code",
   "execution_count": 278,
   "metadata": {},
   "outputs": [
    {
     "data": {
      "text/plain": [
       "RandomForestClassifier()"
      ]
     },
     "execution_count": 278,
     "metadata": {},
     "output_type": "execute_result"
    }
   ],
   "source": [
    "model = RandomForestClassifier()\n",
    "model.fit(X_train_undersample, y_train_undersample)"
   ]
  },
  {
   "cell_type": "code",
   "execution_count": 279,
   "metadata": {},
   "outputs": [
    {
     "name": "stdout",
     "output_type": "stream",
     "text": [
      "0.7170198355104015\n",
      "[[146181  57473]\n",
      " [  1019   2027]]\n",
      "              precision    recall  f1-score   support\n",
      "\n",
      "           0       0.99      0.72      0.83    203654\n",
      "           1       0.03      0.67      0.06      3046\n",
      "\n",
      "    accuracy                           0.72    206700\n",
      "   macro avg       0.51      0.69      0.45    206700\n",
      "weighted avg       0.98      0.72      0.82    206700\n",
      "\n"
     ]
    }
   ],
   "source": [
    "# estimate accuracy on validation set\n",
    "#rescaledValidationX = scaler.transform(X_validation)\n",
    "predictions = model.predict(X_test)\n",
    "print(accuracy_score(y_test, predictions))\n",
    "print(confusion_matrix(y_test, predictions))\n",
    "print(classification_report(y_test, predictions))"
   ]
  },
  {
   "cell_type": "code",
   "execution_count": 285,
   "metadata": {},
   "outputs": [
    {
     "name": "stdout",
     "output_type": "stream",
     "text": [
      "              precision    recall  f1-score   support\n",
      "\n",
      "           0       0.99      0.99      0.99    203654\n",
      "           1       0.08      0.08      0.08      3046\n",
      "\n",
      "    accuracy                           0.97    206700\n",
      "   macro avg       0.53      0.53      0.53    206700\n",
      "weighted avg       0.97      0.97      0.97    206700\n",
      "\n"
     ]
    }
   ],
   "source": [
    "# change the probability threshold to only flag the fraud cases that we are certain\n",
    "test_y_score = model.predict_proba(X_test)[:, 1]\n",
    "test_y_preds = np.where(test_y_score>0.9, 1, 0)\n",
    "print(classification_report(y_test, test_y_preds))"
   ]
  },
  {
   "cell_type": "code",
   "execution_count": 1,
   "metadata": {},
   "outputs": [
    {
     "ename": "NameError",
     "evalue": "name 'confusion_matrix' is not defined",
     "output_type": "error",
     "traceback": [
      "\u001b[1;31m---------------------------------------------------------------------------\u001b[0m",
      "\u001b[1;31mNameError\u001b[0m                                 Traceback (most recent call last)",
      "\u001b[1;32m<ipython-input-1-53a804405741>\u001b[0m in \u001b[0;36m<module>\u001b[1;34m()\u001b[0m\n\u001b[1;32m----> 1\u001b[1;33m \u001b[0mtn\u001b[0m\u001b[1;33m,\u001b[0m \u001b[0mfp\u001b[0m\u001b[1;33m,\u001b[0m \u001b[0mfn\u001b[0m\u001b[1;33m,\u001b[0m \u001b[0mtp\u001b[0m \u001b[1;33m=\u001b[0m \u001b[0mconfusion_matrix\u001b[0m\u001b[1;33m(\u001b[0m\u001b[0my_test\u001b[0m\u001b[1;33m,\u001b[0m \u001b[0mpredictions\u001b[0m\u001b[1;33m)\u001b[0m\u001b[1;33m.\u001b[0m\u001b[0mravel\u001b[0m\u001b[1;33m(\u001b[0m\u001b[1;33m)\u001b[0m\u001b[1;33m\u001b[0m\u001b[0m\n\u001b[0m",
      "\u001b[1;31mNameError\u001b[0m: name 'confusion_matrix' is not defined"
     ]
    }
   ],
   "source": [
    "tn, fp, fn, tp = confusion_matrix(y_test, predictions).ravel()\n"
   ]
  },
  {
   "cell_type": "code",
   "execution_count": 311,
   "metadata": {},
   "outputs": [],
   "source": [
    "#oversample = SMOTE(k_neighbors=5)\n",
    "#X_train_smote, y_train_smote = oversample.fit_resample(X_train, y_train)\n"
   ]
  },
  {
   "cell_type": "code",
   "execution_count": 312,
   "metadata": {},
   "outputs": [],
   "source": []
  },
  {
   "cell_type": "code",
   "execution_count": null,
   "metadata": {},
   "outputs": [],
   "source": []
  },
  {
   "cell_type": "code",
   "execution_count": null,
   "metadata": {},
   "outputs": [],
   "source": []
  },
  {
   "cell_type": "code",
   "execution_count": 155,
   "metadata": {},
   "outputs": [],
   "source": [
    "tn, fp, fn, tp = confusion_matrix(y_test, test_y_preds).ravel()\n"
   ]
  },
  {
   "cell_type": "code",
   "execution_count": null,
   "metadata": {},
   "outputs": [],
   "source": [
    "sum(test_y_preds==1)"
   ]
  },
  {
   "cell_type": "code",
   "execution_count": 161,
   "metadata": {},
   "outputs": [
    {
     "data": {
      "text/plain": [
       "2781"
      ]
     },
     "execution_count": 161,
     "metadata": {},
     "output_type": "execute_result"
    }
   ],
   "source": [
    "sum(y_test==1)"
   ]
  },
  {
   "cell_type": "code",
   "execution_count": 156,
   "metadata": {},
   "outputs": [
    {
     "data": {
      "text/plain": [
       "152963"
      ]
     },
     "execution_count": 156,
     "metadata": {},
     "output_type": "execute_result"
    }
   ],
   "source": [
    "tn"
   ]
  },
  {
   "cell_type": "code",
   "execution_count": 157,
   "metadata": {},
   "outputs": [
    {
     "data": {
      "text/plain": [
       "907"
      ]
     },
     "execution_count": 157,
     "metadata": {},
     "output_type": "execute_result"
    }
   ],
   "source": [
    "tp"
   ]
  },
  {
   "cell_type": "code",
   "execution_count": 158,
   "metadata": {},
   "outputs": [
    {
     "data": {
      "text/plain": [
       "14620"
      ]
     },
     "execution_count": 158,
     "metadata": {},
     "output_type": "execute_result"
    }
   ],
   "source": [
    "fp"
   ]
  },
  {
   "cell_type": "code",
   "execution_count": 159,
   "metadata": {},
   "outputs": [
    {
     "data": {
      "text/plain": [
       "1874"
      ]
     },
     "execution_count": 159,
     "metadata": {},
     "output_type": "execute_result"
    }
   ],
   "source": [
    "fn"
   ]
  },
  {
   "cell_type": "code",
   "execution_count": 162,
   "metadata": {},
   "outputs": [
    {
     "data": {
      "text/plain": [
       "0.32614167565623875"
      ]
     },
     "execution_count": 162,
     "metadata": {},
     "output_type": "execute_result"
    }
   ],
   "source": [
    "907/2781"
   ]
  },
  {
   "cell_type": "code",
   "execution_count": 163,
   "metadata": {},
   "outputs": [
    {
     "data": {
      "text/plain": [
       "0.058414374959747536"
      ]
     },
     "execution_count": 163,
     "metadata": {},
     "output_type": "execute_result"
    }
   ],
   "source": [
    "907/(14620+907)"
   ]
  },
  {
   "cell_type": "code",
   "execution_count": null,
   "metadata": {},
   "outputs": [],
   "source": []
  },
  {
   "cell_type": "code",
   "execution_count": 168,
   "metadata": {},
   "outputs": [
    {
     "name": "stdout",
     "output_type": "stream",
     "text": [
      "             precision    recall  f1-score   support\n",
      "\n",
      "   No Fraud       0.99      0.68      0.81    167583\n",
      "      Fraud       0.03      0.71      0.07      2781\n",
      "\n",
      "avg / total       0.98      0.68      0.79    170364\n",
      "\n",
      "The total test time: 0.09302\n"
     ]
    }
   ],
   "source": [
    "logistic_reg_predict_SMOTE = logistic_reg_SMOTE.predict()"
   ]
  },
  {
   "cell_type": "code",
   "execution_count": 178,
   "metadata": {},
   "outputs": [
    {
     "name": "stdout",
     "output_type": "stream",
     "text": [
      "             precision    recall  f1-score   support\n",
      "\n",
      "          0       0.99      0.73      0.84    167583\n",
      "          1       0.04      0.67      0.07      2781\n",
      "\n",
      "avg / total       0.98      0.73      0.83    170364\n",
      "\n"
     ]
    }
   ],
   "source": [
    "ann_predicted = ann.predict_classes(X_test)\n",
    "print(classification_report(y_test, ann_predicted))"
   ]
  },
  {
   "cell_type": "code",
   "execution_count": 181,
   "metadata": {},
   "outputs": [
    {
     "name": "stdout",
     "output_type": "stream",
     "text": [
      "             precision    recall  f1-score   support\n",
      "\n",
      "          0       0.99      0.97      0.98    167583\n",
      "          1       0.08      0.15      0.10      2781\n",
      "\n",
      "avg / total       0.97      0.96      0.96    170364\n",
      "\n"
     ]
    }
   ],
   "source": [
    "test_y_score = ann.predict_proba(X_test)\n",
    "test_y_preds = np.where(test_y_score>0.79, 1, 0)\n",
    "print(classification_report(y_test, test_y_preds))"
   ]
  },
  {
   "cell_type": "markdown",
   "metadata": {},
   "source": [
    "### Our goal is to detect every fraud which means that we don't missing any Fraud, so I think here recall is more important than other metric. Thus, I adjust the logistic regression threshold to see if it can increase the recall. As we can see f1 for fraud class increased from 0.07 to 0.1. However, this is not feasible in reality, because we can't know the test data label then to adjust the thresold. Overall, all models here didn't perform very well, because they have a low ability to detect Fraud."
   ]
  },
  {
   "cell_type": "markdown",
   "metadata": {},
   "source": [
    "## 3) Please explain your methodology (modeling algorithm/method used and why, what features/data you found useful, what questions you have, and what you would do next with more time)"
   ]
  },
  {
   "cell_type": "markdown",
   "metadata": {},
   "source": [
    "### modeling algorithm/method used and why"
   ]
  },
  {
   "cell_type": "markdown",
   "metadata": {},
   "source": [
    "#### Logistic Regression:\n",
    "\n",
    "- Logistic regression is fast and effective, easy to implement, it is a good baseline model.\n",
    "- Logistic regression outputs have a nice probabilistic interpretation, we can also tune the probability threshold to determine if we want to reduce more false postive or false negative\n",
    "- Logisic regression is good at dealing with binary classification problem."
   ]
  },
  {
   "cell_type": "markdown",
   "metadata": {},
   "source": [
    "#### Neural Networks: \n",
    "- NNs have the ability to learn and model non-linear and complex relationships\n",
    "- NNS can generalize, after learning from the initial inputs and their relationships, it can infer unseen relationships on unseen data as well, thus making the model generalize and predict on unseen data.\n",
    "- NNs don't impose any restrictions on the input variables (like how they should be distributed).\n",
    "- NNs can significantly outperform other models given lots of high quality labeled data."
   ]
  },
  {
   "cell_type": "markdown",
   "metadata": {},
   "source": [
    "### what features/data you found useful"
   ]
  },
  {
   "cell_type": "code",
   "execution_count": 287,
   "metadata": {},
   "outputs": [
    {
     "ename": "AttributeError",
     "evalue": "'RandomForestClassifier' object has no attribute 'coef_'",
     "output_type": "error",
     "traceback": [
      "\u001b[1;31m---------------------------------------------------------------------------\u001b[0m",
      "\u001b[1;31mAttributeError\u001b[0m                            Traceback (most recent call last)",
      "\u001b[1;32m<ipython-input-287-cd56fe6ad9bc>\u001b[0m in \u001b[0;36m<module>\u001b[1;34m()\u001b[0m\n\u001b[1;32m----> 1\u001b[1;33m \u001b[0mfeature_importance\u001b[0m \u001b[1;33m=\u001b[0m \u001b[0mabs\u001b[0m\u001b[1;33m(\u001b[0m\u001b[0mmodel\u001b[0m\u001b[1;33m.\u001b[0m\u001b[0mcoef_\u001b[0m\u001b[1;33m[\u001b[0m\u001b[1;36m0\u001b[0m\u001b[1;33m]\u001b[0m\u001b[1;33m)\u001b[0m\u001b[1;33m\u001b[0m\u001b[0m\n\u001b[0m\u001b[0;32m      2\u001b[0m \u001b[0mfeature_importance\u001b[0m \u001b[1;33m=\u001b[0m \u001b[1;36m100.0\u001b[0m \u001b[1;33m*\u001b[0m \u001b[1;33m(\u001b[0m\u001b[0mfeature_importance\u001b[0m \u001b[1;33m/\u001b[0m \u001b[0mfeature_importance\u001b[0m\u001b[1;33m.\u001b[0m\u001b[0mmax\u001b[0m\u001b[1;33m(\u001b[0m\u001b[1;33m)\u001b[0m\u001b[1;33m)\u001b[0m\u001b[1;33m\u001b[0m\u001b[0m\n\u001b[0;32m      3\u001b[0m \u001b[0msorted_idx\u001b[0m \u001b[1;33m=\u001b[0m \u001b[0mnp\u001b[0m\u001b[1;33m.\u001b[0m\u001b[0margsort\u001b[0m\u001b[1;33m(\u001b[0m\u001b[0mfeature_importance\u001b[0m\u001b[1;33m)\u001b[0m\u001b[1;33m\u001b[0m\u001b[0m\n\u001b[0;32m      4\u001b[0m \u001b[0mpos\u001b[0m \u001b[1;33m=\u001b[0m \u001b[0mnp\u001b[0m\u001b[1;33m.\u001b[0m\u001b[0marange\u001b[0m\u001b[1;33m(\u001b[0m\u001b[0msorted_idx\u001b[0m\u001b[1;33m.\u001b[0m\u001b[0mshape\u001b[0m\u001b[1;33m[\u001b[0m\u001b[1;36m0\u001b[0m\u001b[1;33m]\u001b[0m\u001b[1;33m)\u001b[0m \u001b[1;33m+\u001b[0m \u001b[1;36m.5\u001b[0m\u001b[1;33m\u001b[0m\u001b[0m\n\u001b[0;32m      5\u001b[0m \u001b[1;33m\u001b[0m\u001b[0m\n",
      "\u001b[1;31mAttributeError\u001b[0m: 'RandomForestClassifier' object has no attribute 'coef_'"
     ]
    }
   ],
   "source": [
    "feature_importance = abs(model.coef_[0])\n",
    "feature_importance = 100.0 * (feature_importance / feature_importance.max())\n",
    "sorted_idx = np.argsort(feature_importance)\n",
    "pos = np.arange(sorted_idx.shape[0]) + .5\n",
    "\n",
    "\n",
    "featfig = plt.figure()\n",
    "featax = featfig.add_subplot(1, 1, 1)\n",
    "featax.barh(pos, feature_importance[sorted_idx], align='center')\n",
    "featax.set_yticks(pos)\n",
    "featax.set_yticklabels(np.array(X_train_undersample.columns)[sorted_idx], fontsize=8)\n",
    "featax.set_xlabel('Relative Feature Importance')\n",
    "\n",
    "plt.tight_layout()   \n",
    "plt.show()"
   ]
  },
  {
   "cell_type": "markdown",
   "metadata": {},
   "source": [
    "- The top influential features are from merchantCategoryCode, which is consistent in our analysis for Question 1. Different merchantCategoryCode have different Fraud proportion."
   ]
  }
 ],
 "metadata": {
  "kernelspec": {
   "display_name": "Python 3",
   "language": "python",
   "name": "python3"
  },
  "language_info": {
   "codemirror_mode": {
    "name": "ipython",
    "version": 3
   },
   "file_extension": ".py",
   "mimetype": "text/x-python",
   "name": "python",
   "nbconvert_exporter": "python",
   "pygments_lexer": "ipython3",
   "version": "3.6.5"
  }
 },
 "nbformat": 4,
 "nbformat_minor": 4
}
